{
 "cells": [
  {
   "cell_type": "code",
   "execution_count": null,
   "metadata": {},
   "outputs": [],
   "source": [
    "def f(a,x,y):\n",
    "    return(a+x+y)/3"
   ]
  },
  {
   "cell_type": "code",
   "execution_count": 6,
   "metadata": {},
   "outputs": [
    {
     "name": "stdout",
     "output_type": "stream",
     "text": [
      "Hej pal, du är 0\n",
      "Hej pal, du är 0\n",
      "Hej Chales, du är 20\n",
      "Hej pal, du är 0\n",
      "Hej pal, du är 200\n"
     ]
    }
   ],
   "source": [
    "#Default value \n",
    "\n",
    "def hello(number, name = \"pal\", age =0):\n",
    "    for i in range(number):\n",
    "        print(f\"Hej {name}, du är {age}\")\n",
    "    # no return -> void function\n",
    "    # return -> tillskriver variabelvärde\n",
    "\n",
    "hello(2)\n",
    "hello(1, \"Chales\", 20)\n",
    "\n",
    "hello(1)\n",
    "\n",
    "#Keyword arguments => age and nam, number => positional argument\n",
    "hello(1, age = 200) # använder default value\n",
    "\n",
    "#positional måste gå först, keyword arguments follow"
   ]
  },
  {
   "cell_type": "code",
   "execution_count": null,
   "metadata": {},
   "outputs": [],
   "source": []
  },
  {
   "cell_type": "code",
   "execution_count": 7,
   "metadata": {},
   "outputs": [
    {
     "data": {
      "text/plain": [
       "2"
      ]
     },
     "execution_count": 7,
     "metadata": {},
     "output_type": "execute_result"
    }
   ],
   "source": [
    "def word_counter(text =\"\"):\n",
    "    word_list = text.split()\n",
    "    return len(word_list)"
   ]
  },
  {
   "cell_type": "code",
   "execution_count": 8,
   "metadata": {},
   "outputs": [
    {
     "data": {
      "text/plain": [
       "3.0"
      ]
     },
     "execution_count": 8,
     "metadata": {},
     "output_type": "execute_result"
    }
   ],
   "source": [
    "# *args => arbitrary arguments\n",
    "\n",
    "def my_mean2(*numbers): #*number = går att lägga in hur många positional arguments som helst\n",
    "    sum_ = 0\n",
    "    for number in numbers:\n",
    "        sum_ += number\n",
    "    return sum_/len(numbers)\n",
    "\n",
    "my_mean2(1,2,3,4,5) # 5 argument går in\n",
    "\n",
    "# **kwargs => arbitrary keyword arguments"
   ]
  },
  {
   "cell_type": "code",
   "execution_count": 9,
   "metadata": {},
   "outputs": [
    {
     "data": {
      "text/plain": [
       "27"
      ]
     },
     "execution_count": 9,
     "metadata": {},
     "output_type": "execute_result"
    }
   ],
   "source": [
    "\"\"\" Lambda = anonymous functions\n",
    "bra att använda som argument för andra funktioner\n",
    "\"\"\"\n",
    "cuber = lambda x: x**3\n",
    "cuber(3)\n"
   ]
  },
  {
   "cell_type": "code",
   "execution_count": 2,
   "metadata": {},
   "outputs": [
    {
     "ename": "AttributeError",
     "evalue": "module 'matplotlib' has no attribute 'plot'",
     "output_type": "error",
     "traceback": [
      "\u001b[0;31m---------------------------------------------------------------------------\u001b[0m",
      "\u001b[0;31mAttributeError\u001b[0m                            Traceback (most recent call last)",
      "\u001b[1;32m/Users/helvetica/Python-William-Lindstedt/Code-alongs/L6-function.ipynb Cell 7\u001b[0m in \u001b[0;36m<cell line: 14>\u001b[0;34m()\u001b[0m\n\u001b[1;32m     <a href='vscode-notebook-cell:/Users/helvetica/Python-William-Lindstedt/Code-alongs/L6-function.ipynb#W6sZmlsZQ%3D%3D?line=10'>11</a>\u001b[0m \u001b[39m# TODO find intersection point and plot it\u001b[39;00m\n\u001b[1;32m     <a href='vscode-notebook-cell:/Users/helvetica/Python-William-Lindstedt/Code-alongs/L6-function.ipynb#W6sZmlsZQ%3D%3D?line=12'>13</a>\u001b[0m x \u001b[39m=\u001b[39m \u001b[39mlist\u001b[39m(\u001b[39mrange\u001b[39m(\u001b[39m-\u001b[39m\u001b[39m10\u001b[39m,\u001b[39m10\u001b[39m))\n\u001b[0;32m---> <a href='vscode-notebook-cell:/Users/helvetica/Python-William-Lindstedt/Code-alongs/L6-function.ipynb#W6sZmlsZQ%3D%3D?line=13'>14</a>\u001b[0m draw_lines(x, title \u001b[39m=\u001b[39;49m \u001b[39m\"\u001b[39;49m\u001b[39mLine\u001b[39;49m\u001b[39m\"\u001b[39;49m)\n\u001b[1;32m     <a href='vscode-notebook-cell:/Users/helvetica/Python-William-Lindstedt/Code-alongs/L6-function.ipynb#W6sZmlsZQ%3D%3D?line=14'>15</a>\u001b[0m draw_lines(x, k\u001b[39m=\u001b[39m\u001b[39m-\u001b[39m\u001b[39m2\u001b[39m, m\u001b[39m=\u001b[39m\u001b[39m-\u001b[39m\u001b[39m1\u001b[39m, title \u001b[39m=\u001b[39m \u001b[39m\"\u001b[39m\u001b[39mLine\u001b[39m\u001b[39m\"\u001b[39m)\n",
      "\u001b[1;32m/Users/helvetica/Python-William-Lindstedt/Code-alongs/L6-function.ipynb Cell 7\u001b[0m in \u001b[0;36mdraw_lines\u001b[0;34m(x_list, k, m, title)\u001b[0m\n\u001b[1;32m      <a href='vscode-notebook-cell:/Users/helvetica/Python-William-Lindstedt/Code-alongs/L6-function.ipynb#W6sZmlsZQ%3D%3D?line=3'>4</a>\u001b[0m \u001b[39mdef\u001b[39;00m \u001b[39mdraw_lines\u001b[39m(x_list, k\u001b[39m=\u001b[39m\u001b[39m1\u001b[39m, m\u001b[39m=\u001b[39m\u001b[39m1\u001b[39m, title \u001b[39m=\u001b[39m \u001b[39m\"\u001b[39m\u001b[39m\"\u001b[39m):\n\u001b[1;32m      <a href='vscode-notebook-cell:/Users/helvetica/Python-William-Lindstedt/Code-alongs/L6-function.ipynb#W6sZmlsZQ%3D%3D?line=4'>5</a>\u001b[0m     y_list \u001b[39m=\u001b[39m [k\u001b[39m*\u001b[39mx\u001b[39m+\u001b[39mm \u001b[39mfor\u001b[39;00m x \u001b[39min\u001b[39;00m x_list]\n\u001b[0;32m----> <a href='vscode-notebook-cell:/Users/helvetica/Python-William-Lindstedt/Code-alongs/L6-function.ipynb#W6sZmlsZQ%3D%3D?line=6'>7</a>\u001b[0m     plt\u001b[39m.\u001b[39;49mplot(x_list, y_list)\n\u001b[1;32m      <a href='vscode-notebook-cell:/Users/helvetica/Python-William-Lindstedt/Code-alongs/L6-function.ipynb#W6sZmlsZQ%3D%3D?line=7'>8</a>\u001b[0m     plt\u001b[39m.\u001b[39mxlabel(\u001b[39m\"\u001b[39m\u001b[39mx\u001b[39m\u001b[39m\"\u001b[39m)\n\u001b[1;32m      <a href='vscode-notebook-cell:/Users/helvetica/Python-William-Lindstedt/Code-alongs/L6-function.ipynb#W6sZmlsZQ%3D%3D?line=8'>9</a>\u001b[0m     plt\u001b[39m.\u001b[39mylabel(\u001b[39m\"\u001b[39m\u001b[39my\u001b[39m\u001b[39m\"\u001b[39m)\n",
      "File \u001b[0;32m~/.local/share/virtualenvs/helvetica-vDNe7t5J/lib/python3.9/site-packages/matplotlib/_api/__init__.py:222\u001b[0m, in \u001b[0;36mcaching_module_getattr.<locals>.__getattr__\u001b[0;34m(name)\u001b[0m\n\u001b[1;32m    220\u001b[0m \u001b[39mif\u001b[39;00m name \u001b[39min\u001b[39;00m props:\n\u001b[1;32m    221\u001b[0m     \u001b[39mreturn\u001b[39;00m props[name]\u001b[39m.\u001b[39m\u001b[39m__get__\u001b[39m(instance)\n\u001b[0;32m--> 222\u001b[0m \u001b[39mraise\u001b[39;00m \u001b[39mAttributeError\u001b[39;00m(\n\u001b[1;32m    223\u001b[0m     \u001b[39mf\u001b[39m\u001b[39m\"\u001b[39m\u001b[39mmodule \u001b[39m\u001b[39m{\u001b[39;00m\u001b[39mcls\u001b[39m\u001b[39m.\u001b[39m\u001b[39m__module__\u001b[39m\u001b[39m!r}\u001b[39;00m\u001b[39m has no attribute \u001b[39m\u001b[39m{\u001b[39;00mname\u001b[39m!r}\u001b[39;00m\u001b[39m\"\u001b[39m)\n",
      "\u001b[0;31mAttributeError\u001b[0m: module 'matplotlib' has no attribute 'plot'"
     ]
    }
   ],
   "source": [
    "# draw lines\n",
    "\n",
    "import matplotlib as plt\n",
    "def draw_lines(x_list, k=1, m=1, title = \"\"):\n",
    "    y_list = [k*x+m for x in x_list]\n",
    "\n",
    "    plt.plot(x_list, y_list)\n",
    "    plt.xlabel(\"x\")\n",
    "    plt.ylabel(\"y\")\n",
    "\n",
    "# TODO find intersection point and plot it\n",
    "\n",
    "x = list(range(-10,10))\n",
    "draw_lines(x, title = \"Lines\")\n",
    "draw_lines(x, k=-2, m=-1, title = \"Lines\")"
   ]
  },
  {
   "cell_type": "code",
   "execution_count": 24,
   "metadata": {},
   "outputs": [
    {
     "name": "stdout",
     "output_type": "stream",
     "text": [
      "Det var en gång en katt som tog sig på en hatt och spelade schack fick shackmatt med hjälp av skolmatt\n",
      "katt\n",
      "hatt\n",
      "shackmatt\n",
      "skolmatt\n"
     ]
    }
   ],
   "source": [
    "import re\n",
    "\n",
    "text = \"Det var en gång en katt, som tog sig på en hatt, och spelade schack, fick shackmatt med hjälp av skolmatt\"\n",
    "text = text.replace(',', '')\n",
    "\n",
    "print(text)\n",
    "\n",
    "textsplit = re.split(\" \", text)\n",
    "for i in range(len((textsplit))):\n",
    "    if re.search(\"att\", textsplit[i]) != None:\n",
    "        print(textsplit[i])"
   ]
  },
  {
   "cell_type": "code",
   "execution_count": null,
   "metadata": {},
   "outputs": [],
   "source": []
  }
 ],
 "metadata": {
  "kernelspec": {
   "display_name": "Python 3.9.13 ('helvetica-vDNe7t5J')",
   "language": "python",
   "name": "python3"
  },
  "language_info": {
   "codemirror_mode": {
    "name": "ipython",
    "version": 3
   },
   "file_extension": ".py",
   "mimetype": "text/x-python",
   "name": "python",
   "nbconvert_exporter": "python",
   "pygments_lexer": "ipython3",
   "version": "3.9.13"
  },
  "orig_nbformat": 4,
  "vscode": {
   "interpreter": {
    "hash": "87963c44df63088d167d5530105c3e3af538607c5bfb8dea2d5d486a9477964e"
   }
  }
 },
 "nbformat": 4,
 "nbformat_minor": 2
}
