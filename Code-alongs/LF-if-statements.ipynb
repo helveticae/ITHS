{
 "cells": [
  {
   "cell_type": "markdown",
   "metadata": {},
   "source": [
    "## if-statements"
   ]
  },
  {
   "cell_type": "code",
   "execution_count": 1,
   "metadata": {},
   "outputs": [
    {
     "name": "stdout",
     "output_type": "stream",
     "text": [
      "Welcome to the pub.\n"
     ]
    }
   ],
   "source": [
    "age = float(input(\"How old are ya?\"))\n",
    "\n",
    "if age < 18:\n",
    "    print(\"Not allowed in pub.\")\n",
    "else:\n",
    "    print(\"Welcome to the pub.\")"
   ]
  },
  {
   "cell_type": "code",
   "execution_count": 3,
   "metadata": {},
   "outputs": [
    {
     "name": "stdout",
     "output_type": "stream",
     "text": [
      "Du får åka Balder\n"
     ]
    }
   ],
   "source": [
    "age = 15\n",
    "height = 135  \n",
    "if age > 10 and 130 < height <= 210:\n",
    "    print(\"Du får åka Balder\")\n",
    "else:\n",
    "    print(\"Du får inte åka. :(\")"
   ]
  },
  {
   "cell_type": "markdown",
   "metadata": {},
   "source": [
    "## Modulo operator"
   ]
  },
  {
   "cell_type": "code",
   "execution_count": 7,
   "metadata": {},
   "outputs": [
    {
     "name": "stdout",
     "output_type": "stream",
     "text": [
      "Uneven number\n"
     ]
    }
   ],
   "source": [
    "# one equal signs => assignes value to variable\n",
    "n = 42\n",
    "\n",
    "# two equal signs => checks if left is qual to right\n",
    "if n % 2 == 0:\n",
    "    print(\"Even number\")\n",
    "else:\n",
    "    print(\"Uneven number\")"
   ]
  },
  {
   "cell_type": "code",
   "execution_count": null,
   "metadata": {},
   "outputs": [],
   "source": []
  }
 ],
 "metadata": {
  "kernelspec": {
   "display_name": "Python 3.9.13 ('helvetica-vDNe7t5J')",
   "language": "python",
   "name": "python3"
  },
  "language_info": {
   "codemirror_mode": {
    "name": "ipython",
    "version": 3
   },
   "file_extension": ".py",
   "mimetype": "text/x-python",
   "name": "python",
   "nbconvert_exporter": "python",
   "pygments_lexer": "ipython3",
   "version": "3.9.13"
  },
  "orig_nbformat": 4,
  "vscode": {
   "interpreter": {
    "hash": "87963c44df63088d167d5530105c3e3af538607c5bfb8dea2d5d486a9477964e"
   }
  }
 },
 "nbformat": 4,
 "nbformat_minor": 2
}
