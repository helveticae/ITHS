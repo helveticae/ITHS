{
 "cells": [
  {
   "cell_type": "markdown",
   "metadata": {},
   "source": [
    "## Code along input-output"
   ]
  },
  {
   "cell_type": "code",
   "execution_count": 4,
   "metadata": {},
   "outputs": [
    {
     "name": "stdout",
     "output_type": "stream",
     "text": [
      "Hello world, I am Python. I am 20.4 years old.\n"
     ]
    }
   ],
   "source": [
    "# Variable = string\n",
    "name = \"Python\"\n",
    "\n",
    "# Variable = float\n",
    "age = 20.4\n",
    "\n",
    "# F-string = formated string\n",
    "print(f\"Hello world, I am {name} and I am {age} years old.\")"
   ]
  },
  {
   "cell_type": "markdown",
   "metadata": {},
   "source": [
    "## Input from user"
   ]
  },
  {
   "cell_type": "code",
   "execution_count": 3,
   "metadata": {},
   "outputs": [
    {
     "name": "stdout",
     "output_type": "stream",
     "text": [
      "Hello Karl, you are 232323 old.\n"
     ]
    }
   ],
   "source": [
    "name = input(\"Input name.\")\n",
    "age = input(\"Input age.\")\n",
    "print (f\"Hello {name}, you are {age} old.\")"
   ]
  },
  {
   "cell_type": "markdown",
   "metadata": {},
   "source": [
    "## Calculations"
   ]
  },
  {
   "cell_type": "code",
   "execution_count": 11,
   "metadata": {},
   "outputs": [
    {
     "ename": "TypeError",
     "evalue": "can't multiply sequence by non-int of type 'float'",
     "output_type": "error",
     "traceback": [
      "\u001b[0;31m---------------------------------------------------------------------------\u001b[0m",
      "\u001b[0;31mTypeError\u001b[0m                                 Traceback (most recent call last)",
      "\u001b[1;32m/Users/helvetica/GitHub/ITHS/Code-alongs/L0-input-output.ipynb Cell 6\u001b[0m in \u001b[0;36m<cell line: 3>\u001b[0;34m()\u001b[0m\n\u001b[1;32m      <a href='vscode-notebook-cell:/Users/helvetica/GitHub/ITHS/Code-alongs/L0-input-output.ipynb#X20sZmlsZQ%3D%3D?line=0'>1</a>\u001b[0m gravity \u001b[39m=\u001b[39m \u001b[39m9.8\u001b[39m\n\u001b[1;32m      <a href='vscode-notebook-cell:/Users/helvetica/GitHub/ITHS/Code-alongs/L0-input-output.ipynb#X20sZmlsZQ%3D%3D?line=1'>2</a>\u001b[0m mass \u001b[39m=\u001b[39m \u001b[39minput\u001b[39m(\u001b[39m\"\u001b[39m\u001b[39mEnter your mass (kg):\u001b[39m\u001b[39m\"\u001b[39m)\n\u001b[0;32m----> <a href='vscode-notebook-cell:/Users/helvetica/GitHub/ITHS/Code-alongs/L0-input-output.ipynb#X20sZmlsZQ%3D%3D?line=2'>3</a>\u001b[0m force \u001b[39m=\u001b[39m mass\u001b[39m*\u001b[39;49mgravity\n\u001b[1;32m      <a href='vscode-notebook-cell:/Users/helvetica/GitHub/ITHS/Code-alongs/L0-input-output.ipynb#X20sZmlsZQ%3D%3D?line=3'>4</a>\u001b[0m \u001b[39mprint\u001b[39m (\u001b[39mf\u001b[39m\u001b[39m\"\u001b[39m\u001b[39mForce is \u001b[39m\u001b[39m{\u001b[39;00mforce\u001b[39m}\u001b[39;00m\u001b[39m N\u001b[39m\u001b[39m\"\u001b[39m)\n",
      "\u001b[0;31mTypeError\u001b[0m: can't multiply sequence by non-int of type 'float'"
     ]
    }
   ],
   "source": [
    "gravity = 9.8\n",
    "mass = input(\"Enter your mass (kg):\")\n",
    "force = mass*gravity\n",
    "print (f\"Force is {force} N\")"
   ]
  },
  {
   "cell_type": "code",
   "execution_count": null,
   "metadata": {},
   "outputs": [],
   "source": []
  }
 ],
 "metadata": {
  "kernelspec": {
   "display_name": "Python 3.9.13 ('helvetica-vDNe7t5J')",
   "language": "python",
   "name": "python3"
  },
  "language_info": {
   "codemirror_mode": {
    "name": "ipython",
    "version": 3
   },
   "file_extension": ".py",
   "mimetype": "text/x-python",
   "name": "python",
   "nbconvert_exporter": "python",
   "pygments_lexer": "ipython3",
   "version": "3.9.13"
  },
  "orig_nbformat": 4,
  "vscode": {
   "interpreter": {
    "hash": "87963c44df63088d167d5530105c3e3af538607c5bfb8dea2d5d486a9477964e"
   }
  }
 },
 "nbformat": 4,
 "nbformat_minor": 2
}
