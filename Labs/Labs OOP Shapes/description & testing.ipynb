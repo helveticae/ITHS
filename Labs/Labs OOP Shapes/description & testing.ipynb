{
 "cells": [
  {
   "cell_type": "markdown",
   "metadata": {},
   "source": [
    "### Geometry OOP Lab - Study in Code Structure & UML Practice\n",
    "\n",
    "--- \n",
    "\n",
    "The purpose of this lab is to use object-oriented programming in Python to design programs with good structure. In this lab, we will plan how to structure classes using UML and then implement the planning in Python.\n",
    "\n",
    "The classes must have:\n",
    "```\n",
    "area property\n",
    "circumference property\n",
    "\n",
    "operator overload == to check similarity\n",
    "operator overload comparator operators <, >, <=> , >\n",
    "override of __repr__()\n",
    "override of __str__\n",
    "\n",
    "x and y representing the center position of the object\n",
    "a translation method that makes it possible to move x and y\n",
    "a method that checks if a certain point is inside the object\n",
    "error handling\n",
    "a method that checks if the circle instance is a unit circle\n",
    "a method that checks if the rectangle instance is a square\n",
    "```\n"
   ]
  },
  {
   "cell_type": "markdown",
   "metadata": {},
   "source": [
    "## Bedömning\n",
    "\n",
    "Börja med att skapa en planering med diagrams.net och därefter implementerar du din planering i Python. Det är helt okej att använda annan programvara för att skapa UML eller att göra en med papper och penna.Gör manuella tester, likt ovan, men testa mer. Tips är att ha en .ipynb-fil vid sidan om som importerar dina klasser för att göra manuella tester medan du skriver klasserna.Om du har fått någon kodsnutt från någon annan eller hittat i någon sida är det viktigt att du källhänvisar. Skriv en kommentar bredvid koden som du har tagit.gjort en enkel planering med UML löst uppgift på korrekt sätt koden är kommenterad med relevanta kommentarer, docstrings ska användas variabelnamnen är bra valda gjort flera relevanta git commitskoden är enkel att följa koden är välstrukturerad med lämpliga klasser, funktioner, metoder koden återanvänds där det går istället för att återupprepa kommentarerna är datavetenskapligt korrekta gjort samtliga uppgifter"
   ]
  },
  {
   "cell_type": "markdown",
   "metadata": {},
   "source": [
    "#TODO\n",
    "\n",
    "override av __str__\n",
    "\n",
    "felhantering\n",
    "\n",
    "x och y som representerar **mittpositionen** av objektet\n",
    "\n",
    "en metod som checkar om en viss punkt befinner sig innanför objektet\n",
    "\n",
    "felhantering\n"
   ]
  },
  {
   "cell_type": "code",
   "execution_count": 193,
   "metadata": {},
   "outputs": [],
   "source": [
    "from __future__ import annotations\n",
    "from dataclasses import dataclass\n",
    "import math\n",
    "\n",
    "#TODO Make this @abstract instead (?)\n",
    "\n",
    "@dataclass(repr=False)\n",
    "class Shape:\n",
    "    \"\"\"\n",
    "    Used to instantiate shapes (2D and 3D).\n",
    "    \n",
    "    Forces all shape to have positional values. Shouldn't be instantiated on its own.\n",
    "\n",
    "    Attributes\n",
    "    ----------\n",
    "    position : tuple\n",
    "        Values representing the center position of the object (x,y,z.. etc).\n",
    "    \n",
    "    Methods\n",
    "    ----------\n",
    "    translate_position(position: tuple)\n",
    "        Call as normal class method to update positional data of given shape.\n",
    "    \"\"\"\n",
    "\n",
    "    position: tuple\n",
    "\n",
    "    @property # Read-only, getter\n",
    "    def position(self) -> tuple:\n",
    "        print(\"position getter running\")\n",
    "        return self._position\n",
    "\n",
    "    @position.setter # Read and write, setter\n",
    "    def position(self, value: tuple):\n",
    "        \"\"\"Sets position to given value.\"\"\"\n",
    "\n",
    "        print(\"position setter running\")\n",
    "\n",
    "        if not isinstance(value, (tuple)):\n",
    "            raise TypeError(f\"Position must be tuple not {type(value)}\")\n",
    "\n",
    "        #TODO Throw ValueError if points in position tuple =< object dimension value\n",
    "        #i.e. a 3D object must cover at least 3 points in space, etc.\n",
    "\n",
    "        self._position = value\n",
    "\n",
    "    def translate_position(self, position: tuple) -> tuple:\n",
    "        \"\"\"\n",
    "        Callable method to translate positional values (center point) of shape.\n",
    "\n",
    "        Same as typing 'object.position' except translate_position() stores previous positional values in variable 'old_pos'.\n",
    "        \"\"\"\n",
    "\n",
    "        print(\"translate_position running\")\n",
    "\n",
    "        # Stores previous position\n",
    "        old_pos = self.position\n",
    "                # TODO: add meaning to this variable (maybe animating path or something(?))\n",
    "\n",
    "        # Updates position to new value\n",
    "        self.position = position\n",
    "\n",
    "        print(f\"{old_pos=}, new={position}\")\n",
    "\n",
    "        return self.position\n",
    "\n",
    "  # Operator overloading for size equality in AREA.\n",
    "    def __eq__(self, other: Shape) -> bool:\n",
    "        print(\"__eq__ called from Shape class\")\n",
    "        \"\"\"Checks if any two given rectangles are identical in size.\"\"\"\n",
    "\n",
    "        if self.width == other.width and self.height == other.height:\n",
    "            return True\n",
    "        else: return False\n",
    "\n",
    "    # Operator overloading for AREA comparison\n",
    "    def __lt__(self, other: Shape) -> bool:\n",
    "        print(\"__lt__ called from Shape class\")\n",
    "        if self.area < other.area: return True\n",
    "        else: return False\n",
    "        \n",
    "    def __le__(self, other: Shape) -> bool:\n",
    "        print(\"__le__ called from Shape class\")\n",
    "        if self.area <= other.area: return True\n",
    "        else: return False\n",
    "\n",
    "    def __gt__(self, other: Shape) -> bool:\n",
    "        print(\"__gt__ called from Shape class\")\n",
    "        if self.area > other.area: return True\n",
    "        else: return False\n",
    "        \n",
    "    def __ge__(self, other: Shape) -> bool:\n",
    "        print(\"__ge__ called from Shape class\")\n",
    "        if self.area >= other.area: return True\n",
    "        else: return False\n",
    "        \n",
    "    def __str__(self) -> str:\n",
    "        return str(self.__dict__)\n",
    "\n",
    "# - - - - - - - - - - - - - - - - - - - - - - - - - - - - - - - - - - - - #\n",
    "\n",
    "class Rectangle(Shape):\n",
    "    \"\"\"\n",
    "    Child class Rectangle. Inherits from Shape. Contains width, height, area and perimeter.\n",
    "\n",
    "    Attributes\n",
    "    ----------\n",
    "    width: float\n",
    "        Width (x) of rectangle.\n",
    "    height: float\n",
    "        Height (y) of rectangle.\n",
    "    area: float\n",
    "        Area (A) of rectangle.\n",
    "    perimeter: float\n",
    "        Perimeter (P) of rectangle.\n",
    "\n",
    "    Methods\n",
    "    -------\n",
    "    is_square(width: float, height: float)\n",
    "       Return True if width == height.\n",
    "\n",
    "    overloaded __eq__, __lt__, __le__, __gt__, __ge__\n",
    "\n",
    "    \"\"\"\n",
    "\n",
    "    def __init__(self, position: tuple, width: float, height: float) -> None:\n",
    "        \n",
    "        super().__init__(position)\n",
    "        self.width = width\n",
    "        self.height = height\n",
    "\n",
    "    @property \n",
    "    def area(self):\n",
    "        return self.width * self.height\n",
    "\n",
    "    @property\n",
    "    def perimeter(self):\n",
    "        return self.width * 2 + self.height *2\n",
    "\n",
    "    def is_square(self, width: float, height: float) -> bool:\n",
    "        \"\"\"Checks if given rectangle is square.\"\"\"\n",
    "\n",
    "        if self.width == self.height:\n",
    "            return True\n",
    "        else: return False\n",
    "\n",
    "    def __repr__(self):\n",
    "        return f\"{self.__class__.__name__} -- midpoint at {self.position} -- {self.area=}.)\"\n",
    "\n",
    "class Circle(Shape):\n",
    "    \"\"\"\n",
    "    Child class Circle. Inhertis from Shape. Contains radius, area and circumference.\n",
    "\n",
    "    Attributes\n",
    "    ----------\n",
    "    radius: float\n",
    "        Radius (r) of circle.\n",
    "    area: float\n",
    "        Area (A) of circle.\n",
    "    circumference: float\n",
    "        Circumference (C) of circle.\n",
    "\n",
    "    Methods\n",
    "    -------\n",
    "    n/a\n",
    "    \"\"\"\n",
    "\n",
    "    def __init__(self, position: tuple, radius: float) -> None:\n",
    "        \n",
    "        super().__init__(position)\n",
    "        self.radius = radius\n",
    "\n",
    "    @property\n",
    "    def area(self):\n",
    "        return math.pi * self.radius ** 2\n",
    "    \n",
    "    @property\n",
    "    def circumference(self):\n",
    "        return math.pi * self.radius * 2\n",
    "\n",
    "    def is_unit_circle(self, radius: float) -> bool:\n",
    "        \"\"\"Should check if given circle is unit.\"\"\"\n",
    "        return True\n",
    "\n",
    " # Operator overloading for size equality in AREA.\n",
    "    def __eq__(self, other: Shape) -> bool:\n",
    "        \"\"\"Checks if any two given rectangles are identical in size.\"\"\"\n",
    "\n",
    "        if self.area == other.area:\n",
    "            return True\n",
    "        else: return False\n",
    "\n",
    "    def __repr__(self):\n",
    "        return f\"{self.__class__.__name__} -- midpoint at {self.position}, {self.radius=}, {self.area=}.)\"\n",
    "\n",
    "\n",
    "class Sphere(Circle):\n",
    "    \"\"\"\n",
    "    Child class Sphere. Inhertis from Circle. Contains radius, volume and surface area.\n",
    "\n",
    "    Attributes\n",
    "    ----------\n",
    "    radius: float\n",
    "        Radius (r) of sphere.\n",
    "    volume: float\n",
    "        Volume (V) of sphere.\n",
    "    surface_area: float\n",
    "        Area (A) of sphere.\n",
    "\n",
    "    Methods\n",
    "    -------\n",
    "    n/a\n",
    "    \"\"\"\n",
    "\n",
    "    @property\n",
    "    def volume(self):\n",
    "        return (4/3) * math.pi * self.radius ** 3\n",
    "\n",
    "    @property\n",
    "    def surface_area(self):\n",
    "        return 4 * math.pi * self.radius * 2\n",
    "    \n",
    "    # Operator overloading for VOLUME equality.\n",
    "    def __eq__(self, other: Shape) -> bool:\n",
    "        \"\"\"Checks if any two given shapes are identical in volume.\"\"\"\n",
    "        print(\"__eq__ called from Sphere class\")\n",
    "\n",
    "        if self.volume == other.volume:\n",
    "            return True\n",
    "        else: return False\n",
    "\n",
    "    # Operator overloading for VOLUME comparison.\n",
    "    def __lt__(self, other: Shape) -> bool:\n",
    "        print(\"__lt__ called from Sphere class\")\n",
    "        if self.volume < other.volume: return True\n",
    "        else: return False\n",
    "        \n",
    "    def __le__(self, other: Shape) -> bool:\n",
    "        print(\"__le__ called from Sphere class\")\n",
    "        if self.volume <= other.volume: return True\n",
    "        else: return False\n",
    "\n",
    "    def __gt__(self, other: Shape) -> bool:\n",
    "        print(\"__gt__ called from Sphere class\")\n",
    "        if self.volume > other.volume: return True\n",
    "        else: return False\n",
    "        \n",
    "    def __ge__(self, other: Shape) -> bool:\n",
    "        print(\"__ge__ called from Sphere class\")\n",
    "        if self.volume >= other.volume: return True\n",
    "        else: return False\n",
    "     \n",
    "class Cube(Rectangle):\n",
    "    \"\"\"\n",
    "    Child class Cube. Inhertis from Rectangle. Contains width, height, length, surface area and and volume.\n",
    "\n",
    "    Attributes\n",
    "    -------\n",
    "    width: float\n",
    "        Width (x) of cube.\n",
    "    height: float\n",
    "        Height (y) of cube.\n",
    "    length: float\n",
    "        Length (z) of cube.\n",
    "    volume: float\n",
    "        Volume (V) of cube.\n",
    "    surface_area: float\n",
    "        Area (A) of cube.\n",
    "\n",
    "    Methods\n",
    "    -------\n",
    "    n/a\n",
    "    \"\"\"\n",
    "\n",
    "    def __init__(self, position: tuple, width: float, height: float, length: float) -> None:\n",
    "        \n",
    "        super().__init__(position, width, height)\n",
    "        self.length = length\n",
    "\n",
    "    @property\n",
    "    def volume(self):\n",
    "        return self.width * self.height * self.length\n",
    "\n",
    "    @property\n",
    "    def surface_area(self):\n",
    "        return 6 * (self.width * self.height * self.length)\n",
    "\n",
    "   # Operator overloading for VOLUME equality.\n",
    "    def __eq__(self, other: Shape) -> bool:\n",
    "        \"\"\"Checks if any two given shapes are identical in volume.\"\"\"\n",
    "        print(\"__eq__ called from Cube class\")\n",
    "\n",
    "        if self.volume == other.volume:\n",
    "            return True\n",
    "        else: return False\n",
    "\n",
    "    # Operator overloading for VOLUME comparison.\n",
    "    def __lt__(self, other: Shape) -> bool:\n",
    "        print(\"__lt__ called from Cube class\")\n",
    "        if self.volume < other.volume: return True\n",
    "        else: return False\n",
    "        \n",
    "    def __le__(self, other: Shape) -> bool:\n",
    "        print(\"__le__ called from Cube class\")\n",
    "        if self.volume <= other.volume: return True\n",
    "        else: return False\n",
    "\n",
    "    def __gt__(self, other: Shape) -> bool:\n",
    "        print(\"__gt__ called from Cube class\")\n",
    "        if self.volume > other.volume: return True\n",
    "        else: return False\n",
    "        \n",
    "    def __ge__(self, other: Shape) -> bool:\n",
    "        print(\"__ge__ called from Cube class\")\n",
    "        if self.volume >= other.volume: return True\n",
    "        else: return False\n",
    "\n",
    "    def __repr__(self):\n",
    "        return f\"{self.__class__.__name__} -- midpoint at {self.position} -- {self.volume=}.)\"\n",
    "\n"
   ]
  },
  {
   "cell_type": "code",
   "execution_count": 194,
   "metadata": {},
   "outputs": [
    {
     "name": "stdout",
     "output_type": "stream",
     "text": [
      "position setter running\n",
      "position setter running\n",
      "__gt__ called from Shape class\n",
      "False\n",
      "position getter running\n"
     ]
    },
    {
     "data": {
      "text/plain": [
       "Rectangle -- midpoint at (0, 0) -- self.area=144.)"
      ]
     },
     "execution_count": 194,
     "metadata": {},
     "output_type": "execute_result"
    }
   ],
   "source": [
    "rectangle1 = Rectangle((0,0),12,12)\n",
    "rectangle2 = Rectangle((0,0),12,12)\n",
    "print(rectangle1 > rectangle2)\n",
    "\n",
    "rectangle2"
   ]
  },
  {
   "cell_type": "code",
   "execution_count": 195,
   "metadata": {},
   "outputs": [
    {
     "name": "stdout",
     "output_type": "stream",
     "text": [
      "position setter running\n",
      "position setter running\n",
      "__gt__ called from Cube class\n",
      "False\n",
      "__eq__ called from Cube class\n",
      "False\n",
      "position getter running\n"
     ]
    },
    {
     "data": {
      "text/plain": [
       "Cube -- midpoint at (0, 0, 0) -- self.volume=1584.)"
      ]
     },
     "execution_count": 195,
     "metadata": {},
     "output_type": "execute_result"
    }
   ],
   "source": [
    "cube1 = Cube((0,0,0),11,12,12)\n",
    "cube2 = Cube((0,0,0),12,12,12)\n",
    "print(cube1 > cube2)\n",
    "\n",
    "print(cube1 == cube2)\n",
    "\n",
    "cube1"
   ]
  },
  {
   "cell_type": "code",
   "execution_count": 196,
   "metadata": {},
   "outputs": [
    {
     "name": "stdout",
     "output_type": "stream",
     "text": [
      "position setter running\n",
      "position setter running\n",
      "True\n",
      "__gt__ called from Shape class\n",
      "False\n",
      "position getter running\n"
     ]
    },
    {
     "data": {
      "text/plain": [
       "Circle -- midpoint at (0, 0), self.radius=12, self.area=452.3893421169302.)"
      ]
     },
     "execution_count": 196,
     "metadata": {},
     "output_type": "execute_result"
    }
   ],
   "source": [
    "circle1 = Circle((0,0),12)\n",
    "circle2 = Circle((0,0),12)\n",
    "\n",
    "print(circle1 == circle2)\n",
    "\n",
    "print(circle1 > circle2)\n",
    "\n",
    "circle2"
   ]
  },
  {
   "cell_type": "markdown",
   "metadata": {},
   "source": [
    "---"
   ]
  },
  {
   "cell_type": "code",
   "execution_count": 203,
   "metadata": {},
   "outputs": [
    {
     "name": "stdout",
     "output_type": "stream",
     "text": [
      "position setter running\n",
      "position setter running\n",
      "__eq__ called from Sphere class\n",
      "False\n"
     ]
    },
    {
     "data": {
      "text/plain": [
       "14"
      ]
     },
     "execution_count": 203,
     "metadata": {},
     "output_type": "execute_result"
    }
   ],
   "source": [
    "sphereA = Sphere((0,0,0),14)\n",
    "sphereB = Sphere((0,0,0),12)\n",
    "print(sphereA == sphereB)\n",
    "\n",
    "cube1\n",
    "\n",
    "sphereA.radius"
   ]
  },
  {
   "cell_type": "code",
   "execution_count": 198,
   "metadata": {},
   "outputs": [
    {
     "name": "stdout",
     "output_type": "stream",
     "text": [
      "position setter running\n",
      "position getter running\n",
      "(2, 8)\n",
      "translate_position running\n",
      "position getter running\n",
      "position setter running\n",
      "old_pos=(2, 8), new=(30, 12)\n",
      "position getter running\n",
      "position getter running\n",
      "(30, 12)\n",
      "position setter running\n",
      "position getter running\n",
      "(23, 12)\n"
     ]
    }
   ],
   "source": [
    "rectangle22 = Rectangle((2,8), 1,1)\n",
    "\n",
    "print(rectangle22.position)\n",
    "\n",
    "rectangle22.translate_position((30,12))\n",
    "\n",
    "print(rectangle22.position)\n",
    "\n",
    "rectangle22.position = (23,12)\n",
    "\n",
    "print(rectangle22.position)"
   ]
  },
  {
   "cell_type": "code",
   "execution_count": 199,
   "metadata": {},
   "outputs": [
    {
     "name": "stdout",
     "output_type": "stream",
     "text": [
      "position setter running\n",
      "position setter running\n",
      "77.91149780902687\n",
      "position getter running\n",
      "<bound method Circle.is_unit_circle of Circle -- midpoint at (0, 0), self.radius=12.1, self.area=459.9605804120816.)>\n"
     ]
    }
   ],
   "source": [
    "circle1 = Circle((0,0),12.4)\n",
    "\n",
    "circle2 = Circle((0,0),12.1)\n",
    "\n",
    "print(circle1.circumference)\n",
    "\n",
    "print(circle2.is_unit_circle)"
   ]
  },
  {
   "cell_type": "code",
   "execution_count": 200,
   "metadata": {},
   "outputs": [
    {
     "name": "stdout",
     "output_type": "stream",
     "text": [
      "position setter running\n",
      "position setter running\n",
      "True\n",
      "position setter running\n",
      "132\n",
      "452.3893421169302\n"
     ]
    }
   ],
   "source": [
    "square1 = Rectangle((0,0),12,12)\n",
    "square2 = Rectangle((0,0),12,11)\n",
    "\n",
    "print(square1.perimeter >= square2.perimeter)\n",
    "\n",
    "circle1 = Circle((0,0),12)\n",
    "#square2 = Rectangle((0,0),2,2)\n",
    "\n",
    "print(square2.area)\n",
    "print(circle1.area)"
   ]
  },
  {
   "cell_type": "code",
   "execution_count": 201,
   "metadata": {},
   "outputs": [
    {
     "name": "stdout",
     "output_type": "stream",
     "text": [
      "__le__ called from Shape class\n"
     ]
    },
    {
     "data": {
      "text/plain": [
       "True"
      ]
     },
     "execution_count": 201,
     "metadata": {},
     "output_type": "execute_result"
    }
   ],
   "source": [
    "square1 <= circle1"
   ]
  },
  {
   "cell_type": "code",
   "execution_count": 202,
   "metadata": {},
   "outputs": [
    {
     "name": "stdout",
     "output_type": "stream",
     "text": [
      "__gt__ called from Sphere class\n"
     ]
    },
    {
     "ename": "AttributeError",
     "evalue": "'Circle' object has no attribute 'volume'",
     "output_type": "error",
     "traceback": [
      "\u001b[0;31m---------------------------------------------------------------------------\u001b[0m",
      "\u001b[0;31mAttributeError\u001b[0m                            Traceback (most recent call last)",
      "Cell \u001b[0;32mIn [202], line 1\u001b[0m\n\u001b[0;32m----> 1\u001b[0m sphereA \u001b[39m>\u001b[39;49m circle1\n",
      "Cell \u001b[0;32mIn [193], line 244\u001b[0m, in \u001b[0;36mSphere.__gt__\u001b[0;34m(self, other)\u001b[0m\n\u001b[1;32m    242\u001b[0m \u001b[39mdef\u001b[39;00m \u001b[39m__gt__\u001b[39m(\u001b[39mself\u001b[39m, other: Shape) \u001b[39m-\u001b[39m\u001b[39m>\u001b[39m \u001b[39mbool\u001b[39m:\n\u001b[1;32m    243\u001b[0m     \u001b[39mprint\u001b[39m(\u001b[39m\"\u001b[39m\u001b[39m__gt__ called from Sphere class\u001b[39m\u001b[39m\"\u001b[39m)\n\u001b[0;32m--> 244\u001b[0m     \u001b[39mif\u001b[39;00m \u001b[39mself\u001b[39m\u001b[39m.\u001b[39mvolume \u001b[39m>\u001b[39m other\u001b[39m.\u001b[39;49mvolume: \u001b[39mreturn\u001b[39;00m \u001b[39mTrue\u001b[39;00m\n\u001b[1;32m    245\u001b[0m     \u001b[39melse\u001b[39;00m: \u001b[39mreturn\u001b[39;00m \u001b[39mFalse\u001b[39;00m\n",
      "\u001b[0;31mAttributeError\u001b[0m: 'Circle' object has no attribute 'volume'"
     ]
    }
   ],
   "source": [
    "sphereA > circle1"
   ]
  }
 ],
 "metadata": {
  "kernelspec": {
   "display_name": "Python 3.9.13 ('helvetica-vDNe7t5J')",
   "language": "python",
   "name": "python3"
  },
  "language_info": {
   "codemirror_mode": {
    "name": "ipython",
    "version": 3
   },
   "file_extension": ".py",
   "mimetype": "text/x-python",
   "name": "python",
   "nbconvert_exporter": "python",
   "pygments_lexer": "ipython3",
   "version": "3.9.13"
  },
  "orig_nbformat": 4,
  "vscode": {
   "interpreter": {
    "hash": "87963c44df63088d167d5530105c3e3af538607c5bfb8dea2d5d486a9477964e"
   }
  }
 },
 "nbformat": 4,
 "nbformat_minor": 2
}
