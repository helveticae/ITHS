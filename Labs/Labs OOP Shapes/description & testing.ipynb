{
 "cells": [
  {
   "cell_type": "code",
   "execution_count": 228,
   "metadata": {},
   "outputs": [
    {
     "data": {
      "text/plain": [
       "100.0"
      ]
     },
     "execution_count": 228,
     "metadata": {},
     "output_type": "execute_result"
    }
   ],
   "source": [
    "from dataclasses import dataclass\n",
    "\n",
    "@dataclass\n",
    "class Tuple_Test:\n",
    "    size: tuple\n",
    "\n",
    "    def get_volume(self):\n",
    "        return self.size[0] * self.size[1] * self.size[2]\n",
    "\n",
    "cube1 = Tuple_Test([1.0,10,10])\n",
    "\n",
    "cube1.get_volume()"
   ]
  },
  {
   "cell_type": "code",
   "execution_count": null,
   "metadata": {},
   "outputs": [],
   "source": []
  },
  {
   "cell_type": "markdown",
   "metadata": {},
   "source": [
    "### Geometry OOP Lab - Study in Code Structure & UML Practice\n",
    "\n",
    "--- \n",
    "\n",
    "Du ska skapa följande geometriska klasser:\n",
    "\n",
    "The purpose of this lab is to use object-oriented programming in Python to design programs with good structure. In this lab, we will plan how to structure classes using UML and then implement the planning in Python.\n",
    "\n",
    "Notera att du även kan behöva ytterligare klass(er) om du vill utnyttja arv och/eller komposition.\n",
    "\n",
    "The classes must have:\n",
    "```\n",
    "area property\n",
    "circumference property\n",
    "\n",
    "operator overload av == för att checka likhet\n",
    "operator overload av komparatoroperatorer <,>,<=>,> för jämförelser\n",
    "override av __repr__()\n",
    "override av __str__\n",
    "\n",
    "x och y som representerar mittpositionen av objektet\n",
    "en translationsmetod som gör det möjligt att förflytta x och y\n",
    "en metod som checkar om en viss punkt befinner sig innanför objektet\n",
    "felhantering\n",
    "en metod som checkar om cirkelinstansen är en enhetscirkel\n",
    "en metod som checkar om rektangelinstansen är en kvadrat\n",
    "```\n"
   ]
  },
  {
   "cell_type": "markdown",
   "metadata": {},
   "source": [
    "## Bedömning\n",
    "\n",
    "Börja med att skapa en planering med diagrams.net och därefter implementerar du din planering i Python. Det är helt okej att använda annan programvara för att skapa UML eller att göra en med papper och penna.Gör manuella tester, likt ovan, men testa mer. Tips är att ha en .ipynb-fil vid sidan om som importerar dina klasser för att göra manuella tester medan du skriver klasserna.Om du har fått någon kodsnutt från någon annan eller hittat i någon sida är det viktigt att du källhänvisar. Skriv en kommentar bredvid koden som du har tagit.gjort en enkel planering med UML löst uppgift på korrekt sätt koden är kommenterad med relevanta kommentarer, docstrings ska användas variabelnamnen är bra valda gjort flera relevanta git commitskoden är enkel att följa koden är välstrukturerad med lämpliga klasser, funktioner, metoder koden återanvänds där det går istället för att återupprepa kommentarerna är datavetenskapligt korrekta gjort samtliga uppgifter"
   ]
  },
  {
   "cell_type": "code",
   "execution_count": 229,
   "metadata": {},
   "outputs": [],
   "source": [
    "string = \"retfigppu agiltmas trojg atkerrok tgilpaksnetevatad rä anreratnemmok aperppuretå tta röf tellätsi råg ted räd sdnävnaretå nedok redotem ,renoitknuf ,ressalk agilpmäl dem darerutkurtsläv rä nedok ajlöf tta lekne rä nedok stimmoc tig atnaveler arelf trojg adlav arb rä nenmanlebairav sadnävna aks sgnirtscod ,reratnemmok atnaveler dem daretnemmok rä nedok ttäs tkerrok åp tfigppu tsöl LMU dem gnirenalp lekne ne trojg .tigat rah ud mos nedok divderb ratnemmok ne virkS .rasivnählläk ud tta tgitkiv ted rä adis nogån i tattih relle nanna nogån nårf ttunsdok nogån ttåf rah ud mO .anressalk revirks ud nadem retset alleunam arög tta röf ressalk anid raretropmi mos mo nadis div lif-bnypi. ne ah tta rä spiT .rem atset nem ,navo tkil ,retset alleunam röG .annep hco reppap dem ne arög tta relle LMU apaks tta röf aravmargorp nanna adnävna tta jeko tleh rä teD .nohtyP i gnirenalp nid ud raretnemelpmi retferäd hco ten.smargaid dem gnirenalp ne apaks tta dem ajröB gninmödeB\""
   ]
  },
  {
   "cell_type": "code",
   "execution_count": 230,
   "metadata": {},
   "outputs": [],
   "source": [
    "from __future__ import annotations\n",
    "from dataclasses import dataclass\n",
    "import math\n",
    "\n",
    "#TODO finish before deadline\n",
    "\n",
    "\"\"\"\n",
    "Class should have:\n",
    "\n",
    "area property (Done for rectangle)\n",
    "circumference property\n",
    "\n",
    "operator overload av == för att checka likhet\n",
    "\n",
    "operator overload av komparatoroperatorer <,>,<=>,> för jämförelser\n",
    "override av __repr__()\n",
    "override av __str__\n",
    "\n",
    "x och y som representerar mittpositionen av objektet\n",
    "en translationsmetod som gör det möjligt att förflytta x och y\n",
    "en metod som checkar om en viss punkt befinner sig innanför objektet\n",
    "felhantering\n",
    "en metod som checkar om cirkelinstansen är en enhetscirkel\n",
    "en metod som checkar om rektangelinstansen är en kvadrat\n",
    "\n",
    "\"\"\"\n",
    "\n",
    "\n",
    "\n",
    "\n",
    "# Refactoring with @dataclass and int\n",
    "\n",
    "#TODO Make this @abstract instead (?)\n",
    "\n",
    "@dataclass\n",
    "class Shape:\n",
    "    position: tuple\n",
    "\n",
    "    # Read-only @property, getters\n",
    "    @property\n",
    "    def position(self) -> tuple:\n",
    "\n",
    "        print(\"pos getter running\")\n",
    "\n",
    "        return self._position\n",
    "\n",
    "    # Setter\n",
    "    @position.setter\n",
    "    def position(self, value):\n",
    "\n",
    "        print(\"position setter running\")\n",
    "\n",
    "        if not isinstance(value, (tuple)):\n",
    "            raise TypeError(f\"Position must be tuple not {type(value)}\")\n",
    "        self._position = value\n",
    "\n",
    "    # - - - - - - - - - - - - - - - - - - - - - - - - - - - - - - - - - - - - #\n",
    "\n",
    "class Rectangle(Shape):\n",
    "    \"\"\"Rectangle. Inherits from Shape.\"\"\"\n",
    "    def __init__(self, position: tuple, width: float, height: float) -> None:\n",
    "        \n",
    "        super().__init__(position)\n",
    "        self.width = width\n",
    "        self.height = height\n",
    "\n",
    "    @property\n",
    "    def area(self):\n",
    "        return self.width * self.height\n",
    "\n",
    "    @property\n",
    "    def perimeter(self):\n",
    "        return self.width * 2 + self.height *2\n",
    "\n",
    "\n",
    "    # Operator overloading for size equality.\n",
    "    def __eq__(self, other: Shape):\n",
    "        \"\"\"Checks if shapes have identical size.\"\"\"\n",
    "        if self.width == other.width and self.height == other.height:\n",
    "            return True\n",
    "        else: return False\n",
    "\n",
    "    # Operator overloading for area comparison\n",
    "    def __lt__(self, other) -> bool:\n",
    "        if self.Area < other.Area: return True\n",
    "        else: return False\n",
    "        \n",
    "    def __le__(self, other) -> bool:\n",
    "        if self.Area <= other.Area: return True\n",
    "        else: return False\n",
    "\n",
    "    def __gt__(self, other) -> bool:\n",
    "        if self.Area > other.Area: return True\n",
    "        else: return False\n",
    "        \n",
    "    def __ge__(self, other) -> bool:\n",
    "        if self.Area >= other.Area: return True\n",
    "        else: return False\n",
    "\n",
    "    # - - - - - - - - - - - - - - - - - - - - - - - - - - - - - - - - - - - - #\n",
    "\n",
    "\n",
    "class Circle(Shape):\n",
    "    \"\"\"Circle. Inherits from Shape.\"\"\"\n",
    "    def __init__(self, position: tuple, radius: float) -> None:\n",
    "        \n",
    "        super().__init__(position)\n",
    "        self.radius = radius\n",
    "\n",
    "    @property\n",
    "    def area(self):\n",
    "        return math.pi * self.radius * 2\n",
    "\n",
    "\n",
    "# square1 = Rectangle((0,0),12,12)\n",
    "# square2 = Rectangle((0,0),12,11)\n",
    "\n",
    "# print(square1.area < square2.area)\n",
    "\n",
    "#square2 = Rectangle((0,0),2,2)\n"
   ]
  },
  {
   "cell_type": "code",
   "execution_count": 231,
   "metadata": {},
   "outputs": [
    {
     "name": "stdout",
     "output_type": "stream",
     "text": [
      "position setter running\n",
      "position setter running\n"
     ]
    }
   ],
   "source": [
    "circle1 = Circle((0,0),12.4)\n",
    "\n",
    "circle2 = Circle((0,0),12.1)"
   ]
  },
  {
   "cell_type": "code",
   "execution_count": 232,
   "metadata": {},
   "outputs": [
    {
     "name": "stdout",
     "output_type": "stream",
     "text": [
      "position setter running\n",
      "position setter running\n",
      "True\n",
      "position setter running\n",
      "132\n",
      "75.39822368615503\n"
     ]
    }
   ],
   "source": [
    "square1 = Rectangle((0,0),12,12)\n",
    "square2 = Rectangle((0,0),12,11)\n",
    "\n",
    "print(square1.perimeter >= square2.perimeter)\n",
    "\n",
    "\n",
    "\n",
    "circle1 = Circle((0,0),12)\n",
    "#square2 = Rectangle((0,0),2,2)\n",
    "\n",
    "print(square2.area)\n",
    "print(circle1.area)"
   ]
  }
 ],
 "metadata": {
  "kernelspec": {
   "display_name": "Python 3.9.13 ('helvetica-vDNe7t5J')",
   "language": "python",
   "name": "python3"
  },
  "language_info": {
   "codemirror_mode": {
    "name": "ipython",
    "version": 3
   },
   "file_extension": ".py",
   "mimetype": "text/x-python",
   "name": "python",
   "nbconvert_exporter": "python",
   "pygments_lexer": "ipython3",
   "version": "3.9.13"
  },
  "orig_nbformat": 4,
  "vscode": {
   "interpreter": {
    "hash": "87963c44df63088d167d5530105c3e3af538607c5bfb8dea2d5d486a9477964e"
   }
  }
 },
 "nbformat": 4,
 "nbformat_minor": 2
}
