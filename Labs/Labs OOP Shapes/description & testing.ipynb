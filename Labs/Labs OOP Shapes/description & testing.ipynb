{
 "cells": [
  {
   "cell_type": "markdown",
   "metadata": {},
   "source": [
    "### Geometry OOP Lab - Study in Code Structure & UML Practice\n",
    "\n",
    "--- \n",
    "\n",
    "Du ska skapa följande geometriska klasser:\n",
    "\n",
    "The purpose of this lab is to use object-oriented programming in Python to design programs with good structure. In this lab, we will plan how to structure classes using UML and then implement the planning in Python.\n",
    "\n",
    "Notera att du även kan behöva ytterligare klass(er) om du vill utnyttja arv och/eller komposition.\n",
    "\n",
    "The classes must have:\n",
    "```\n",
    "area property\n",
    "circumference property\n",
    "\n",
    "operator overload av == för att checka likhet\n",
    "operator overload av komparatoroperatorer <,>,<=>,> för jämförelser\n",
    "override av __repr__()\n",
    "override av __str__\n",
    "\n",
    "x och y som representerar mittpositionen av objektet\n",
    "en translationsmetod som gör det möjligt att förflytta x och y\n",
    "en metod som checkar om en viss punkt befinner sig innanför objektet\n",
    "felhantering\n",
    "en metod som checkar om cirkelinstansen är en enhetscirkel\n",
    "en metod som checkar om rektangelinstansen är en kvadrat\n",
    "```\n"
   ]
  },
  {
   "cell_type": "markdown",
   "metadata": {},
   "source": [
    "## Bedömning\n",
    "\n",
    "Börja med att skapa en planering med diagrams.net och därefter implementerar du din planering i Python. Det är helt okej att använda annan programvara för att skapa UML eller att göra en med papper och penna.Gör manuella tester, likt ovan, men testa mer. Tips är att ha en .ipynb-fil vid sidan om som importerar dina klasser för att göra manuella tester medan du skriver klasserna.Om du har fått någon kodsnutt från någon annan eller hittat i någon sida är det viktigt att du källhänvisar. Skriv en kommentar bredvid koden som du har tagit.gjort en enkel planering med UML löst uppgift på korrekt sätt koden är kommenterad med relevanta kommentarer, docstrings ska användas variabelnamnen är bra valda gjort flera relevanta git commitskoden är enkel att följa koden är välstrukturerad med lämpliga klasser, funktioner, metoder koden återanvänds där det går istället för att återupprepa kommentarerna är datavetenskapligt korrekta gjort samtliga uppgifter"
   ]
  },
  {
   "cell_type": "code",
   "execution_count": null,
   "metadata": {},
   "outputs": [],
   "source": [
    "string = \"retfigppu agiltmas trojg atkerrok tgilpaksnetevatad rä anreratnemmok aperppuretå tta röf tellätsi råg ted räd sdnävnaretå nedok redotem ,renoitknuf ,ressalk agilpmäl dem darerutkurtsläv rä nedok ajlöf tta lekne rä nedok stimmoc tig atnaveler arelf trojg adlav arb rä nenmanlebairav sadnävna aks sgnirtscod ,reratnemmok atnaveler dem daretnemmok rä nedok ttäs tkerrok åp tfigppu tsöl LMU dem gnirenalp lekne ne trojg .tigat rah ud mos nedok divderb ratnemmok ne virkS .rasivnählläk ud tta tgitkiv ted rä adis nogån i tattih relle nanna nogån nårf ttunsdok nogån ttåf rah ud mO .anressalk revirks ud nadem retset alleunam arög tta röf ressalk anid raretropmi mos mo nadis div lif-bnypi. ne ah tta rä spiT .rem atset nem ,navo tkil ,retset alleunam röG .annep hco reppap dem ne arög tta relle LMU apaks tta röf aravmargorp nanna adnävna tta jeko tleh rä teD .nohtyP i gnirenalp nid ud raretnemelpmi retferäd hco ten.smargaid dem gnirenalp ne apaks tta dem ajröB gninmödeB\""
   ]
  }
 ],
 "metadata": {
  "kernelspec": {
   "display_name": "Python 3.9.13 ('helvetica-vDNe7t5J')",
   "language": "python",
   "name": "python3"
  },
  "language_info": {
   "name": "python",
   "version": "3.9.13"
  },
  "orig_nbformat": 4,
  "vscode": {
   "interpreter": {
    "hash": "87963c44df63088d167d5530105c3e3af538607c5bfb8dea2d5d486a9477964e"
   }
  }
 },
 "nbformat": 4,
 "nbformat_minor": 2
}
