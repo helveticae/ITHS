{
 "cells": [
  {
   "cell_type": "code",
   "execution_count": 15,
   "metadata": {},
   "outputs": [],
   "source": [
    "import sys\n",
    "sys.path.append(\"../Labs OOP Shapes/\")\n",
    "from geometry_shapes import Circle, Cube\n",
    "\n",
    "# %load_ext autoreload\n",
    "# %autoreload 2"
   ]
  },
  {
   "cell_type": "code",
   "execution_count": 16,
   "metadata": {},
   "outputs": [
    {
     "name": "stdout",
     "output_type": "stream",
     "text": [
      "position setter running\n",
      "position setter running\n"
     ]
    }
   ],
   "source": [
    "frying_pan = Circle((0,0),15)       # Storlek på stekpanna, radius = 15 cm\n",
    "ice_cube = Cube((0,0,0),2,2,2)      # Storlek på iskub i centimeter (2x2x2)\n",
    "target_temperatue = 100             # Temperatur för stekpanna\n",
    "price = .40                         # Spotpris på el i krona/kWh"
   ]
  },
  {
   "cell_type": "markdown",
   "metadata": {},
   "source": [
    "Vi utgår från att rumstemperaturen är 20 celcius. Hur lång tid tar det för iskuben att smälta om stekpannan är avstängd?\n",
    "\n",
    "Hur avancerad ska den här formeln vara? För enkelhetens skull börjar vi med att räkna på att den bara smälter på ytan som rör vid stekpannan."
   ]
  },
  {
   "cell_type": "code",
   "execution_count": 17,
   "metadata": {},
   "outputs": [
    {
     "name": "stdout",
     "output_type": "stream",
     "text": [
      "hour=1: Ice cube: 1.88\n",
      "hour=2: Ice cube: 1.76\n",
      "hour=3: Ice cube: 1.63\n",
      "hour=4: Ice cube: 1.51\n",
      "hour=5: Ice cube: 1.39\n",
      "hour=6: Ice cube: 1.27\n",
      "hour=7: Ice cube: 1.14\n",
      "hour=8: Ice cube: 1.02\n",
      "hour=9: Ice cube: 0.9\n",
      "hour=10: Ice cube: 0.78\n",
      "hour=11: Ice cube: 0.66\n",
      "hour=12: Ice cube: 0.53\n",
      "hour=13: Ice cube: 0.41\n",
      "hour=14: Ice cube: 0.29\n",
      "hour=15: Ice cube: 0.17\n",
      "hour=16: Ice cube: 0.04\n",
      "hour=17: Ice cube: -0.08\n",
      "17 hours to melt ice cube.\n"
     ]
    }
   ],
   "source": [
    "# Återigen, för enkelhetens skull börjar vi med en linjär smältning.\n",
    "hour = 0\n",
    "while ice_cube.width >= 0:\n",
    "    hour += 1\n",
    "    ice_cube.width = ice_cube.width - .1222    # arbiträr linjär smältning på .1222 per timme\n",
    "    print(f\"{hour=}: Ice cube: {round(ice_cube.width,2)}\")\n",
    "\n",
    "print(f\"{hour} hours to melt ice cube.\")"
   ]
  }
 ],
 "metadata": {
  "kernelspec": {
   "display_name": "Python 3.9.13 ('helvetica-vDNe7t5J')",
   "language": "python",
   "name": "python3"
  },
  "language_info": {
   "codemirror_mode": {
    "name": "ipython",
    "version": 3
   },
   "file_extension": ".py",
   "mimetype": "text/x-python",
   "name": "python",
   "nbconvert_exporter": "python",
   "pygments_lexer": "ipython3",
   "version": "3.9.13"
  },
  "orig_nbformat": 4,
  "vscode": {
   "interpreter": {
    "hash": "87963c44df63088d167d5530105c3e3af538607c5bfb8dea2d5d486a9477964e"
   }
  }
 },
 "nbformat": 4,
 "nbformat_minor": 2
}
