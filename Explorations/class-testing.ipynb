{
 "cells": [
  {
   "cell_type": "code",
   "execution_count": null,
   "metadata": {},
   "outputs": [],
   "source": [
    "# i andra språk använder man getters och setters \n",
    "class Person:\n",
    "    \n",
    "    # type hinting - returns None\n",
    "    def __init__(self, age: float) -> None:\n",
    "        # bare attribute\n",
    "        self._age = age\n",
    "\n",
    "    def get_age(self) -> float:\n",
    "        return self._age\n",
    "    \n",
    "    def set_age(self, value: float) -> None:\n",
    "        # valideringskod\n",
    "        self._age = value\n",
    "\n",
    "person_instance = Person(40)\n",
    "#person_instance.age = -5\n",
    "print(person_instance.get_age())\n",
    "\n",
    "person_instance.set_age(10)\n",
    "person_instance.get_age()\n",
    "\n",
    "\n",
    "# i Python vill man direkt komma åt ens property och då dekorerar med med @property\n",
    "\n",
    "class Person:\n",
    "    \n",
    "    # type hinting - returns None\n",
    "    def __init__(self, age: float) -> None:\n",
    "        # assignment -> setter körs\n",
    "        self.age = age\n",
    "\n",
    "    @property\n",
    "    def age(self) -> float:\n",
    "        print(\"getter called ...\")\n",
    "        return self._age\n",
    "    \n",
    "    # andra metoder ...\n",
    "    def run_away(self):\n",
    "        print(\"Person runs away from class ...\")\n",
    "\n",
    "    @age.setter\n",
    "    def age(self, value: float) -> None:\n",
    "        # valideringskod\n",
    "\n",
    "        print(\"Setter called ...\")\n",
    "        self._age = value\n",
    "\n",
    "person_instance = Person(40)\n",
    "person_instance.age = 20\n",
    "person_instance.age"
   ]
  },
  {
   "cell_type": "markdown",
   "metadata": {},
   "source": []
  },
  {
   "cell_type": "code",
   "execution_count": 11,
   "metadata": {},
   "outputs": [
    {
     "data": {
      "text/plain": [
       "1"
      ]
     },
     "execution_count": 11,
     "metadata": {},
     "output_type": "execute_result"
    }
   ],
   "source": [
    "import random as rn\n",
    "class pin:\n",
    "\n",
    "    def __init__(self, name, type, level, hp, gender, nature):\n",
    "        self.name = name\n",
    "        self.type = type\n",
    "        self.level = level\n",
    "        self.type = type\n",
    "        self.stats = hp\n",
    "        self.gender = gender\n",
    "        self.nature = nature\n",
    "\n",
    "        def get_attack():\n",
    "            a = rn.random()\n",
    "            return self.level * nature * a * 0.1\n",
    "\n",
    "p01 = pin(\"Cuba\",1,1,1,0,0)\n",
    "\n",
    "p01.type\n",
    "\n"
   ]
  },
  {
   "cell_type": "markdown",
   "metadata": {},
   "source": [
    "---\n",
    "\n",
    "[Python documentation](https://docs.python.org/3/library/functions.html#property)\n",
    "\n",
    "A typical use is to define a managed attribute x:"
   ]
  },
  {
   "cell_type": "code",
   "execution_count": 5,
   "metadata": {},
   "outputs": [
    {
     "name": "stdout",
     "output_type": "stream",
     "text": [
      "<class '__main__.C'>\n"
     ]
    }
   ],
   "source": [
    "class C:\n",
    "    def __init__(self):\n",
    "        self._x = None\n",
    "\n",
    "    def getx(self):\n",
    "        return self._x\n",
    "\n",
    "    def setx(self, value):\n",
    "        self._x = value\n",
    "\n",
    "    def delx(self):\n",
    "        del self._x\n",
    "\n",
    "    x = property(getx, setx, delx, \"I'm the 'x' property.\")\n",
    "\n",
    "c = C"
   ]
  },
  {
   "cell_type": "markdown",
   "metadata": {},
   "source": [
    "If c is an instance of C, c.x will invoke the getter, c.x = value will invoke the setter, and del c.x the deleter.\n",
    "\n",
    "If given, doc will be the docstring of the property attribute. Otherwise, the property will copy fget’s docstring (if it exists). This makes it possible to create read-only properties easily using property() as a decorator:"
   ]
  },
  {
   "cell_type": "code",
   "execution_count": 6,
   "metadata": {},
   "outputs": [],
   "source": [
    "class Parrot:\n",
    "    def __init__(self):\n",
    "        self._voltage = 100000\n",
    "\n",
    "    @property\n",
    "    def voltage(self):\n",
    "        \"\"\"Get the current voltage.\"\"\"\n",
    "        return self._voltage"
   ]
  },
  {
   "cell_type": "markdown",
   "metadata": {},
   "source": [
    "The ```@property``` decorator turns the ```voltage()``` method into a “getter” for a read-only attribute with the same name, and it sets the docstring for voltage to “Get the current voltage.”\n",
    "\n",
    "A property object has ```getter```, ```setter```, and ```deleter``` methods usable as decorators that create a copy of the property with the corresponding accessor function set to the decorated function. This is best explained with an example:"
   ]
  },
  {
   "cell_type": "code",
   "execution_count": 10,
   "metadata": {},
   "outputs": [
    {
     "name": "stdout",
     "output_type": "stream",
     "text": [
      "<class '__main__.C'>\n"
     ]
    }
   ],
   "source": [
    "class C:\n",
    "    def __init__(self):\n",
    "        self._x = None\n",
    "\n",
    "    @property\n",
    "    def x(self):\n",
    "        \"\"\"I'm the 'x' property.\"\"\"\n",
    "        return self._x\n",
    "\n",
    "    @x.setter\n",
    "    def x(self, value):\n",
    "        self._x = value\n",
    "\n",
    "    @x.deleter\n",
    "    def x(self):\n",
    "        del self._x"
   ]
  },
  {
   "cell_type": "markdown",
   "metadata": {},
   "source": [
    "## @dataclass"
   ]
  },
  {
   "cell_type": "code",
   "execution_count": 3,
   "metadata": {},
   "outputs": [
    {
     "name": "stdout",
     "output_type": "stream",
     "text": [
      "value setter\n",
      "value must be int or float not property\n",
      "value setter\n",
      "value getter\n",
      "Prefix(value=42, unit='unit', prefix_symbol='None')\n"
     ]
    }
   ],
   "source": [
    "from __future__ import annotations\n",
    "from dataclasses import dataclass\n",
    "from sys import prefix\n",
    "\n",
    "@dataclass\n",
    "class Prefix:\n",
    "    # fields will go into the automatically generated __init__(), __repr__()\n",
    "    # fields - variable: type annotation\n",
    "    value: int | float # positional argument\n",
    "    unit: str = \"unit\" # keyword argument\n",
    "    prefix_symbol: str = \"None\"\n",
    "\n",
    "    symbols = \"T G M k h d c m µ n p\".split()\n",
    "    names = \"tera giga mega kilo hekto deci centi milli mikro nano piko\".split()\n",
    "    \n",
    "    # generator expression\n",
    "    values = (10**i for i in (12,9,6,3,2,-1,-2,-3,-6,-9,-12))\n",
    "\n",
    "    @property\n",
    "    def value(self):\n",
    "        print(\"value getter\")\n",
    "        return self._value\n",
    "\n",
    "    @value.setter\n",
    "    def value(self, value):\n",
    "        print(\"value setter\")\n",
    "        if not isinstance(value, (float, int)):\n",
    "            raise TypeError(f\"value must be int or float not {type(value).__name__}\")\n",
    "        self._value = value\n",
    "\n",
    "\n",
    "# in the def __init__(self,value,unit, ...)\n",
    "#           self.value = value\n",
    "#           self.unit = unit\n",
    "\n",
    "try:\n",
    "    p1 = Prefix()\n",
    "except TypeError as err:\n",
    "    print(err)\n",
    "\n",
    "p1 = Prefix(42)\n",
    "print(p1) # the __repr__ picks the value which will run the getter"
   ]
  }
 ],
 "metadata": {
  "kernelspec": {
   "display_name": "Python 3.9.13 64-bit",
   "language": "python",
   "name": "python3"
  },
  "language_info": {
   "codemirror_mode": {
    "name": "ipython",
    "version": 3
   },
   "file_extension": ".py",
   "mimetype": "text/x-python",
   "name": "python",
   "nbconvert_exporter": "python",
   "pygments_lexer": "ipython3",
   "version": "3.9.13"
  },
  "orig_nbformat": 4,
  "vscode": {
   "interpreter": {
    "hash": "aee8b7b246df8f9039afb4144a1f6fd8d2ca17a180786b69acc140d282b71a49"
   }
  }
 },
 "nbformat": 4,
 "nbformat_minor": 2
}
