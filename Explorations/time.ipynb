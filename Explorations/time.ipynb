{
 "cells": [
  {
   "cell_type": "code",
   "execution_count": null,
   "metadata": {},
   "outputs": [],
   "source": []
  },
  {
   "cell_type": "code",
   "execution_count": 20,
   "metadata": {},
   "outputs": [
    {
     "data": {
      "text/plain": [
       "time.struct_time(tm_year=1970, tm_mon=1, tm_mday=1, tm_hour=1, tm_min=4, tm_sec=0, tm_wday=3, tm_yday=1, tm_isdst=0)"
      ]
     },
     "execution_count": 20,
     "metadata": {},
     "output_type": "execute_result"
    }
   ],
   "source": [
    "import time\n",
    "time.gmtime(0)"
   ]
  },
  {
   "cell_type": "code",
   "execution_count": 16,
   "metadata": {},
   "outputs": [
    {
     "ename": "TypeError",
     "evalue": "'int' object is not iterable",
     "output_type": "error",
     "traceback": [
      "\u001b[0;31m---------------------------------------------------------------------------\u001b[0m",
      "\u001b[0;31mTypeError\u001b[0m                                 Traceback (most recent call last)",
      "\u001b[1;32m/Users/helvetica/Python-William-Lindstedt/Explorations/time.ipynb Cell 1\u001b[0m in \u001b[0;36m<cell line: 72>\u001b[0;34m()\u001b[0m\n\u001b[1;32m     <a href='vscode-notebook-cell:/Users/helvetica/Python-William-Lindstedt/Explorations/time.ipynb#W0sZmlsZQ%3D%3D?line=45'>46</a>\u001b[0m         dwm[counter] \u001b[39m+\u001b[39m dwp[n] \u001b[39m+\u001b[39m dwm[\u001b[39m0\u001b[39m]\n\u001b[1;32m     <a href='vscode-notebook-cell:/Users/helvetica/Python-William-Lindstedt/Explorations/time.ipynb#W0sZmlsZQ%3D%3D?line=47'>48</a>\u001b[0m \u001b[39m#    dwm[0] + dwp[0]\u001b[39;00m\n\u001b[1;32m     <a href='vscode-notebook-cell:/Users/helvetica/Python-William-Lindstedt/Explorations/time.ipynb#W0sZmlsZQ%3D%3D?line=48'>49</a>\u001b[0m \u001b[39m#    dwm[1] + dwp[1] + dwm[0]\u001b[39;00m\n\u001b[1;32m     <a href='vscode-notebook-cell:/Users/helvetica/Python-William-Lindstedt/Explorations/time.ipynb#W0sZmlsZQ%3D%3D?line=49'>50</a>\u001b[0m \u001b[39m#    dwm[2] + dwp[2] + dwm[0]\u001b[39;00m\n\u001b[0;32m   (...)\u001b[0m\n\u001b[1;32m     <a href='vscode-notebook-cell:/Users/helvetica/Python-William-Lindstedt/Explorations/time.ipynb#W0sZmlsZQ%3D%3D?line=67'>68</a>\u001b[0m \u001b[39m#            print(word)\u001b[39;00m\n\u001b[1;32m     <a href='vscode-notebook-cell:/Users/helvetica/Python-William-Lindstedt/Explorations/time.ipynb#W0sZmlsZQ%3D%3D?line=68'>69</a>\u001b[0m \u001b[39m#\u001b[39;00m\n\u001b[0;32m---> <a href='vscode-notebook-cell:/Users/helvetica/Python-William-Lindstedt/Explorations/time.ipynb#W0sZmlsZQ%3D%3D?line=71'>72</a>\u001b[0m cycle_me_for_days()\n\u001b[1;32m     <a href='vscode-notebook-cell:/Users/helvetica/Python-William-Lindstedt/Explorations/time.ipynb#W0sZmlsZQ%3D%3D?line=73'>74</a>\u001b[0m \u001b[39m#wsx = [\"s\", \"nes\", \"rs\", \"ur\"]  # word suffix + more\u001b[39;00m\n\u001b[1;32m     <a href='vscode-notebook-cell:/Users/helvetica/Python-William-Lindstedt/Explorations/time.ipynb#W0sZmlsZQ%3D%3D?line=79'>80</a>\u001b[0m months[\u001b[39m\"\u001b[39m\u001b[39mJanuary\u001b[39m\u001b[39m\"\u001b[39m]\n",
      "\u001b[1;32m/Users/helvetica/Python-William-Lindstedt/Explorations/time.ipynb Cell 1\u001b[0m in \u001b[0;36mcycle_me_for_days\u001b[0;34m()\u001b[0m\n\u001b[1;32m     <a href='vscode-notebook-cell:/Users/helvetica/Python-William-Lindstedt/Explorations/time.ipynb#W0sZmlsZQ%3D%3D?line=26'>27</a>\u001b[0m dwm \u001b[39m=\u001b[39m [\u001b[39m\"\u001b[39m\u001b[39mmon\u001b[39m\u001b[39m\"\u001b[39m],[\u001b[39m\"\u001b[39m\u001b[39mtue\u001b[39m\u001b[39m\"\u001b[39m],[\u001b[39m\"\u001b[39m\u001b[39mwed\u001b[39m\u001b[39m\"\u001b[39m],[\u001b[39m\"\u001b[39m\u001b[39mthu\u001b[39m\u001b[39m\"\u001b[39m],[\u001b[39m\"\u001b[39m\u001b[39mfri\u001b[39m\u001b[39m\"\u001b[39m],[\u001b[39m\"\u001b[39m\u001b[39msat\u001b[39m\u001b[39m\"\u001b[39m],[\u001b[39m\"\u001b[39m\u001b[39msun\u001b[39m\u001b[39m\"\u001b[39m] \u001b[39m# word constructors for random days\u001b[39;00m\n\u001b[1;32m     <a href='vscode-notebook-cell:/Users/helvetica/Python-William-Lindstedt/Explorations/time.ipynb#W0sZmlsZQ%3D%3D?line=28'>29</a>\u001b[0m \u001b[39m# hur bäst representera??\u001b[39;00m\n\u001b[1;32m     <a href='vscode-notebook-cell:/Users/helvetica/Python-William-Lindstedt/Explorations/time.ipynb#W0sZmlsZQ%3D%3D?line=29'>30</a>\u001b[0m \u001b[39m# 00 1 MON      DAY\u001b[39;00m\n\u001b[1;32m     <a href='vscode-notebook-cell:/Users/helvetica/Python-William-Lindstedt/Explorations/time.ipynb#W0sZmlsZQ%3D%3D?line=30'>31</a>\u001b[0m \u001b[39m# 11 2 TUE S    DAY\u001b[39;00m\n\u001b[0;32m   (...)\u001b[0m\n\u001b[1;32m     <a href='vscode-notebook-cell:/Users/helvetica/Python-William-Lindstedt/Explorations/time.ipynb#W0sZmlsZQ%3D%3D?line=35'>36</a>\u001b[0m \u001b[39m# 60 7 SUN      DAY\u001b[39;00m\n\u001b[1;32m     <a href='vscode-notebook-cell:/Users/helvetica/Python-William-Lindstedt/Explorations/time.ipynb#W0sZmlsZQ%3D%3D?line=36'>37</a>\u001b[0m \u001b[39m# It always end on 0, so we can remove that.\u001b[39;00m\n\u001b[0;32m---> <a href='vscode-notebook-cell:/Users/helvetica/Python-William-Lindstedt/Explorations/time.ipynb#W0sZmlsZQ%3D%3D?line=38'>39</a>\u001b[0m \u001b[39mfor\u001b[39;00m counter, value \u001b[39min\u001b[39;00m \u001b[39menumerate\u001b[39;49m(\u001b[39m6\u001b[39;49m):\n\u001b[1;32m     <a href='vscode-notebook-cell:/Users/helvetica/Python-William-Lindstedt/Explorations/time.ipynb#W0sZmlsZQ%3D%3D?line=39'>40</a>\u001b[0m     \u001b[39mif\u001b[39;00m counter \u001b[39m<\u001b[39m\u001b[39m=\u001b[39m \u001b[39m3\u001b[39m:\n\u001b[1;32m     <a href='vscode-notebook-cell:/Users/helvetica/Python-William-Lindstedt/Explorations/time.ipynb#W0sZmlsZQ%3D%3D?line=40'>41</a>\u001b[0m         n \u001b[39m=\u001b[39m \u001b[39m+\u001b[39m\u001b[39m1\u001b[39m \n",
      "\u001b[0;31mTypeError\u001b[0m: 'int' object is not iterable"
     ]
    }
   ],
   "source": [
    "# dictionary\n",
    "import random\n",
    "\n",
    "n = random.randint(-9,9) + 30\n",
    "\n",
    "months = {\n",
    "    'January': 31,\n",
    "    'February': 28,\n",
    "    'March' : 31,\n",
    "    'April' : 30,\n",
    "    'May' : 31,\n",
    "    'June': 30,\n",
    "    'July': 31,\n",
    "    'August': 31,\n",
    "    'September': 30,\n",
    "    'October': 31,\n",
    "    'November': 30,\n",
    "    'December':31\n",
    "}\n",
    "\n",
    "\n",
    "def cycle_me_for_days():\n",
    "    day_order = 5\n",
    "    r1 = random.randint(0,2)\n",
    "    r2 = random.randint(0,1)\n",
    "    dwp = [[\"day\"], [\"s\"], [\"nes\"], [\"rs\"], [\"ur\"]],\n",
    "    dwm = [\"mon\"],[\"tue\"],[\"wed\"],[\"thu\"],[\"fri\"],[\"sat\"],[\"sun\"] # word constructors for random days\n",
    "\n",
    "    # hur bäst representera??\n",
    "    # 00 1 MON      DAY\n",
    "    # 11 2 TUE S    DAY\n",
    "    # 22 3 WED NES  DAY\n",
    "    # 33 4 THU RS   DAY\n",
    "    # 40 5 FRI      DAY\n",
    "    # 54 6 SAT UR   DAY\n",
    "    # 60 7 SUN      DAY\n",
    "    # It always end on 0, so we can remove that.\n",
    "    \n",
    "    for counter, value in enumerate(6):\n",
    "        if counter <= 3:\n",
    "            n = +1 \n",
    "        elif counter == 3:\n",
    "            n = 0\n",
    "        elif counter >= 3:\n",
    "            n = 4\n",
    "        dwm[counter] + dwp[n] + dwm[0]\n",
    "\n",
    "#    dwm[0] + dwp[0]\n",
    "#    dwm[1] + dwp[1] + dwm[0]\n",
    "#    dwm[2] + dwp[2] + dwm[0]\n",
    "#    dwm[3] + dwp[3] + dwm[0]\n",
    "#    dwm[4] + dwp[0] \n",
    "#    dwm[5] + dwp[4] + dwm[0]\n",
    "#    dwm[6] + dwp[0]\n",
    "#    \n",
    "\n",
    "#    word = (dwp[-3] + dwp[4] + dwp[0])  # == \"friurday\"\n",
    "#\n",
    "#    word = ''.join(word)    # joins to string\n",
    "#    print(word)\n",
    "#    \n",
    "#    for i in range(7):\n",
    "#        mon2sun = 5\n",
    "#        while mon2sun<=14:\n",
    "#            if mon2sun =< word = (dwp[mon2sun] + dwp[0])\n",
    "#            mon2sun+=1\n",
    "#            word = ''.join(word)\n",
    "#            print(word)\n",
    "#\n",
    "    \n",
    "\n",
    "cycle_me_for_days()\n",
    "\n",
    "#wsx = [\"s\", \"nes\", \"rs\", \"ur\"]  # word suffix + more\n",
    "\n",
    "\n",
    "\n",
    "\n",
    "\n",
    "months[\"January\"]"
   ]
  },
  {
   "cell_type": "code",
   "execution_count": 14,
   "metadata": {},
   "outputs": [],
   "source": [
    "import time\n",
    "import math\n",
    "import matplotlib.pyplot as plt\n",
    "\n",
    "def timer():\n",
    "    # insert fun parameters before\n",
    "    for i in range(4):\n",
    "        time.sleep(0.1)\n",
    "        print(f\"{i}, {math.e**i}\")"
   ]
  },
  {
   "cell_type": "code",
   "execution_count": 15,
   "metadata": {},
   "outputs": [
    {
     "name": "stdout",
     "output_type": "stream",
     "text": [
      "0, 1.0\n",
      "1, 2.718281828459045\n",
      "2, 7.3890560989306495\n",
      "3, 20.085536923187664\n",
      "4, 54.59815003314423\n",
      "5, 148.41315910257657\n",
      "6, 403.428793492735\n",
      "7, 1096.6331584284583\n",
      "8, 2980.957987041727\n",
      "9, 8103.08392757538\n"
     ]
    }
   ],
   "source": [
    "timer()"
   ]
  },
  {
   "cell_type": "code",
   "execution_count": null,
   "metadata": {},
   "outputs": [],
   "source": []
  }
 ],
 "metadata": {
  "kernelspec": {
   "display_name": "Python 3.9.13 ('helvetica-vDNe7t5J')",
   "language": "python",
   "name": "python3"
  },
  "language_info": {
   "codemirror_mode": {
    "name": "ipython",
    "version": 3
   },
   "file_extension": ".py",
   "mimetype": "text/x-python",
   "name": "python",
   "nbconvert_exporter": "python",
   "pygments_lexer": "ipython3",
   "version": "3.9.13"
  },
  "orig_nbformat": 4,
  "vscode": {
   "interpreter": {
    "hash": "87963c44df63088d167d5530105c3e3af538607c5bfb8dea2d5d486a9477964e"
   }
  }
 },
 "nbformat": 4,
 "nbformat_minor": 2
}
