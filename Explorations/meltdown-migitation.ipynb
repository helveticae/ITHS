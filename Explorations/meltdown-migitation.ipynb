{
 "cells": [
  {
   "cell_type": "code",
   "execution_count": 11,
   "metadata": {},
   "outputs": [
    {
     "data": {
      "text/plain": [
       "True"
      ]
     },
     "execution_count": 11,
     "metadata": {},
     "output_type": "execute_result"
    }
   ],
   "source": [
    "from __future__ import annotations\n",
    "from ast import Continue\n",
    "\n",
    "\n",
    "def is_critically_balanced(temperatue: (int|float), neutrons_emitted: (int|float)) -> bool:\n",
    "    \"\"\"Function to keep nuclear reactor safe.\"\"\"\n",
    "\n",
    "    if temperatue < 800 and neutrons_emitted > 500 and neutrons_emitted * temperatue < 500_000:\n",
    "        return True\n",
    "    return False\n",
    "\n",
    "is_critically_balanced(400,520)"
   ]
  },
  {
   "cell_type": "code",
   "execution_count": 49,
   "metadata": {},
   "outputs": [],
   "source": [
    "from __future__ import annotations\n",
    "def reactor_efficiency(voltage:(int|float), current:(int|float), theroetical_max_power:(int|float)) -> str:\n",
    "    \"\"\"Outputs value as colors.\"\"\"\n",
    "    generated_power = voltage * current\n",
    "    efficiency = (generated_power / theroetical_max_power) * 100\n",
    "    if efficiency >= 80:\n",
    "        print(efficiency)\n",
    "        return \"Green\"\n",
    "    if 60 >= efficiency > 80:\n",
    "        print(efficiency)\n",
    "        return \"Orange\"\n",
    "    if 30 >= efficiency < 60:\n",
    "        print(efficiency)\n",
    "        return \"Red\"\n",
    "    if efficiency < 30:\n",
    "        print(efficiency)\n",
    "        return \"Black\"\n",
    "\n",
    "reactor_efficiency(2500,30,100_000)"
   ]
  },
  {
   "cell_type": "code",
   "execution_count": null,
   "metadata": {},
   "outputs": [],
   "source": [
    "from __future__ import annotations\n",
    "def fail_safe(temperatue: (int|float), neutrons_emitted: (int|float), threshold: (int|float)) -> str:\n",
    "    \"\"\"Avoid overload. Detemines if reactor is below, at or above threshold.\"\"\"\n",
    "\n",
    "    if temperatue * neutrons_emitted < threshold * .9:\n",
    "        return \"LOW\"\n",
    "    if threshold * .9 <= temperatue * neutrons_emitted <= threshold * 1.1:\n",
    "        return \"NORMAL\"\n",
    "    if temperatue * neutrons_emitted > 1.1 * threshold:\n",
    "        return \"DANGER\""
   ]
  }
 ],
 "metadata": {
  "kernelspec": {
   "display_name": "Python 3.9.13 ('helvetica-vDNe7t5J')",
   "language": "python",
   "name": "python3"
  },
  "language_info": {
   "codemirror_mode": {
    "name": "ipython",
    "version": 3
   },
   "file_extension": ".py",
   "mimetype": "text/x-python",
   "name": "python",
   "nbconvert_exporter": "python",
   "pygments_lexer": "ipython3",
   "version": "3.9.13"
  },
  "orig_nbformat": 4,
  "vscode": {
   "interpreter": {
    "hash": "87963c44df63088d167d5530105c3e3af538607c5bfb8dea2d5d486a9477964e"
   }
  }
 },
 "nbformat": 4,
 "nbformat_minor": 2
}
