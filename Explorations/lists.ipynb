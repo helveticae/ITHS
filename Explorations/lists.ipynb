{
 "cells": [
  {
   "cell_type": "code",
   "execution_count": 8,
   "metadata": {},
   "outputs": [
    {
     "data": {
      "text/plain": [
       "[12, 13, 14]"
      ]
     },
     "execution_count": 8,
     "metadata": {},
     "output_type": "execute_result"
    }
   ],
   "source": [
    "def get_rounds(round_number: int) -> list:\n",
    "    return [round_number + i for i in range(3)]\n",
    "\n",
    "    # list comprehension above <=>\n",
    "    \n",
    "    #for i in range(3):\n",
    "    #    round_list.append((round_number + i))\n",
    "    #return round_list\n",
    "\n",
    "get_rounds(12)"
   ]
  },
  {
   "cell_type": "code",
   "execution_count": 9,
   "metadata": {},
   "outputs": [
    {
     "data": {
      "text/plain": [
       "[2, 3, 4, 5, 5, 2]"
      ]
     },
     "execution_count": 9,
     "metadata": {},
     "output_type": "execute_result"
    }
   ],
   "source": [
    "def concatenate_rounds(rounds1:list,rounds2:list) -> list:\n",
    "    return rounds1 + rounds2\n",
    "\n",
    "concatenate_rounds([2,3,4],[5,5,2])"
   ]
  },
  {
   "cell_type": "code",
   "execution_count": 11,
   "metadata": {},
   "outputs": [
    {
     "data": {
      "text/plain": [
       "True"
      ]
     },
     "execution_count": 11,
     "metadata": {},
     "output_type": "execute_result"
    }
   ],
   "source": [
    "def list_containing_rounds(rounds:list,round_number:int) -> bool:\n",
    "    if round_number in rounds:\n",
    "        return True\n",
    "    return False\n",
    "\n",
    "list_containing_rounds([22,33,12],12)"
   ]
  },
  {
   "cell_type": "code",
   "execution_count": 21,
   "metadata": {},
   "outputs": [
    {
     "data": {
      "text/plain": [
       "8.777777777777779"
      ]
     },
     "execution_count": 21,
     "metadata": {},
     "output_type": "execute_result"
    }
   ],
   "source": [
    "def card_average(hand:list) -> float:\n",
    "    return sum(hand)/len(hand)\n",
    "\n",
    "card_average([1,1,1,3,4,2,22,33,12])"
   ]
  },
  {
   "cell_type": "code",
   "execution_count": 31,
   "metadata": {},
   "outputs": [
    {
     "data": {
      "text/plain": [
       "False"
      ]
     },
     "execution_count": 31,
     "metadata": {},
     "output_type": "execute_result"
    }
   ],
   "source": [
    "def approx_average_is_average(hand:list):\n",
    "    actual_average = card_average(hand)\n",
    "    hand.sort()\n",
    "    \n",
    "    if hand[round(len(hand)/2)] == actual_average:\n",
    "        return True\n",
    "    if (hand[0] + hand[-1])/2 == actual_average:\n",
    "        return True\n",
    "    return False\n",
    "    \n",
    "approx_average_is_average([1,2,3,5,7])"
   ]
  },
  {
   "cell_type": "code",
   "execution_count": 32,
   "metadata": {},
   "outputs": [],
   "source": [
    "def average_even_is_average_odd(hand:list) -> bool:\n",
    "    even_hand = sum(hand[::2])/len(hand[::2])\n",
    "    odd_hand = sum(hand[1::2])/len(hand[1::2])\n",
    "    if even_hand == odd_hand:\n",
    "        return True\n",
    "    return False"
   ]
  },
  {
   "cell_type": "code",
   "execution_count": 34,
   "metadata": {},
   "outputs": [
    {
     "data": {
      "text/plain": [
       "[11, 11, 22]"
      ]
     },
     "execution_count": 34,
     "metadata": {},
     "output_type": "execute_result"
    }
   ],
   "source": [
    "def maybe_double_hand(hand:list) -> list:\n",
    "    if hand[-1] == 11:\n",
    "        hand[-1] *= 2\n",
    "        return hand\n",
    "    return hand\n",
    "\n",
    "maybe_double_hand([11,11,11])"
   ]
  }
 ],
 "metadata": {
  "kernelspec": {
   "display_name": "Python 3.9.13 ('helvetica-vDNe7t5J')",
   "language": "python",
   "name": "python3"
  },
  "language_info": {
   "codemirror_mode": {
    "name": "ipython",
    "version": 3
   },
   "file_extension": ".py",
   "mimetype": "text/x-python",
   "name": "python",
   "nbconvert_exporter": "python",
   "pygments_lexer": "ipython3",
   "version": "3.9.13"
  },
  "orig_nbformat": 4,
  "vscode": {
   "interpreter": {
    "hash": "87963c44df63088d167d5530105c3e3af538607c5bfb8dea2d5d486a9477964e"
   }
  }
 },
 "nbformat": 4,
 "nbformat_minor": 2
}
