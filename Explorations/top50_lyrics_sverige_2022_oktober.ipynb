{
 "cells": [
  {
   "cell_type": "code",
   "execution_count": 1,
   "metadata": {},
   "outputs": [
    {
     "data": {
      "text/plain": [
       "'Adam Gustafsson 25\\nEmil Johansson 23\\nSven Erik Karlsson 13\\nOve Karlsten 41\\nEmma Boden 32\\nIda Håkansson 23\\nElla Ester 41\\nHanna Karlsson 23 \\nJohan Johansson 42\\nSven Erik Lundin 39\\nBjörn Björnsson 39\\nKarl Karlsson 32\\nBose Bosseson 32\\nHåkan Håkanson 24\\nJonas Jonasson 31\\nErik Eriksson 31\\nGore Bord 55\\nJakob Kallander 65\\nFredrika Ulven 10'"
      ]
     },
     "execution_count": 1,
     "metadata": {},
     "output_type": "execute_result"
    }
   ],
   "source": [
    "# Reading from text file\n",
    "\n",
    "path = \"../Data/Provresultat.txt\"\n",
    "\n",
    "with open (path,\"r\") as file:\n",
    "    text = file.read()\n",
    "\n",
    "text"
   ]
  }
 ],
 "metadata": {
  "kernelspec": {
   "display_name": "Python 3.9.13 ('helvetica-vDNe7t5J')",
   "language": "python",
   "name": "python3"
  },
  "language_info": {
   "codemirror_mode": {
    "name": "ipython",
    "version": 3
   },
   "file_extension": ".py",
   "mimetype": "text/x-python",
   "name": "python",
   "nbconvert_exporter": "python",
   "pygments_lexer": "ipython3",
   "version": "3.9.13"
  },
  "orig_nbformat": 4,
  "vscode": {
   "interpreter": {
    "hash": "87963c44df63088d167d5530105c3e3af538607c5bfb8dea2d5d486a9477964e"
   }
  }
 },
 "nbformat": 4,
 "nbformat_minor": 2
}
