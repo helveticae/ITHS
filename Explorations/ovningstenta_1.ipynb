{
 "cells": [
  {
   "cell_type": "markdown",
   "metadata": {},
   "source": [
    "---"
   ]
  },
  {
   "cell_type": "code",
   "execution_count": 1,
   "metadata": {},
   "outputs": [],
   "source": [
    "import matplotlib.pyplot as plt\n",
    "\n",
    "x = list(range(10))                             # creates list of values 0 to 9 to x variable\n",
    "y = [i**2 for i in x]                           # creates list from x (x*2)\n",
    "fig, ax = plt.figure(), plt.axes()              # declare variable fig and ax as figure and axes submodule from pyplot\n",
    "ax.plot(x,y)                                    # plots x & y\n",
    "ax.set(title=\"Plot\", xlabel=\"x\", ylabel=\"y\")    # sets labels for ax plot"
   ]
  },
  {
   "cell_type": "markdown",
   "metadata": {},
   "source": [
    "## Uppgift 2 (3p)\n",
    "Simulera 1000000 tärningskast och beräkna antalet ettor, tvåor, treor, fyror, femmor och sexor. Spara resultatet i en lämplig datastruktur."
   ]
  },
  {
   "cell_type": "code",
   "execution_count": 4,
   "metadata": {},
   "outputs": [
    {
     "name": "stdout",
     "output_type": "stream",
     "text": [
      "{'1': 166835, '2': 166331, '3': 166345, '4': 166444, '5': 166551, '6': 166424}\n",
      "{'1': 166070, '2': 166519, '3': 167458, '4': 166889, '5': 167658, '6': 167251}\n",
      "{'1': 166937, '2': 166538, '3': 166423, '4': 166375, '5': 166792, '6': 166883}\n",
      "{'1': 166214, '2': 166763, '3': 167405, '4': 166880, '5': 166636, '6': 167090}\n",
      "{'1': 166986, '2': 166641, '3': 166271, '4': 166763, '5': 166831, '6': 166114}\n",
      "{'1': 166498, '2': 167003, '3': 166276, '4': 165930, '5': 167484, '6': 166446}\n",
      "{'1': 166350, '2': 166517, '3': 166332, '4': 166381, '5': 166150, '6': 166876}\n",
      "{'1': 166558, '2': 167082, '3': 167157, '4': 166832, '5': 166362, '6': 166268}\n",
      "6.38 s ± 48.9 ms per loop (mean ± std. dev. of 7 runs, 1 loop each)\n"
     ]
    }
   ],
   "source": [
    "%%timeit\n",
    "import random as rnd\n",
    "\n",
    "dice_list = {}\n",
    "\n",
    "for i, number in enumerate(\"123456\"):\n",
    "    dices = [rnd.randint(1,6) for i in range(1000000)]\n",
    "    dice_list[number]= dices.count(i+1)\n",
    "print(dice_list)\n"
   ]
  },
  {
   "cell_type": "code",
   "execution_count": null,
   "metadata": {},
   "outputs": [],
   "source": [
    "%%timeit\n",
    "\n",
    "rolls = [rnd.randint(1,6) for i in range(1_000_000)]\n",
    "dice_rolls = dict(\n",
    "roll1 = rolls.cound(1),\n",
    "roll1 = rolls.cound(2),\n",
    "roll1 = rolls.cound(3),\n",
    "roll1 = rolls.cound(4),\n",
    "roll1 = rolls.cound(5),\n",
    "roll1 = rolls.cound(6)\n",
    ")"
   ]
  },
  {
   "cell_type": "markdown",
   "metadata": {},
   "source": [
    "## Uppgift 3 (3p)\n",
    "Skriv en funktion som tar in en radie som inparameter och som returnerar volymen av en sfär. Volymen för en sfär är:\n",
    "\n",
    "\n",
    "\n",
    "Låt användaren mata in ett tal och kör funktionen. Tänk på att ta med lämplig felhantering."
   ]
  },
  {
   "cell_type": "code",
   "execution_count": null,
   "metadata": {},
   "outputs": [],
   "source": [
    "from abc import get_cache_token\n",
    "from math import pi\n",
    "\n",
    "def get_volume_sphere(radius):\n",
    "    \"\"\"Calculates sphere volume.\n",
    "    \n",
    "    >>> \n",
    "    \n",
    "    \"\"\"\n",
    "    if not isinstance(radius, (int, float)):\n",
    "        raise TypeError(f\"Radius must be int or float, not {type(radius).__name__}\")\n",
    "    if radius <= 0:\n",
    "        raise ValueError(\"Radius cannot be negative value.\")\n",
    "    \n",
    "    v = (4*pi*radius**3)/3\n",
    "\n",
    "    return v\n",
    "\n",
    "while True:\n",
    "    user_input = input(\"Enter radius.\")\n",
    "    try:\n",
    "        user_input = float(user_input)\n",
    "        get_volume_sphere(user_input)\n",
    "    except:\n",
    "        ValueError\n"
   ]
  },
  {
   "cell_type": "markdown",
   "metadata": {},
   "source": [
    "## Uppgift 4 (3p)\n",
    "Läs in en textfil som heter bamba.txt och innehåller:\n",
    " \n",
    "v42\n",
    "Chili sin carne\n",
    "Pannkakor\n",
    "Ärtsoppa\n",
    "Kebab\n",
    "Vegetarisk lasagne\n",
    "Läs in texterna och skriv ut dem i terminalen."
   ]
  },
  {
   "cell_type": "code",
   "execution_count": null,
   "metadata": {},
   "outputs": [],
   "source": [
    "file_path = \"../Data/Provresultat.txt\"\n",
    "\n",
    "with open(file_path, \"r\") as read_file:\n",
    "    for lines in read_file:\n",
    "        print(lines)"
   ]
  },
  {
   "cell_type": "code",
   "execution_count": 18,
   "metadata": {},
   "outputs": [
    {
     "name": "stdout",
     "output_type": "stream",
     "text": [
      " Adam Gustafsson 25\n",
      "\n",
      "mån Emil Johansson 23\n",
      "\n",
      "tis Sven Erik Karlsson 13\n",
      "\n",
      "ons Ove Karlsten 41\n",
      "\n",
      "tors Emma Boden 32\n",
      "\n",
      "fre Ida Håkansson 23\n",
      "\n"
     ]
    }
   ],
   "source": [
    "with open (\"../Data/Provresultat.txt\", \"r\") as f:\n",
    "    lines = f.readlines()\n",
    "    \n",
    "weekdays = [\"\",\"mån\", \"tis\", \"ons\", \"tors\", \"fre\"]\n",
    "both = [weekdays, lines]\n",
    "\n",
    "for i in zip(*both):\n",
    "    print(*i)"
   ]
  },
  {
   "cell_type": "markdown",
   "metadata": {},
   "source": [
    "## Uppgift 5 (3p)\n",
    "Skapa en funktion som tar in två punkter i 2D , och som returnerar tillbaka avståndet mellan dessa. Anropa därefter denna funktion för test\n",
    "Det finns en textfil som heter testpunkter.txt som ligger i undermappen testpoints och innehåller:"
   ]
  },
  {
   "cell_type": "code",
   "execution_count": 26,
   "metadata": {},
   "outputs": [
    {
     "ename": "ValueError",
     "evalue": "could not convert string to float: '(-2'",
     "output_type": "error",
     "traceback": [
      "\u001b[0;31m---------------------------------------------------------------------------\u001b[0m",
      "\u001b[0;31mValueError\u001b[0m                                Traceback (most recent call last)",
      "Cell \u001b[0;32mIn [26], line 19\u001b[0m\n\u001b[1;32m     17\u001b[0m     \u001b[39mfor\u001b[39;00m line \u001b[39min\u001b[39;00m lines_split:\n\u001b[1;32m     18\u001b[0m         \u001b[39mfor\u001b[39;00m index \u001b[39min\u001b[39;00m line:\n\u001b[0;32m---> 19\u001b[0m             index \u001b[39m=\u001b[39m \u001b[39mfloat\u001b[39;49m(index)\n\u001b[1;32m     21\u001b[0m \u001b[39mprint\u001b[39m(lines_split)\n",
      "\u001b[0;31mValueError\u001b[0m: could not convert string to float: '(-2'"
     ]
    }
   ],
   "source": [
    "with open(\"../Data/uppgift_5-ovningstenta.txt\", \"r\") as f_read:\n",
    "    data_lines = f_read.readlines()\n",
    "    data_lines.pop(0)\n",
    "\n",
    "    lines_clean = []\n",
    "    for line in data_lines:\n",
    "        line.replace(\"(\", \"\")\n",
    "        line.replace(\")\", \"\")\n",
    "        line.replace(\" \", \"\")\n",
    "        lines_clean.append(line)\n",
    "\n",
    "\n",
    "    lines_split = []\n",
    "    for linte in lines_clean:\n",
    "        lines_split.append(line.split(\",\"))\n",
    "\n",
    "    lines_float = []\n",
    "    for line in lines_split:\n",
    "        for index in line:\n",
    "            lines_float.append(float(index))\n",
    "\n",
    "print(lines_split)\n",
    "\n",
    "# a = (1,2)\n",
    "# b = (3,4)\n",
    "\n",
    "# def distance(p1:tuple, p2:tuple) -> float:\n",
    "#     x1, y1 = p1\n",
    "#     x2, y2 = p2\n",
    "\n",
    "#     return x1\n",
    "\n",
    "# distance(a,b)"
   ]
  },
  {
   "cell_type": "code",
   "execution_count": 30,
   "metadata": {},
   "outputs": [
    {
     "data": {
      "text/plain": [
       "['10', '20', '30', '40']"
      ]
     },
     "execution_count": 30,
     "metadata": {},
     "output_type": "execute_result"
    }
   ],
   "source": [
    "s = \"(10, 20), (30, 40)\"\n",
    "t = [i.strip(\"() \") for i in s.split(\",\")]\n",
    "t\n"
   ]
  },
  {
   "cell_type": "code",
   "execution_count": null,
   "metadata": {},
   "outputs": [],
   "source": [
    "class Animal():\n",
    "    def __init__(self, name):\n",
    "        self.name = name\n",
    "    def __str__(self):\n",
    "        return f\"Animal {self.name}\"\n",
    "class Dog(Animal):\n",
    "    # notera att __init__ är nedärvd\n",
    "    def __repr__(self):\n",
    "        return f\"Dog: {self.name}\"\n",
    "class Fish(Animal):\n",
    "    def __repr__(self):\n",
    "        return f\"Fish: {self.name}\"\n",
    "#TODO: implementera PetOwner\n",
    "\n",
    "class PetOwner():\n",
    "    def __init__(self, name, animal):\n",
    "        self.name = name\n",
    "        self.animal = animal\n",
    "\n",
    "    @property\n",
    "    def name(self):\n",
    "        return self._name\n",
    "\n",
    "    @name.setter\n",
    "    def name(self, value):\n",
    "        # TODO: felhantering\n",
    "        self._name = value\n",
    "\n",
    "    @property\n",
    "    def animal(self, animal):\n",
    "        return self._animal\n",
    "    \n",
    "    @animal.setter\n",
    "    def animal(self, animal):\n",
    "        temp_list = []\n",
    "        for name in animal:\n",
    "            temp_list.append(name)\n",
    "\n",
    "        self._animal =[Animal(name)]\n",
    "\n",
    "    def __str__(self):\n",
    "        print = f\"{self.name} owns:\"\n",
    "        print = f\"{self.name} owns:\"\n",
    "    \n",
    "\n",
    "\n",
    "\n",
    "# manuell test av PetOwner\n",
    "\n",
    "owner1 = PetOwner(\"Ada\",[\"Snoopy\", \"Pluto\"], [\"Fishy\", \"Buppy\"])\n",
    "owner2 = PetOwner(\"Beda\", [\"Barkly\"] )"
   ]
  }
 ],
 "metadata": {
  "kernelspec": {
   "display_name": "Python 3.9.13 ('helvetica-vDNe7t5J')",
   "language": "python",
   "name": "python3"
  },
  "language_info": {
   "codemirror_mode": {
    "name": "ipython",
    "version": 3
   },
   "file_extension": ".py",
   "mimetype": "text/x-python",
   "name": "python",
   "nbconvert_exporter": "python",
   "pygments_lexer": "ipython3",
   "version": "3.9.13"
  },
  "orig_nbformat": 4,
  "vscode": {
   "interpreter": {
    "hash": "87963c44df63088d167d5530105c3e3af538607c5bfb8dea2d5d486a9477964e"
   }
  }
 },
 "nbformat": 4,
 "nbformat_minor": 2
}
