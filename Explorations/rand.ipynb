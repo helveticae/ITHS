{
 "cells": [
  {
   "cell_type": "code",
   "execution_count": 66,
   "metadata": {},
   "outputs": [
    {
     "data": {
      "text/plain": [
       "'Hi, my name is Olle, I am Fire, my hidden value is 26'"
      ]
     },
     "execution_count": 66,
     "metadata": {},
     "output_type": "execute_result"
    }
   ],
   "source": [
    "import random as rnd\n",
    "\n",
    "\n",
    "class Monster:\n",
    "    \"\"\"Monster class.\n",
    "        mon_type:\n",
    "        0: Normal\n",
    "        1: Grass\n",
    "        2: Fire\n",
    "        3: Water\n",
    "             \"\"\"\n",
    "    def __init__(self, name = str, mon_type = int,\n",
    "                hval = int, base_stat = tuple):\n",
    "                \n",
    "        self.name = name\n",
    "        self.mon_type = mon_type\n",
    "        self._hval = hval\n",
    "        self.base_stat = base_stat\n",
    "\n",
    "    @property\n",
    "    def name(self) -> str:\n",
    "        return self._name\n",
    "\n",
    "    @name.setter\n",
    "    def name(self, name: str):\n",
    "        if not isinstance(name, str):\n",
    "            raise TypeError(f\"must be str\")\n",
    "        if len(name) >= 16:\n",
    "            raise ValueError(f\"must be less or equal to 16\")\n",
    "\n",
    "        self._name = name\n",
    "\n",
    "    @property\n",
    "    def mon_type(self) -> int:\n",
    "        return self._mon_type\n",
    "\n",
    "    @mon_type.setter\n",
    "    def mon_type(self, mon_type: int):\n",
    "        if 0 > mon_type < 25:\n",
    "            self._mon_type = 0\n",
    "        if 25 > mon_type < 50:\n",
    "            self._mon_type = 1\n",
    "        if 50 > mon_type < 75:\n",
    "            self._mon_type = 2\n",
    "        if 75 > mon_type > 100:\n",
    "            self._mon_type = 3\n",
    "\n",
    "    @property\n",
    "    def hval(self) -> str:\n",
    "        return self._hval\n",
    "\n",
    "    @hval.setter\n",
    "    def hval(self, hval: str):\n",
    "        if not isinstance(hval, int):\n",
    "            raise TypeError(f\"must be int\")\n",
    "        if 0 < hval > 15:\n",
    "            raise ValueError(f\"int must be 0-15\")\n",
    "\n",
    "    @property\n",
    "    def base_stat(self) -> tuple:\n",
    "        return self._base_stat\n",
    "\n",
    "    @base_stat.setter\n",
    "    def base_stat(self, base_stat: tuple):\n",
    "        if not isinstance(base_stat, tuple):\n",
    "            raise TypeError(f\"must be tuple\")\n",
    "        self._base_stat = base_stat\n",
    "\n",
    "    def say_hello(Monster):\n",
    "        return f\"Hi, my name is {Monster.name}, I am {mt_name(Monster.mon_type)}, my hidden value is {Monster.hval}\"\n",
    "\n",
    "    def __repr__(self):\n",
    "        return f\"('{self.name}', '{self.mon_type}', '{self.hval}')\"\n",
    "\n",
    "\n",
    "def mt_name(i) -> str:\n",
    "    \"\"\"Monster type name for print.\"\"\"\n",
    "    name_list = [\"Normal\", \"Grass\", \"Fire\", \"Water\"]\n",
    "    return name_list[i]\n",
    "\n",
    "    \n",
    "\n",
    "\n",
    "\n",
    "mon_base_stat = [0,]\n",
    "\n",
    "encounter1 = Monster(\"Olle\",0,26,(0,0,0,0,0))\n",
    "\n",
    "encounter2 = Monster(\"Alle\",0,0,(0,0,0,0,0))\n",
    "\n",
    "encounter1.say_hello()"
   ]
  }
 ],
 "metadata": {
  "kernelspec": {
   "display_name": "Python 3.9.13 ('helvetica-vDNe7t5J')",
   "language": "python",
   "name": "python3"
  },
  "language_info": {
   "name": "python",
   "version": "3.9.13"
  },
  "orig_nbformat": 4,
  "vscode": {
   "interpreter": {
    "hash": "87963c44df63088d167d5530105c3e3af538607c5bfb8dea2d5d486a9477964e"
   }
  }
 },
 "nbformat": 4,
 "nbformat_minor": 2
}
