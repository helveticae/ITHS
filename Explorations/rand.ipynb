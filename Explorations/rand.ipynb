{
 "cells": [
  {
   "cell_type": "code",
   "execution_count": null,
   "metadata": {},
   "outputs": [],
   "source": [
    "import random as rnd\n",
    "\n",
    "if rnd.randint(1,100) \n",
    "\n",
    "class Monster:\n",
    "    def __init__(self, name = str, type = int, hval = int, basestat = tuple):\n",
    "        self.name = name\n",
    "        self.type = type\n",
    "        self.hval = hval\n",
    "        self.basestat = basestat\n",
    "\n",
    "    @property\n",
    "    def name(self) -> str:\n",
    "        return self._name\n",
    "\n",
    "    @name.setter\n",
    "    def name(self, name: str):\n",
    "        if not isinstance(name, str):\n",
    "            raise TypeError(f\"must be str\")\n",
    "        self._name = name\n",
    "\n",
    "    @property\n",
    "    def type(self) -> int:\n",
    "        return self._type\n",
    "\n",
    "    @type.setter\n",
    "    def type(self, type: int):\n",
    "        if not isinstance(type, int):\n",
    "            raise TypeError(f\"must be int\")\n",
    "        if not 0 < type < 100:\n",
    "            raise ValueError(f\"int must be 0-100\")\n",
    "\n",
    "        if 0 < type > 25:\n",
    "            self._type = 0\n",
    "        if 25 < type > 50:\n",
    "            self._type = 1\n",
    "        if 50 < type > 75:\n",
    "            self._type = 2\n",
    "        if 75 < type > 100:\n",
    "            self._type = 3\n",
    "\n",
    "    @property\n",
    "    def hval(self) -> str:\n",
    "        return self._hval\n",
    "\n",
    "    @hval.setter\n",
    "    def hval(self, hval: str):\n",
    "        if not isinstance(hval, int):\n",
    "            raise TypeError(f\"must be int\")\n",
    "        if not 1 < hval < 16:\n",
    "            raise ValueError(f\"int must be 1-16\")\n",
    "\n",
    "        self._hval = rnd.randint(1,16) \n",
    "\n",
    "    def say_hello(Monster):\n",
    "        return f\"Hi, my name is {Monster.name}, I am {Monster.type}, my hidden value is {Monster.hval}\"\n",
    "\n",
    "    def __repr__(self):\n",
    "        return f\"('{self.name}', '{self.type}', '{self.hval}')\""
   ]
  }
 ],
 "metadata": {
  "kernelspec": {
   "display_name": "Python 3.9.13 ('helvetica-vDNe7t5J')",
   "language": "python",
   "name": "python3"
  },
  "language_info": {
   "name": "python",
   "version": "3.9.13"
  },
  "orig_nbformat": 4,
  "vscode": {
   "interpreter": {
    "hash": "87963c44df63088d167d5530105c3e3af538607c5bfb8dea2d5d486a9477964e"
   }
  }
 },
 "nbformat": 4,
 "nbformat_minor": 2
}
