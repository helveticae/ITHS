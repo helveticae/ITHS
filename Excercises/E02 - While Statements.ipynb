{
 "cells": [
  {
   "cell_type": "markdown",
   "metadata": {},
   "source": [
    "## 1. Count numbers"
   ]
  },
  {
   "cell_type": "code",
   "execution_count": 9,
   "metadata": {},
   "outputs": [
    {
     "name": "stdout",
     "output_type": "stream",
     "text": [
      "-10  -9  -8  -7  -6  -5  -4  -3  -2  -1  0  1  2  3  4  5  6  7  8  9  10  "
     ]
    }
   ],
   "source": [
    "n = -10\n",
    "while n <= 10:\n",
    "    print(n, \" \", end='')\n",
    "    n += 1"
   ]
  },
  {
   "cell_type": "markdown",
   "metadata": {},
   "source": [
    "## 2. Arithmetic sum"
   ]
  },
  {
   "cell_type": "code",
   "execution_count": 17,
   "metadata": {},
   "outputs": [
    {
     "name": "stdout",
     "output_type": "stream",
     "text": [
      "5050\n",
      "2500\n"
     ]
    }
   ],
   "source": [
    "sum, i,  = 0, 1\n",
    "\n",
    "while i <= 100:\n",
    "    sum = sum + i\n",
    "    i = i+1\n",
    "print(f\"{sum}\")\n",
    "\n",
    "sum, i,  = 0, 1\n",
    "\n",
    "while i <= 100:\n",
    "    sum = sum + i\n",
    "    i = i+2\n",
    "print(f\"{sum}\")"
   ]
  },
  {
   "cell_type": "markdown",
   "metadata": {},
   "source": [
    "## 3. Guess number game"
   ]
  },
  {
   "cell_type": "code",
   "execution_count": 6,
   "metadata": {},
   "outputs": [
    {
     "name": "stdout",
     "output_type": "stream",
     "text": [
      "50\n",
      "You are wrong, try again.\n",
      "The number is higher.\n",
      "You are correct! You guessed it in 2 tries.\n"
     ]
    }
   ],
   "source": [
    "import random\n",
    "randomint = random.randint(1,100)\n",
    "tries = 1\n",
    "print(randomint)\n",
    "\n",
    "while True:\n",
    "    guess = int(input(\"Guess the number (1-100): \"))\n",
    "\n",
    "    if guess == randomint:\n",
    "            print(f\"You are correct! You guessed it in {tries} tries.\")\n",
    "            break\n",
    "    else:\n",
    "            tries += 1\n",
    "            print(\"You are wrong, try again.\")\n",
    "            if guess <= randomint:\n",
    "                print(\"The number is higher.\")\n",
    "            else:\n",
    "                print(\"The number is lower.\")"
   ]
  },
  {
   "cell_type": "code",
   "execution_count": null,
   "metadata": {},
   "outputs": [],
   "source": []
  }
 ],
 "metadata": {
  "kernelspec": {
   "display_name": "Python 3.9.13 ('helvetica-vDNe7t5J')",
   "language": "python",
   "name": "python3"
  },
  "language_info": {
   "codemirror_mode": {
    "name": "ipython",
    "version": 3
   },
   "file_extension": ".py",
   "mimetype": "text/x-python",
   "name": "python",
   "nbconvert_exporter": "python",
   "pygments_lexer": "ipython3",
   "version": "3.9.13"
  },
  "orig_nbformat": 4,
  "vscode": {
   "interpreter": {
    "hash": "87963c44df63088d167d5530105c3e3af538607c5bfb8dea2d5d486a9477964e"
   }
  }
 },
 "nbformat": 4,
 "nbformat_minor": 2
}
