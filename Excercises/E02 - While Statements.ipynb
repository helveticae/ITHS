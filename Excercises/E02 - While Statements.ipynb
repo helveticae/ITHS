{
 "cells": [
  {
   "cell_type": "markdown",
   "metadata": {},
   "source": [
    "## 1. Count numbers"
   ]
  },
  {
   "cell_type": "code",
   "execution_count": 9,
   "metadata": {},
   "outputs": [
    {
     "name": "stdout",
     "output_type": "stream",
     "text": [
      "-10  -9  -8  -7  -6  -5  -4  -3  -2  -1  0  1  2  3  4  5  6  7  8  9  10  "
     ]
    }
   ],
   "source": [
    "# prints every integer from -10 to 10 on a single line\n",
    "n = -10\n",
    "while n <= 10:\n",
    "    print(n, \" \", end='')\n",
    "    n += 1"
   ]
  },
  {
   "cell_type": "markdown",
   "metadata": {},
   "source": [
    "## 2. Arithmetic sum"
   ]
  },
  {
   "cell_type": "code",
   "execution_count": 2,
   "metadata": {},
   "outputs": [
    {
     "name": "stdout",
     "output_type": "stream",
     "text": [
      "5050\n",
      "2500\n"
     ]
    }
   ],
   "source": [
    "# adds numbers by increments of 1 until 100\n",
    "sum, i,  = 0, 1\n",
    "\n",
    "while i <= 100:\n",
    "    sum = sum + i\n",
    "    i += 1\n",
    "print(f\"{sum}\")\n",
    "\n",
    "# adds numbers by increments of 2 until 100 (+ resetting variables sum and i)\n",
    "sum, i,  = 0, 1\n",
    "\n",
    "while i <= 100:\n",
    "    sum = sum + i\n",
    "    i += 2\n",
    "print(f\"{sum}\")"
   ]
  },
  {
   "cell_type": "markdown",
   "metadata": {},
   "source": [
    "## 3. Guess number game"
   ]
  },
  {
   "cell_type": "code",
   "execution_count": 1,
   "metadata": {},
   "outputs": [
    {
     "name": "stdout",
     "output_type": "stream",
     "text": [
      "Cheat: 45\n",
      "You are wrong, try again.\n",
      "The number is lower.\n",
      "You are correct! You guessed it in 2 tries.\n"
     ]
    }
   ],
   "source": [
    "#randomizes an integer between 1 and 100, recieves input\n",
    "\n",
    "import random\n",
    "randomint = random.randint(1,100)\n",
    "tries = 1\n",
    "\n",
    "print(f\"Cheat: {randomint}\") # Cheat for testing\n",
    "\n",
    "while True:\n",
    "    guess = int(input(\"Guess the number (1-100): \"))\n",
    "\n",
    "    if guess == randomint:\n",
    "            print(f\"You are correct! You guessed it in {tries} tries.\")\n",
    "            break\n",
    "    else:\n",
    "            tries += 1\n",
    "            print(\"You are wrong, try again.\")\n",
    "            if guess <= randomint:\n",
    "                print(\"The number is higher.\")\n",
    "            else:\n",
    "                print(\"The number is lower.\")"
   ]
  },
  {
   "cell_type": "markdown",
   "metadata": {},
   "source": [
    "## 4. Multiplication game"
   ]
  },
  {
   "cell_type": "code",
   "execution_count": null,
   "metadata": {},
   "outputs": [],
   "source": [
    "score = 0\n",
    "while True:\n",
    "    randx = random.randint(1,10)\n",
    "    randy = random.randint(1,10)\n",
    "    correct = randx * randy\n",
    "    while True:\n",
    "        guess = int(input(f\"What is {randx} times {randy}?\"))\n",
    "        if guess == correct:\n",
    "            score += 1\n",
    "            print(\"Good wörk!\")\n",
    "            print(f\"Your score is: {score}\")\n",
    "            break\n",
    "        else:\n",
    "            print(\"Wrong! Try again.\")"
   ]
  },
  {
   "cell_type": "markdown",
   "metadata": {},
   "source": [
    "## 5. Check convergence"
   ]
  },
  {
   "cell_type": "code",
   "execution_count": 19,
   "metadata": {},
   "outputs": [
    {
     "name": "stdout",
     "output_type": "stream",
     "text": [
      "1/1=1.0, sum is now: 1.0\n",
      "1/2=0.5, sum is now: 1.5\n",
      "1/4=0.25, sum is now: 1.75\n",
      "1/8=0.125, sum is now: 1.875\n",
      "1/16=0.0625, sum is now: 1.9375\n",
      "1/32=0.03125, sum is now: 1.96875\n",
      "1/64=0.015625, sum is now: 1.984375\n",
      "1/128=0.0078125, sum is now: 1.9921875\n",
      "1/256=0.00390625, sum is now: 1.99609375\n",
      "1/512=0.001953125, sum is now: 1.998046875\n",
      "1/1024=0.0009765625, sum is now: 1.9990234375\n"
     ]
    }
   ],
   "source": [
    "# i guess this works but its ugly af\n",
    "t,b,a = 1,1,0\n",
    "\n",
    "while b <= 1024:\n",
    "    sum = t / b\n",
    "    print(f\"{t}/{b}={sum}\", end='')\n",
    "    b = b + b\n",
    "    a = a + sum\n",
    "    print(f\", sum is now: {a}\")"
   ]
  },
  {
   "cell_type": "code",
   "execution_count": null,
   "metadata": {},
   "outputs": [],
   "source": [
    "# importing math for pi\n",
    "import math\n",
    "mpi = math.pi\n",
    "\n",
    "t,b,a = 1,1,0\n",
    "even_odd_counter = 0\n",
    "\n",
    "while b <= 1024:\n",
    "    sum = t / b\n",
    "    print(f\"{t}/{b}={sum}\", end='')\n",
    "    if even_odd_counter %2 == 0:\n",
    "        a = a + sum\n",
    "    else:\n",
    "        a = a - sum\n",
    "    b = b + 2\n",
    "    even_odd_counter +=1\n",
    "    print(f\" sum is now: {a}\")\n",
    "\n",
    "# prints π/4\n",
    "print(mpi*0.25)"
   ]
  }
 ],
 "metadata": {
  "kernelspec": {
   "display_name": "Python 3.9.13 ('helvetica-vDNe7t5J')",
   "language": "python",
   "name": "python3"
  },
  "language_info": {
   "codemirror_mode": {
    "name": "ipython",
    "version": 3
   },
   "file_extension": ".py",
   "mimetype": "text/x-python",
   "name": "python",
   "nbconvert_exporter": "python",
   "pygments_lexer": "ipython3",
   "version": "3.9.13"
  },
  "orig_nbformat": 4,
  "vscode": {
   "interpreter": {
    "hash": "87963c44df63088d167d5530105c3e3af538607c5bfb8dea2d5d486a9477964e"
   }
  }
 },
 "nbformat": 4,
 "nbformat_minor": 2
}
