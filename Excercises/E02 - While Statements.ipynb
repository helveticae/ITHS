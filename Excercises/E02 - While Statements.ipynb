{
 "cells": [
  {
   "cell_type": "markdown",
   "metadata": {},
   "source": [
    "## 1. Count numbers"
   ]
  },
  {
   "cell_type": "code",
   "execution_count": 9,
   "metadata": {},
   "outputs": [
    {
     "name": "stdout",
     "output_type": "stream",
     "text": [
      "-10  -9  -8  -7  -6  -5  -4  -3  -2  -1  0  1  2  3  4  5  6  7  8  9  10  "
     ]
    }
   ],
   "source": [
    "# prints every integer from -10 to 10 on a single line\n",
    "n = -10\n",
    "while n <= 10:\n",
    "    print(n, \" \", end='')\n",
    "    n += 1"
   ]
  },
  {
   "cell_type": "markdown",
   "metadata": {},
   "source": [
    "## 2. Arithmetic sum"
   ]
  },
  {
   "cell_type": "code",
   "execution_count": 2,
   "metadata": {},
   "outputs": [
    {
     "name": "stdout",
     "output_type": "stream",
     "text": [
      "5050\n",
      "2500\n"
     ]
    }
   ],
   "source": [
    "# adds numbers by increments of 1 until 100\n",
    "sum, i,  = 0, 1\n",
    "\n",
    "while i <= 100:\n",
    "    sum = sum + i\n",
    "    i += 1\n",
    "print(f\"{sum}\")\n",
    "\n",
    "# adds numbers by increments of 2 until 100 (+ resetting variables sum and i)\n",
    "sum, i,  = 0, 1\n",
    "\n",
    "while i <= 100:\n",
    "    sum = sum + i\n",
    "    i += 2\n",
    "print(f\"{sum}\")"
   ]
  },
  {
   "cell_type": "markdown",
   "metadata": {},
   "source": [
    "## 3. Guess number game"
   ]
  },
  {
   "cell_type": "code",
   "execution_count": 1,
   "metadata": {},
   "outputs": [
    {
     "name": "stdout",
     "output_type": "stream",
     "text": [
      "Cheat: 45\n",
      "You are wrong, try again.\n",
      "The number is lower.\n",
      "You are correct! You guessed it in 2 tries.\n"
     ]
    }
   ],
   "source": [
    "import random\n",
    "randomint = random.randint(1,100)\n",
    "tries = 1\n",
    "\n",
    "print(f\"Cheat: {randomint}\") # Cheat for testing\n",
    "\n",
    "while True:\n",
    "    guess = int(input(\"Guess the number (1-100): \"))\n",
    "\n",
    "    if guess == randomint:\n",
    "            print(f\"You are correct! You guessed it in {tries} tries.\")\n",
    "            break\n",
    "    else:\n",
    "            tries += 1\n",
    "            print(\"You are wrong, try again.\")\n",
    "            if guess <= randomint:\n",
    "                print(\"The number is higher.\")\n",
    "            else:\n",
    "                print(\"The number is lower.\")"
   ]
  },
  {
   "cell_type": "markdown",
   "metadata": {},
   "source": [
    "## 4. Multiplication game"
   ]
  },
  {
   "cell_type": "code",
   "execution_count": 18,
   "metadata": {},
   "outputs": [
    {
     "name": "stdout",
     "output_type": "stream",
     "text": [
      "Good wörk!\n",
      "Your score is: 1\n",
      "1\n",
      "Good wörk!\n",
      "Your score is: 2\n",
      "2\n"
     ]
    },
    {
     "ename": "ValueError",
     "evalue": "invalid literal for int() with base 10: ''",
     "output_type": "error",
     "traceback": [
      "\u001b[0;31m---------------------------------------------------------------------------\u001b[0m",
      "\u001b[0;31mValueError\u001b[0m                                Traceback (most recent call last)",
      "\u001b[1;32m/Users/helvetica/Python-William-Lindstedt/Excercises/E02 - While Statements.ipynb Cell 8\u001b[0m in \u001b[0;36m<cell line: 3>\u001b[0;34m()\u001b[0m\n\u001b[1;32m      <a href='vscode-notebook-cell:/Users/helvetica/Python-William-Lindstedt/Excercises/E02%20-%20While%20Statements.ipynb#W6sZmlsZQ%3D%3D?line=4'>5</a>\u001b[0m correct \u001b[39m=\u001b[39m randx \u001b[39m*\u001b[39m randy\n\u001b[1;32m      <a href='vscode-notebook-cell:/Users/helvetica/Python-William-Lindstedt/Excercises/E02%20-%20While%20Statements.ipynb#W6sZmlsZQ%3D%3D?line=5'>6</a>\u001b[0m \u001b[39mwhile\u001b[39;00m \u001b[39mTrue\u001b[39;00m:\n\u001b[0;32m----> <a href='vscode-notebook-cell:/Users/helvetica/Python-William-Lindstedt/Excercises/E02%20-%20While%20Statements.ipynb#W6sZmlsZQ%3D%3D?line=6'>7</a>\u001b[0m     guess \u001b[39m=\u001b[39m \u001b[39mint\u001b[39;49m(\u001b[39minput\u001b[39;49m(\u001b[39mf\u001b[39;49m\u001b[39m\"\u001b[39;49m\u001b[39mWhat is \u001b[39;49m\u001b[39m{\u001b[39;49;00mrandx\u001b[39m}\u001b[39;49;00m\u001b[39m times \u001b[39;49m\u001b[39m{\u001b[39;49;00mrandy\u001b[39m}\u001b[39;49;00m\u001b[39m?\u001b[39;49m\u001b[39m\"\u001b[39;49m))\n\u001b[1;32m      <a href='vscode-notebook-cell:/Users/helvetica/Python-William-Lindstedt/Excercises/E02%20-%20While%20Statements.ipynb#W6sZmlsZQ%3D%3D?line=7'>8</a>\u001b[0m     \u001b[39mif\u001b[39;00m guess \u001b[39m==\u001b[39m correct:\n\u001b[1;32m      <a href='vscode-notebook-cell:/Users/helvetica/Python-William-Lindstedt/Excercises/E02%20-%20While%20Statements.ipynb#W6sZmlsZQ%3D%3D?line=8'>9</a>\u001b[0m         score \u001b[39m+\u001b[39m\u001b[39m=\u001b[39m \u001b[39m1\u001b[39m\n",
      "\u001b[0;31mValueError\u001b[0m: invalid literal for int() with base 10: ''"
     ]
    }
   ],
   "source": [
    "score = 0\n",
    "while True:\n",
    "    randx = random.randint(1,10)\n",
    "    randy = random.randint(1,10)\n",
    "    correct = randx * randy\n",
    "    while True:\n",
    "        guess = int(input(f\"What is {randx} times {randy}?\"))\n",
    "        if guess == correct:\n",
    "            score += 1\n",
    "            print(\"Good wörk!\")\n",
    "            print(f\"Your score is: {score}\")\n",
    "            break\n",
    "    print (score)"
   ]
  },
  {
   "cell_type": "markdown",
   "metadata": {},
   "source": []
  }
 ],
 "metadata": {
  "kernelspec": {
   "display_name": "Python 3.9.13 ('helvetica-vDNe7t5J')",
   "language": "python",
   "name": "python3"
  },
  "language_info": {
   "codemirror_mode": {
    "name": "ipython",
    "version": 3
   },
   "file_extension": ".py",
   "mimetype": "text/x-python",
   "name": "python",
   "nbconvert_exporter": "python",
   "pygments_lexer": "ipython3",
   "version": "3.9.13"
  },
  "orig_nbformat": 4,
  "vscode": {
   "interpreter": {
    "hash": "87963c44df63088d167d5530105c3e3af538607c5bfb8dea2d5d486a9477964e"
   }
  }
 },
 "nbformat": 4,
 "nbformat_minor": 2
}
