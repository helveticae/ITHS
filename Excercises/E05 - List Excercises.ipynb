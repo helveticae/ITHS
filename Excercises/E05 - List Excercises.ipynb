{
 "cells": [
  {
   "cell_type": "markdown",
   "metadata": {},
   "source": [
    "### 5. Dice rolls convergence\n",
    "Simulate:\n",
    "\n",
    "  a)   100 dice rolls and count the number of outcome six. (*)\n",
    "\n",
    "  b)   10, 100, 1000, 10000, 100000, 1000000 dice rolls. Count the number of outcome six in each simulation and store it in a list. Compute the probability of outcome six in each simulation. (**)"
   ]
  },
  {
   "cell_type": "code",
   "execution_count": 77,
   "metadata": {},
   "outputs": [
    {
     "name": "stdout",
     "output_type": "stream",
     "text": [
      "All rolls: [5, 6, 1, 6, 3, 5, 3, 2, 3, 4, 6, 5, 3, 1, 4, 2, 2, 1, 1, 1, 3, 4, 1, 6, 1, 1, 4, 1, 6, 5, 4, 1, 4, 1, 1, 2, 5, 5, 4, 2, 6, 4, 2, 6, 4, 3, 5, 4, 5, 6, 4, 3, 4, 4, 1, 5, 4, 1, 2, 1, 1, 1, 5, 6, 1, 2, 4, 3, 6, 3, 4, 5, 6, 3, 5, 3, 4, 4, 4, 6, 6, 3, 6, 1, 5, 1, 5, 5, 4, 6, 6, 4, 6, 5, 5, 1, 1, 4, 3, 4]\n",
      "Ammount of sixes: 17\n"
     ]
    }
   ],
   "source": [
    "import random\n",
    "li = []\n",
    "counter = 0\n",
    "\n",
    "for i in range(100):\n",
    "    a = random.randint(1,6)\n",
    "    li.append(a) # appends to list\n",
    "    if a == 6:\n",
    "        counter +=1\n",
    "print(f\"All rolls: {li}\")\n",
    "print(f\"Ammount of sixes: {counter}\")\n"
   ]
  },
  {
   "cell_type": "markdown",
   "metadata": {},
   "source": []
  },
  {
   "cell_type": "code",
   "execution_count": 2,
   "metadata": {},
   "outputs": [
    {
     "name": "stdout",
     "output_type": "stream",
     "text": [
      "0.15\n",
      "0.178\n",
      "0.1668\n",
      "0.16649\n",
      "0.166609\n",
      "0.166568\n",
      "[0.15, 0.178, 0.1668, 0.16649, 0.166609, 0.166568]\n"
     ]
    },
    {
     "data": {
      "text/plain": [
       "[<matplotlib.lines.Line2D at 0x11c78f1f0>]"
      ]
     },
     "execution_count": 2,
     "metadata": {},
     "output_type": "execute_result"
    },
    {
     "data": {
      "image/png": "[encoded data removed]",
      "text/plain": [
       "<Figure size 640x480 with 1 Axes>"
      ]
     },
     "metadata": {},
     "output_type": "display_data"
    }
   ],
   "source": [
    "# it ain't quick, it ain't pretty, but it works\n",
    "\n",
    "import random\n",
    "import matplotlib.pyplot as plt\n",
    "all_rolls = []\n",
    "n = 100\n",
    "\n",
    "def func(n):\n",
    "    counter = 0\n",
    "    for i in range(n):\n",
    "        a = random.randint(1,6)\n",
    "        all_rolls.append(a) # appends all rolls to list\n",
    "        if a == 6:\n",
    "            counter +=1\n",
    "    probability = counter/n\n",
    "    print(probability)\n",
    "    prob_list.append(probability)\n",
    "    return probability\n",
    "\n",
    "prob_list = []\n",
    "\n",
    "n = 100\n",
    "while n <= 10**7:\n",
    "    func(n)\n",
    "    n = n*10\n",
    "print(prob_list)\n",
    "\n",
    "plt.plot(prob_list)"
   ]
  },
  {
   "cell_type": "code",
   "execution_count": null,
   "metadata": {},
   "outputs": [],
   "source": []
  },
  {
   "cell_type": "markdown",
   "metadata": {},
   "source": [
    "### 7. A cute rabbit among two ferocious snakes (**)\n",
    "\n",
    "There are three identical doors, behind two of them, there are ferocious snakes and behind one of them is a cute little rabbit. Your aim is to pick a door and get the cute rabbit. You start picking one door randomly and suddenly another door opens and snake slithers away pssss. Now you have a choice to either stay with your door or change to the remaining door.\n",
    "\n",
    "  a) What is your choice and why? (**)\n",
    "\n",
    "  b) Randomly assign which door has the rabbit, and randomly pick an initial door. Now simulate 10, 100, 1000, 10000, 100000, 1000000 times for staying and for switching doors. Calculate the proportion of finding the rabbits for each set of simulations. Plot the results (**)"
   ]
  },
  {
   "cell_type": "markdown",
   "metadata": {},
   "source": [
    "## Visualising the problem\n",
    "What the agent sees:\n",
    "|Door#|1  |2  |3  |\n",
    "|:--|:--|:--|:--|\n",
    "|| 🚪| 🚪| 🚪|\n",
    "\n",
    "Possible positions behind doors:\n",
    "\n",
    "|Door#|1  |2  |3  |\n",
    "|:--|:--|:--|:--|\n",
    "|pos1| 🐇| 🐍| 🐍|\n",
    "|pos2| 🐍| 🐇| 🐍|\n",
    "|pos3| 🐍| 🐍| 🐇|\n",
    "\n",
    "After the agent selects a door, another door opens.\n",
    "The door opened cannot contain a rabbit and it cannot be the same as agent selection.\n",
    "\n",
    "```\n",
    "If pos1, door open = 2 OR 3\n",
    "If pos2, door open = 1 OR 3\n",
    "If pos3, door open = 1 OR 2\n",
    "```\n",
    "\n",
    "Giving us six possible states:\n",
    "|Door#|1  |2  |3  |\n",
    "|:--|:--|:--|:--|\n",
    "|pos12|🐇|🐍||\n",
    "|pos13|🐇||🐍|\n",
    "|pos21|🐍|🐇||\n",
    "|pos23||🐇|🐍|\n",
    "|pos31|🐍||🐇|\n",
    "|pos32||🐍|🐇|\n",
    "\n",
    "The odds when making a selection now should always be 1/2. Intuitively this table seems to make sense, but one important thing is wrong:\n",
    "The selection has already been made and the above table breaks the game rules.\n",
    "So far we have only visualised the possible scenarios with no initial door selected. Since the selected door never can be opened:\n",
    "\n",
    "```\n",
    "If pos1 and choice 1: door open 2 OR 3\n",
    "If pos1 and choice 2: door open 3\n",
    "If pos1 and choice 3: door open 2\n",
    "\n",
    "If pos2 and choice 1: door open 3\n",
    "If pos2 and choice 2: door open 1 OR 3\n",
    "If pos2 and choice 3: door open 1\n",
    "\n",
    "If pos3 and choice 1: door open 2\n",
    "If pos3 and choice 2: door open 1\n",
    "If pos3 and choice 3: door open 1 OR 2\n",
    "\n",
    "```\n",
    "\n",
    "The pattern is starting to get interesting, and I haven't even started running simulations yet!\n",
    "\n"
   ]
  },
  {
   "cell_type": "code",
   "execution_count": 14,
   "metadata": {},
   "outputs": [
    {
     "data": {
      "text/plain": [
       "'rabbit'"
      ]
     },
     "execution_count": 14,
     "metadata": {},
     "output_type": "execute_result"
    }
   ],
   "source": [
    "import random\n",
    "\n",
    "'''\n",
    "First of all, the question is... Rather odd. If a door randomly were to be opened after making the initial selection of door, it would be 2/3 chance of a snake and 1/3 of a rabbit.\n",
    "In this scenario the random door opened is always 1/1 snake, hence not random.\n",
    "\n",
    "Possible:\n",
    "\n",
    "R S S\n",
    "S R S\n",
    "S S R\n",
    "\n",
    "'''\n",
    "\n",
    "animals = [\"rabbit\", \"snake\", \"snake\"] #list where index 0 is rabbit, index 1 and 2 are snakes\n",
    "# 1/3 positive result, 2/3 negative result for example:\n",
    "animals[random.randint(0,2)]\n",
    "\n",
    "doors = [0,0,0]\n",
    "\n",
    "choice = random.randomint(0,2)\n",
    "\n",
    "\n",
    "\n",
    "\n"
   ]
  },
  {
   "cell_type": "markdown",
   "metadata": {},
   "source": []
  },
  {
   "cell_type": "markdown",
   "metadata": {},
   "source": []
  }
 ],
 "metadata": {
  "kernelspec": {
   "display_name": "Python 3.9.13 64-bit",
   "language": "python",
   "name": "python3"
  },
  "language_info": {
   "codemirror_mode": {
    "name": "ipython",
    "version": 3
   },
   "file_extension": ".py",
   "mimetype": "text/x-python",
   "name": "python",
   "nbconvert_exporter": "python",
   "pygments_lexer": "ipython3",
   "version": "3.9.13"
  },
  "orig_nbformat": 4,
  "vscode": {
   "interpreter": {
    "hash": "aee8b7b246df8f9039afb4144a1f6fd8d2ca17a180786b69acc140d282b71a49"
   }
  }
 },
 "nbformat": 4,
 "nbformat_minor": 2
}
