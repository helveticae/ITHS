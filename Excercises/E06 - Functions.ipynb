{
 "cells": [
  {
   "cell_type": "markdown",
   "metadata": {},
   "source": [
    "## 1. Area\n",
    "\n",
    "Create a function that takes the base and height of a triangle as input parameters and returns the area of the triangle."
   ]
  },
  {
   "cell_type": "code",
   "execution_count": 23,
   "metadata": {},
   "outputs": [
    {
     "name": "stdout",
     "output_type": "stream",
     "text": [
      "If base=100.0 and height=10.0, tri_area(base,height)=500.0.\n"
     ]
    }
   ],
   "source": [
    "def tri_area(b,h):\n",
    "    return b*h/2\n",
    "\n",
    "if __name__ == \"__main__\":\n",
    "    base = float(input(\"Base: \"))\n",
    "    height = float(input(\"Height: \"))\n",
    "    print(f\"If {base=} and {height=}, {tri_area(base,height)=}.\")\n"
   ]
  },
  {
   "cell_type": "markdown",
   "metadata": {},
   "source": [
    "## 2. Euclidean distance\n",
    "\n",
    "The formula for Euclidean distance in 2D between $P: (p_1, p_2)$ and $Q: (q_1, q_2)$  is: \n",
    "\n",
    "$d(P,Q) = \\sqrt{(p_1-q_1)^2 + (p_2-q_2)^2}$\n",
    "\n",
    "&nbsp; a) &nbsp; Create a function that takes two points as input parameters and return the Euclidean between them. (*)\n",
    "\n",
    "&nbsp; b) &nbsp; Let the user input two points. Call the function using the users input points. (*)\n",
    "\n",
    "&nbsp; c) &nbsp; Use your function to calculate distances between the origin (0, 0) and each of these points: (10, 3), (-1, -9), (10, -10), (4, -2), (9, -10). (*)"
   ]
  },
  {
   "cell_type": "code",
   "execution_count": 44,
   "metadata": {},
   "outputs": [
    {
     "name": "stdout",
     "output_type": "stream",
     "text": [
      "Distance: 2 (floored to int) \n",
      "Distance: 2.23606797749979 (full float)\n"
     ]
    }
   ],
   "source": [
    "#2a)\n",
    "\n",
    "import math\n",
    "\n",
    "def dist(p1,p2,q1,q2):\n",
    "    return math.sqrt((p1 - q1)**2 + (p2 - q2)**2)\n",
    "\n",
    "_2a = dist(1,2,3,1)\n",
    "\n",
    "print(f\"Distance: {math.floor(_2a)} (floored to int) \\nDistance: {_2a} (full float)\")"
   ]
  },
  {
   "cell_type": "code",
   "execution_count": 47,
   "metadata": {},
   "outputs": [
    {
     "name": "stdout",
     "output_type": "stream",
     "text": [
      "Distance: 2 (floored to int) \n",
      "Distance: 2.23606797749979 (full float)\n"
     ]
    }
   ],
   "source": [
    "#2b)\n",
    "\n",
    "# using tuple for P & Q\n",
    "\n",
    "def getinput(t) -> tuple:\n",
    "    val = input(tuple(input(f\"{t}\"))).split(',')\n",
    "    a  = tuple(int(item) for item in val)\n",
    "    return a\n",
    "\n",
    "def dist2():\n",
    "    P = getinput(\"Select P, separated by comma:\")\n",
    "    Q = getinput(\"Select Q, separated by comma:\")\n",
    "    return math.sqrt((P[0] - Q[0])**2 + (P[1] - Q[1])**2)\n",
    "\n",
    "_2b = dist2()\n",
    "\n",
    "print(f\"Distance: {math.floor(_2b)} (floored to int) \\nDistance: {_2b} (full float)\")"
   ]
  },
  {
   "cell_type": "code",
   "execution_count": 98,
   "metadata": {},
   "outputs": [
    {
     "name": "stdout",
     "output_type": "stream",
     "text": [
      "Point: (10, 3): Distance to (0, 0) = 10.44030650891055\n",
      "Point: (-1, -9): Distance to (0, 0) = 9.055385138137417\n",
      "Point: (10, -10): Distance to (0, 0) = 14.142135623730951\n",
      "Point: (4, -2): Distance to (0, 0) = 4.47213595499958\n",
      "Point: (9, -10): Distance to (0, 0) = 13.45362404707371\n"
     ]
    }
   ],
   "source": [
    "#2c)\n",
    "\n",
    "tuple_list = [(10, 3), (-1, -9), (10, -10), (4, -2), (9, -10)]\n",
    "P = (0,0)\n",
    "\n",
    "def dist3(P,Q):\n",
    "    return math.sqrt((P[0] - Q[0])**2 + (P[1] - Q[1])**2)\n",
    "\n",
    "for i in range(5):\n",
    "    print(f\"Point: {tuple_list[i]}: Distance to {P} = {dist3(P, tuple_list[i])}\")"
   ]
  },
  {
   "cell_type": "markdown",
   "metadata": {},
   "source": [
    "## 3. Mathematical functions\n",
    "\n",
    "Make the following functions with **def** or **lambda** and plot their graphs in the same figure window, with $x\\in [-10,10]$ :\n",
    "\n",
    "&nbsp; a) &nbsp;  $f(x) = x^2 -3$ (*)\n",
    "\n",
    "&nbsp; b) &nbsp; $g(x) = 4x-7$ (*)\n",
    "\n",
    "What could the relation between $f(x)$ and $g(x)$ be?"
   ]
  },
  {
   "cell_type": "code",
   "execution_count": null,
   "metadata": {},
   "outputs": [],
   "source": []
  },
  {
   "cell_type": "markdown",
   "metadata": {},
   "source": [
    "## 4. Name cleaner\n",
    "\n",
    "Create a function that takes a name as an input and:\n",
    "\n",
    "- removes all leading and trailing blank spaces\n",
    "- make capitalize the first character of each name, and make the rest lowercase\n",
    "\n",
    "Use your function on this list of strings: \n",
    "\n",
    "```\n",
    "[\"  MaRcUs \", \" iDA aNderSon\", \"OLOF Olofsson            \"  ]\n",
    "```"
   ]
  },
  {
   "cell_type": "code",
   "execution_count": null,
   "metadata": {},
   "outputs": [],
   "source": []
  },
  {
   "cell_type": "markdown",
   "metadata": {},
   "source": [
    "## 5. Change\n",
    "\n",
    "Create a function that takes a value as input parameter and print out the banknotes and coins in Swedish currency representing this value. For example 5289 would give the following printout: \n",
    "\n",
    "- 5st 1000-lapp\n",
    "- 1st 200-lapp\n",
    "- 1st 50-lapp\n",
    "- 1st 20-lapp\n",
    "- 1st 10-krona\n",
    "- 1st 5-krona\n",
    "- 2st 2-krona\n",
    "\n",
    "Now let the user input a value, and use the function to calculate the change."
   ]
  },
  {
   "cell_type": "markdown",
   "metadata": {},
   "source": []
  }
 ],
 "metadata": {
  "kernelspec": {
   "display_name": "Python 3.9.13 ('helvetica-vDNe7t5J')",
   "language": "python",
   "name": "python3"
  },
  "language_info": {
   "codemirror_mode": {
    "name": "ipython",
    "version": 3
   },
   "file_extension": ".py",
   "mimetype": "text/x-python",
   "name": "python",
   "nbconvert_exporter": "python",
   "pygments_lexer": "ipython3",
   "version": "3.9.13"
  },
  "orig_nbformat": 4,
  "vscode": {
   "interpreter": {
    "hash": "87963c44df63088d167d5530105c3e3af538607c5bfb8dea2d5d486a9477964e"
   }
  }
 },
 "nbformat": 4,
 "nbformat_minor": 2
}
