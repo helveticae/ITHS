{
 "cells": [
  {
   "cell_type": "code",
   "execution_count": 7,
   "metadata": {},
   "outputs": [
    {
     "name": "stdout",
     "output_type": "stream",
     "text": [
      "(1,1)(1,2)(1,3)\n",
      "(2,1)(2,2)(2,3)\n",
      "(3,1)(3,2)(3,3)\n"
     ]
    }
   ],
   "source": [
    "## Smooth nested loops\n",
    "for row in range(1,4):\n",
    "    for col in range(1,4):\n",
    "        print(f\"({row},{col})\", end=\"\")\n",
    "    print()"
   ]
  },
  {
   "cell_type": "markdown",
   "metadata": {},
   "source": [
    "Nationella prov Matte 3C HT14 Uppgift 18\n",
    "\n",
    "P = 0,791 * e0,0526-t\n",
    "\n",
    "P = årlig pastakonumtion i kg per person\n",
    "\n",
    "t = tiden i år efter 1960\n",
    "\n",
    "a) Anta att pastakonsumtionen fortsätter att öka enligt modellen. Bestäm vilket årtal som den årliga pastakonsumtionen blir 15 kg per person.\n",
    "\n",
    "b) Modellen stämmer väl överens med verkligheten från 1960 fram till idag. Utvärdera hur väl modellen kommer att stämma överens med verkligheten i slutet av detta århundrade."
   ]
  },
  {
   "cell_type": "markdown",
   "metadata": {},
   "source": [
    "\n",
    "##### **Workflows for AI projects with linear regression**\n",
    ">This is a theoretical overview of the most common steps in the workflow of an ML app. I will however practically try these steps using a linear regression model.<br>\n",
    "\n",
    "The scenario is to accurately predict `∑` using measurable data. Such as number x, position y, size z, and so on.\n",
    "<br>\n",
    "\n",
    "### Questions\n",
    "- How can data be collected?\n",
    "- In which formats can data be saved?\n",
    "- How can the data be processed into the right format?\n",
    "- How can the data be visualized?\n",
    "- How can the model be put into production?\n",
    "- Which technologies can be used in the different steps of the machine learning process?"
   ]
  },
  {
   "cell_type": "code",
   "execution_count": null,
   "metadata": {},
   "outputs": [],
   "source": [
    "# I will probably need this:\n",
    "import json\n",
    "import math\n",
    "import matplotlib.pyplot as plt\n",
    "import random\n",
    "import os\n",
    "import time"
   ]
  },
  {
   "cell_type": "markdown",
   "metadata": {},
   "source": [
    "#### **Storage**\n",
    "\n",
    "JSON supports string, int, float and boolean, however  most importantly it supports dict, list and tuple.\n",
    "\n",
    "csv is not as versatile hence I will be using json"
   ]
  },
  {
   "cell_type": "markdown",
   "metadata": {},
   "source": [
    "#### What data do i want to try out? What is accessible?\n",
    "I think SCB would be fun to use. Or maybe IMDB. I just gotta find a way to get a large data set. Doing something on MIDI and music would be fun as well. I think four categories is a good start. Oh, also doing something on the Swedish electrion would be interesting. Or Pokémon.\n",
    "\n",
    "Anyway, I need to find data.\n",
    "\n",
    "\n",
    "∑ | x | y | z\n",
    "-- | -- | -- | --\n",
    "val | float | 0 | 1\n",
    "val | float | 0 | 1\n",
    "# why is this table centered? I need to learn Markdown\n",
    "\n",
    "First of all I need to find a way to simply import the JSON into Python, I should test with just a simple piece of data.\n",
    "\n",
    "Find a way to: import AND export JSON\n",
    "I need to parse JSON."
   ]
  },
  {
   "cell_type": "markdown",
   "metadata": {},
   "source": [
    "import AND export JSON/csv"
   ]
  },
  {
   "cell_type": "code",
   "execution_count": 26,
   "metadata": {},
   "outputs": [
    {
     "data": {
      "text/plain": [
       "{'name': 'William', 'age': 30, 'city': 'Göteborg'}"
      ]
     },
     "execution_count": 26,
     "metadata": {},
     "output_type": "execute_result"
    }
   ],
   "source": [
    "import json\n",
    "with open('DATA/data_test.json') as file:\n",
    "    data = json.load(file)\n",
    "\n",
    "data"
   ]
  },
  {
   "cell_type": "markdown",
   "metadata": {},
   "source": [
    "Succesfully imported data with JSON. Now i should:\n",
    "  - Parse certain elements\n",
    "  - Find a larger data set"
   ]
  },
  {
   "cell_type": "code",
   "execution_count": null,
   "metadata": {},
   "outputs": [],
   "source": []
  }
 ],
 "metadata": {
  "kernelspec": {
   "display_name": "Python 3.9.13 64-bit",
   "language": "python",
   "name": "python3"
  },
  "language_info": {
   "codemirror_mode": {
    "name": "ipython",
    "version": 3
   },
   "file_extension": ".py",
   "mimetype": "text/x-python",
   "name": "python",
   "nbconvert_exporter": "python",
   "pygments_lexer": "ipython3",
   "version": "3.9.13"
  },
  "orig_nbformat": 4,
  "vscode": {
   "interpreter": {
    "hash": "aee8b7b246df8f9039afb4144a1f6fd8d2ca17a180786b69acc140d282b71a49"
   }
  }
 },
 "nbformat": 4,
 "nbformat_minor": 2
}
