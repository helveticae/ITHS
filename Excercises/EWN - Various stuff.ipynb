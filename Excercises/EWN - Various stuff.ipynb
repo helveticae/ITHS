{
 "cells": [
  {
   "cell_type": "code",
   "execution_count": 7,
   "metadata": {},
   "outputs": [
    {
     "name": "stdout",
     "output_type": "stream",
     "text": [
      "(1,1)(1,2)(1,3)\n",
      "(2,1)(2,2)(2,3)\n",
      "(3,1)(3,2)(3,3)\n"
     ]
    }
   ],
   "source": [
    "## Smooth nested loops\n",
    "for row in range(1,4):\n",
    "    for col in range(1,4):\n",
    "        print(f\"({row},{col})\", end=\"\")\n",
    "    print()"
   ]
  },
  {
   "cell_type": "markdown",
   "metadata": {},
   "source": [
    "Nationella prov Matte 3C HT14 Uppgift 18\n",
    "\n",
    "P = 0,791 * e0,0526-t\n",
    "\n",
    "P = årlig pastakonumtion i kg per person\n",
    "\n",
    "t = tiden i år efter 1960\n",
    "\n",
    "a) Anta att pastakonsumtionen fortsätter att öka enligt modellen. Bestäm vilket årtal som den årliga pastakonsumtionen blir 15 kg per person.\n",
    "\n",
    "b) Modellen stämmer väl överens med verkligheten från 1960 fram till idag. Utvärdera hur väl modellen kommer att stämma överens med verkligheten i slutet av detta århundrade."
   ]
  },
  {
   "cell_type": "code",
   "execution_count": null,
   "metadata": {},
   "outputs": [],
   "source": [
    "import math\n",
    "\n",
    "tid, pasta = 0, 0\n",
    "\n",
    "while pasta < 15:\n",
    "    pasta = 0.791*math.e**(0.0526*tid)\n",
    "    print(tid+1960, pasta)\n",
    "    tid += 1"
   ]
  },
  {
   "cell_type": "code",
   "execution_count": 29,
   "metadata": {},
   "outputs": [
    {
     "name": "stdout",
     "output_type": "stream",
     "text": [
      "År 2016 är pastakonsumtionen 15 kg/person per år\n"
     ]
    }
   ],
   "source": [
    "# math.exp(1) = e\n",
    "\n",
    "for year in range (1024):\n",
    "    pasta_cons = .791*math.exp(.0526*year)\n",
    "    if pasta_cons >= 15:\n",
    "        print(f\"År {year+1960} är pastakonsumtionen 15 kg/person per år\")\n",
    "        break"
   ]
  },
  {
   "cell_type": "code",
   "execution_count": 4,
   "metadata": {},
   "outputs": [
    {
     "ename": "AttributeError",
     "evalue": "module 'matplotlib' has no attribute 'plot'",
     "output_type": "error",
     "traceback": [
      "\u001b[0;31m---------------------------------------------------------------------------\u001b[0m",
      "\u001b[0;31mAttributeError\u001b[0m                            Traceback (most recent call last)",
      "\u001b[1;32m/Users/helvetica/Python-William-Lindstedt/Excercises/EWN - Various stuff.ipynb Cell 4\u001b[0m in \u001b[0;36m<cell line: 12>\u001b[0;34m()\u001b[0m\n\u001b[1;32m      <a href='vscode-notebook-cell:/Users/helvetica/Python-William-Lindstedt/Excercises/EWN%20-%20Various%20stuff.ipynb#X30sZmlsZQ%3D%3D?line=8'>9</a>\u001b[0m     pasta_consumtion \u001b[39m=\u001b[39m \u001b[39m.791\u001b[39m\u001b[39m*\u001b[39mmath\u001b[39m.\u001b[39mexp(\u001b[39m.0526\u001b[39m\u001b[39m*\u001b[39myear)\n\u001b[1;32m     <a href='vscode-notebook-cell:/Users/helvetica/Python-William-Lindstedt/Excercises/EWN%20-%20Various%20stuff.ipynb#X30sZmlsZQ%3D%3D?line=9'>10</a>\u001b[0m     pasta_per_year\u001b[39m.\u001b[39mappend(pasta_consumtion) \u001b[39m# Lägger till i listan för varje iteration\u001b[39;00m\n\u001b[0;32m---> <a href='vscode-notebook-cell:/Users/helvetica/Python-William-Lindstedt/Excercises/EWN%20-%20Various%20stuff.ipynb#X30sZmlsZQ%3D%3D?line=11'>12</a>\u001b[0m plt\u001b[39m.\u001b[39;49mplot(\u001b[39mrange\u001b[39m(\u001b[39m1960\u001b[39m,\u001b[39m2100\u001b[39m), pasta_per_year)\n\u001b[1;32m     <a href='vscode-notebook-cell:/Users/helvetica/Python-William-Lindstedt/Excercises/EWN%20-%20Various%20stuff.ipynb#X30sZmlsZQ%3D%3D?line=12'>13</a>\u001b[0m plt\u001b[39m.\u001b[39mxlabel(\u001b[39m\"\u001b[39m\u001b[39mÅr\u001b[39m\u001b[39m\"\u001b[39m)\n\u001b[1;32m     <a href='vscode-notebook-cell:/Users/helvetica/Python-William-Lindstedt/Excercises/EWN%20-%20Various%20stuff.ipynb#X30sZmlsZQ%3D%3D?line=13'>14</a>\u001b[0m plt\u001b[39m.\u001b[39mylabel(\u001b[39m\"\u001b[39m\u001b[39mPasta i kg\u001b[39m\u001b[39m\"\u001b[39m)\n",
      "File \u001b[0;32m~/.local/share/virtualenvs/helvetica-vDNe7t5J/lib/python3.9/site-packages/matplotlib/_api/__init__.py:222\u001b[0m, in \u001b[0;36mcaching_module_getattr.<locals>.__getattr__\u001b[0;34m(name)\u001b[0m\n\u001b[1;32m    220\u001b[0m \u001b[39mif\u001b[39;00m name \u001b[39min\u001b[39;00m props:\n\u001b[1;32m    221\u001b[0m     \u001b[39mreturn\u001b[39;00m props[name]\u001b[39m.\u001b[39m\u001b[39m__get__\u001b[39m(instance)\n\u001b[0;32m--> 222\u001b[0m \u001b[39mraise\u001b[39;00m \u001b[39mAttributeError\u001b[39;00m(\n\u001b[1;32m    223\u001b[0m     \u001b[39mf\u001b[39m\u001b[39m\"\u001b[39m\u001b[39mmodule \u001b[39m\u001b[39m{\u001b[39;00m\u001b[39mcls\u001b[39m\u001b[39m.\u001b[39m\u001b[39m__module__\u001b[39m\u001b[39m!r}\u001b[39;00m\u001b[39m has no attribute \u001b[39m\u001b[39m{\u001b[39;00mname\u001b[39m!r}\u001b[39;00m\u001b[39m\"\u001b[39m)\n",
      "\u001b[0;31mAttributeError\u001b[0m: module 'matplotlib' has no attribute 'plot'"
     ]
    }
   ],
   "source": [
    "import math\n",
    "import matplotlib as plt\n",
    "\n",
    "# empty list\n",
    "pasta_per_year = []\n",
    "\n",
    "# loops 140 years\n",
    "for year in range(140): # year börjar på 1 eftersom range(140)\n",
    "    pasta_consumtion = .791*math.exp(.0526*year)\n",
    "    pasta_per_year.append(pasta_consumtion) # Lägger till i listan för varje iteration\n",
    "\n",
    "plt.plot(range(1960,2100), pasta_per_year)\n",
    "plt.xlabel(\"År\")\n",
    "plt.ylabel(\"Pasta i kg\")\n",
    "plt.title(\"Pasta\")"
   ]
  },
  {
   "cell_type": "markdown",
   "metadata": {},
   "source": [
    "\n",
    "##### **Workflows for AI projects with linear regression**\n",
    ">This is a theoretical overview of the most common steps in the workflow of an ML app. I will however practically try these steps using a linear regression model.<br>\n",
    "\n",
    "The scenario is to accurately predict `∑` using measurable data. Such as number x, position y, size z, and so on.\n",
    "<br>\n",
    "\n",
    "### Questions\n",
    "- How can data be collected?\n",
    "- In which formats can data be saved?\n",
    "- How can the data be processed into the right format?\n",
    "- How can the data be visualized?\n",
    "- How can the model be put into production?\n",
    "- Which technologies can be used in the different steps of the machine learning process?"
   ]
  },
  {
   "cell_type": "code",
   "execution_count": null,
   "metadata": {},
   "outputs": [],
   "source": [
    "# I will probably need this:\n",
    "import json\n",
    "import math\n",
    "import matplotlib.pyplot as plt\n",
    "import random\n",
    "import os\n",
    "import time"
   ]
  },
  {
   "cell_type": "markdown",
   "metadata": {},
   "source": [
    "#### **Storage**\n",
    "\n",
    "JSON supports string, int, float and boolean, however  most importantly it supports dict, list and tuple.\n",
    "\n",
    "csv is not as versatile hence I will be using json"
   ]
  },
  {
   "cell_type": "markdown",
   "metadata": {},
   "source": [
    "#### What data do i want to try out? What is accessible?\n",
    "I think SCB would be fun to use. Or maybe IMDB. I just gotta find a way to get a large data set. Doing something on MIDI and music would be fun as well. I think four categories is a good start. Oh, also doing something on the Swedish electrion would be interesting. Or Pokémon.\n",
    "\n",
    "Anyway, I need to find data.\n",
    "\n",
    "\n",
    "∑ | x | y | z\n",
    "-- | -- | -- | --\n",
    "val | float | 0 | 1\n",
    "val | float | 0 | 1\n",
    "# why is this table centered? I need to learn Markdown\n",
    "\n",
    "First of all I need to find a way to simply import the JSON into Python, I should test with just a simple piece of data.\n",
    "\n",
    "Find a way to: import AND export JSON\n",
    "I need to parse JSON."
   ]
  },
  {
   "cell_type": "markdown",
   "metadata": {},
   "source": [
    "import AND export JSON/csv"
   ]
  },
  {
   "cell_type": "code",
   "execution_count": 26,
   "metadata": {},
   "outputs": [
    {
     "data": {
      "text/plain": [
       "{'name': 'William', 'age': 30, 'city': 'Göteborg'}"
      ]
     },
     "execution_count": 26,
     "metadata": {},
     "output_type": "execute_result"
    }
   ],
   "source": [
    "import json\n",
    "with open('DATA/data_test.json') as file:\n",
    "    data = json.load(file)\n",
    "\n",
    "data"
   ]
  },
  {
   "cell_type": "markdown",
   "metadata": {},
   "source": [
    "Succesfully imported data with JSON. Now i should:\n",
    "  - Parse certain elements\n",
    "  - Find a larger data set"
   ]
  },
  {
   "cell_type": "code",
   "execution_count": null,
   "metadata": {},
   "outputs": [],
   "source": []
  }
 ],
 "metadata": {
  "kernelspec": {
   "display_name": "Python 3.9.13 ('helvetica-vDNe7t5J')",
   "language": "python",
   "name": "python3"
  },
  "language_info": {
   "codemirror_mode": {
    "name": "ipython",
    "version": 3
   },
   "file_extension": ".py",
   "mimetype": "text/x-python",
   "name": "python",
   "nbconvert_exporter": "python",
   "pygments_lexer": "ipython3",
   "version": "3.9.13"
  },
  "orig_nbformat": 4,
  "vscode": {
   "interpreter": {
    "hash": "87963c44df63088d167d5530105c3e3af538607c5bfb8dea2d5d486a9477964e"
   }
  }
 },
 "nbformat": 4,
 "nbformat_minor": 2
}
