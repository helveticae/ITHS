{
 "cells": [
  {
   "cell_type": "markdown",
   "metadata": {},
   "source": [
    "## 1. Pythagorean theorem\n",
    "a)   A right angled triangle has the catheti: a = 3 and b = 4 length units. Compute the hypothenuse of the triangle.\n",
    "\n",
    "b)   A right angled triangle has hypothenuse c = 7.0 and a cathetus a = 5.0 length units. Compute the other cathetus and round to one decimal."
   ]
  },
  {
   "cell_type": "code",
   "execution_count": 25,
   "metadata": {},
   "outputs": [
    {
     "name": "stdout",
     "output_type": "stream",
     "text": [
      "Answer a: 5.0 \n",
      "Answer b: 8.602325267042627\n"
     ]
    }
   ],
   "source": [
    "import math\n",
    "import matplotlib as matpl\n",
    "a = math.sqrt(3 ** 2 + 4 ** 2)\n",
    "d = math.sqrt(7.0 ** 2 + 5.0 ** 2)\n",
    "print(f\"Answer a: {a} \\nAnswer b: {d}\")"
   ]
  },
  {
   "cell_type": "markdown",
   "metadata": {},
   "source": [
    "## 2. Classification accuracy\n",
    "A machine learning algorithm has been trained to predict whether or not it would rain the next day. Out of 365 predictions, it got 300 correct, compute the accuracy of this model."
   ]
  },
  {
   "cell_type": "code",
   "execution_count": 18,
   "metadata": {},
   "outputs": [
    {
     "name": "stdout",
     "output_type": "stream",
     "text": [
      "accuracy=82.19%\n"
     ]
    }
   ],
   "source": [
    "accuracy = 300/365 * 100\n",
    "print (f\"{accuracy=:.2f}%\")\n"
   ]
  },
  {
   "cell_type": "markdown",
   "metadata": {},
   "source": [
    "## 3. Classification accuracy"
   ]
  },
  {
   "cell_type": "code",
   "execution_count": 28,
   "metadata": {},
   "outputs": [
    {
     "name": "stdout",
     "output_type": "stream",
     "text": [
      "accuracy=98.7%\n"
     ]
    }
   ],
   "source": [
    "# Utfall\n",
    "TP = 2       # True Positive\n",
    "FP = 2       # False Positive \n",
    "FN = 11      # False Negative\n",
    "TN = 985     # True Negative\n",
    "\n",
    "# Beräkning\n",
    "accuracy = (TP + TN) / (TP+TN+FP+FN) * 100\n",
    "print(f\"{accuracy=:.1f}%\")"
   ]
  },
  {
   "cell_type": "markdown",
   "metadata": {},
   "source": [
    "## 4. Line\n",
    "Compute the slope 𝑘 and the constant term 𝑚 of this line using the points 𝐴:(4,4) and 𝐵:(0,1)."
   ]
  },
  {
   "cell_type": "code",
   "execution_count": 32,
   "metadata": {},
   "outputs": [
    {
     "name": "stdout",
     "output_type": "stream",
     "text": [
      "-4.0\n"
     ]
    }
   ],
   "source": [
    "y1 = 0\n",
    "y2 = 4\n",
    "x1 = 1\n",
    "x2 = 0\n",
    "\n",
    "k = (y2 - y1) / (x2-x1)\n",
    "\n",
    "print(k)"
   ]
  },
  {
   "cell_type": "markdown",
   "metadata": {},
   "source": [
    "## 5. Euclidean distance\n",
    "The Euclideam distance between the points  𝑃1  and  𝑃2  is the length of a line between them. Let  𝑃1:(3,5)  and  𝑃2:(−2,4)  and compute the distance between them."
   ]
  },
  {
   "cell_type": "code",
   "execution_count": 39,
   "metadata": {},
   "outputs": [
    {
     "name": "stdout",
     "output_type": "stream",
     "text": [
      "Answer:5.0990195135927845\n"
     ]
    }
   ],
   "source": [
    "P1 = [3,5]\n",
    "P2 = [-2,4]\n",
    "a = (P2[1]-P1[1])**2\n",
    "b = P1[0]-P2[0] \n",
    "c = math.sqrt(a**2+b**2)\n",
    "print(f\"Answer:{c}\")"
   ]
  },
  {
   "cell_type": "code",
   "execution_count": 40,
   "metadata": {},
   "outputs": [
    {
     "name": "stdout",
     "output_type": "stream",
     "text": [
      "Answer:4.123105625617661\n"
     ]
    }
   ],
   "source": [
    "P1 = [2,1,4]\n",
    "P2 = [3,1,0]\n",
    "a = (P2[1]-P1[1])**2\n",
    "b = P1[0]-P2[0]\n",
    "e = P1[2]-P2[2]**2\n",
    "c = math.sqrt(a**2+b**2+e**2)\n",
    "print(f\"Answer:{c}\")"
   ]
  },
  {
   "cell_type": "code",
   "execution_count": null,
   "metadata": {},
   "outputs": [],
   "source": []
  }
 ],
 "metadata": {
  "kernelspec": {
   "display_name": "Python 3.9.13 ('helvetica-vDNe7t5J')",
   "language": "python",
   "name": "python3"
  },
  "language_info": {
   "codemirror_mode": {
    "name": "ipython",
    "version": 3
   },
   "file_extension": ".py",
   "mimetype": "text/x-python",
   "name": "python",
   "nbconvert_exporter": "python",
   "pygments_lexer": "ipython3",
   "version": "3.9.13"
  },
  "orig_nbformat": 4,
  "vscode": {
   "interpreter": {
    "hash": "87963c44df63088d167d5530105c3e3af538607c5bfb8dea2d5d486a9477964e"
   }
  }
 },
 "nbformat": 4,
 "nbformat_minor": 2
}
