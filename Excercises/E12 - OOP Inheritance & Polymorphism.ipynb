{
 "cells": [
  {
   "cell_type": "markdown",
   "metadata": {},
   "source": [
    "## 1. Video (*)\n",
    "\n",
    "Create classes following this UML:\n",
    "\n",
    "<img src=\"../Images/UML_video_polymorphism.png\" width=\"700\"/>\n",
    "\n",
    "Note that the method info() should be different in the different classes where it should be implemented. \n",
    "\n",
    "Use the following code to test your program.\n",
    "\n",
    "```python\n",
    "pokemon = TV_serie(\"Pokemon\", \"Cartoon\", 4.5, 550)\n",
    "titanic = Movie(\"Titanic\", \"Romance\", 4.7, 194)\n",
    "code = Documentary(\"The Code\", \"Math\", 4)\n",
    "\n",
    "for video in tuple((pokemon, titanic, code)):\n",
    "    print(video.info())\n",
    "```\n",
    "\n",
    "An example output could be: \n",
    "```\n",
    "TV series with title Pokemon, genre Cartoon, rating 4.5 and episodes 550\n",
    "\n",
    "Movie with title Titanic, genre Romance, rating 4.7, duration 194 minutes\n",
    "\n",
    "Video with title The Code, genre Math and rating 4\n",
    "```\n",
    "\n",
    "(*)\n",
    "\n",
    "<details>\n",
    "\n",
    "<summary>Hint</summary>\n",
    "\n",
    "Use ```__super__()``` in each subclass to call the \\_\\_init\\_\\_() in parent class. Add additional parameters in the \\_\\_init\\_\\_() of each subclass when needed. Keep error handling and validation in parent class and let the subclass inherit them in order to avoid repeating validation code.\n",
    "\n",
    "</details>"
   ]
  },
  {
   "cell_type": "markdown",
   "metadata": {},
   "source": [
    "---\n",
    "## 2. Fraction\n",
    "\n",
    "Create a class called Frac to represent mathematical fractions. The class is instantiated with two instance variables: nominator and denominator. Objects instantiated from this class should have methods for addition, subtraction, multiplication, division using the operators +,-,*,/. Note that these implemented methods must be mathematically correct. Also implement the following methods: \n",
    "\n",
    "```python\n",
    "\n",
    "simplify(self, value = None) # simplifies to most simple form unless value is given \n",
    "\n",
    "__str__(self) # represent the fraction in a neat way for printing\n",
    "\n",
    "mixed(self) # represent the fraction in mixed terms \n",
    "\n",
    "__eq__(self, other) # checks equality by overloading ==\n",
    "\n",
    "```\n",
    "\n",
    "Also remember to handle errors and validations.\n",
    "\n",
    "Example of tests that it should handled: \n",
    "\n",
    "- 1/2 + 1/3 = 5/6\n",
    "- 1/2 - 1/3 = 1/6\n",
    "- 7/6 --> 1 1/6 (mixed)\n",
    "- 3*1/2 = 3/2\n",
    "- 1/2 * 3 = 3/2\n",
    "- 1/4 + 2 = 9/4\n",
    "- 1/4 / 1/2 = 1/2\n",
    "- 2/4 == 1/2 --> True\n",
    "- 3/4 += 2 = 11/4\n",
    "\n",
    "</details>\n"
   ]
  },
  {
   "cell_type": "code",
   "execution_count": 10,
   "metadata": {},
   "outputs": [],
   "source": [
    "from __future__ import annotations\n",
    "from fractions import Fraction\n",
    "import math\n",
    "\n",
    "class Frac:\n",
    "    \"\"\"Class for fraction\"\"\"\n",
    "    def __init__(self, *numbers: float | int) -> None:\n",
    "\n",
    "        # -- validation here -- #\n",
    "\n",
    "        self._numbers = tuple(float(number) for number in numbers)\n",
    "\n",
    "    @property\n",
    "    def numbers(self) -> tuple:\n",
    "        return self._numbers\n",
    "\n",
    "    def simplify(self, value = None):\n",
    "        pass\n",
    "\n",
    "    # addition operand: +\n",
    "    def __add__(self, value):\n",
    "        numbers = (a+b for a,b in zip(self.numbers))\n",
    "        return self.value\n",
    "\n",
    "    # subtraction operand: -\n",
    "    def __sub__(self, value):\n",
    "        pass\n",
    "\n",
    "    # multiplication operand: *\n",
    "    def __mul__(self, value):\n",
    "        pass\n",
    "    \n",
    "    # division operand: /\n",
    "    def __truediv__(self, value):\n",
    "        pass\n",
    "\n",
    "    def __str__(self) -> str:\n",
    "        pass\n",
    "\n",
    "    def __repr__(self) -> str:\n",
    "        pass\n"
   ]
  },
  {
   "cell_type": "code",
   "execution_count": 9,
   "metadata": {},
   "outputs": [
    {
     "name": "stdout",
     "output_type": "stream",
     "text": [
      "3/4\n",
      "-3/4\n"
     ]
    },
    {
     "ename": "AttributeError",
     "evalue": "'Frac' object has no attribute 'value'",
     "output_type": "error",
     "traceback": [
      "\u001b[0;31m---------------------------------------------------------------------------\u001b[0m",
      "\u001b[0;31mAttributeError\u001b[0m                            Traceback (most recent call last)",
      "Cell \u001b[0;32mIn [9], line 9\u001b[0m\n\u001b[1;32m      6\u001b[0m tal1 \u001b[38;5;241m=\u001b[39m Frac(\u001b[38;5;241m1\u001b[39m,\u001b[38;5;241m2\u001b[39m)\n\u001b[1;32m      7\u001b[0m tal2 \u001b[38;5;241m=\u001b[39m Frac(\u001b[38;5;241m1\u001b[39m,\u001b[38;5;241m2\u001b[39m)\n\u001b[0;32m----> 9\u001b[0m \u001b[38;5;28mprint\u001b[39m(\u001b[43mtal1\u001b[49m\u001b[38;5;241;43m.\u001b[39;49m\u001b[38;5;21;43m__add__\u001b[39;49m\u001b[43m(\u001b[49m\u001b[43mtal2\u001b[49m\u001b[43m)\u001b[49m)\n",
      "Cell \u001b[0;32mIn [8], line 24\u001b[0m, in \u001b[0;36mFrac.__add__\u001b[0;34m(self, value)\u001b[0m\n\u001b[1;32m     22\u001b[0m \u001b[38;5;28;01mdef\u001b[39;00m \u001b[38;5;21m__add__\u001b[39m(\u001b[38;5;28mself\u001b[39m, value):\n\u001b[1;32m     23\u001b[0m     numbers \u001b[38;5;241m=\u001b[39m (a\u001b[38;5;241m+\u001b[39mb \u001b[38;5;28;01mfor\u001b[39;00m a,b \u001b[38;5;129;01min\u001b[39;00m \u001b[38;5;28mzip\u001b[39m(\u001b[38;5;28mself\u001b[39m\u001b[38;5;241m.\u001b[39mnumbers))\n\u001b[0;32m---> 24\u001b[0m     \u001b[38;5;28;01mreturn\u001b[39;00m \u001b[38;5;28;43mself\u001b[39;49m\u001b[38;5;241;43m.\u001b[39;49m\u001b[43mvalue\u001b[49m\n",
      "\u001b[0;31mAttributeError\u001b[0m: 'Frac' object has no attribute 'value'"
     ]
    }
   ],
   "source": [
    "print(Fraction(0.75))\n",
    "print(Fraction(-9,12))\n",
    "\n",
    "Frac(0.65)\n",
    "\n",
    "tal1 = Frac(1,2)\n",
    "tal2 = Frac(1,2)\n",
    "\n",
    "print(tal1.__add__(tal2))"
   ]
  }
 ],
 "metadata": {
  "kernelspec": {
   "display_name": "Python 3.9.13 ('helvetica-vDNe7t5J')",
   "language": "python",
   "name": "python3"
  },
  "language_info": {
   "codemirror_mode": {
    "name": "ipython",
    "version": 3
   },
   "file_extension": ".py",
   "mimetype": "text/x-python",
   "name": "python",
   "nbconvert_exporter": "python",
   "pygments_lexer": "ipython3",
   "version": "3.9.13"
  },
  "orig_nbformat": 4,
  "vscode": {
   "interpreter": {
    "hash": "87963c44df63088d167d5530105c3e3af538607c5bfb8dea2d5d486a9477964e"
   }
  }
 },
 "nbformat": 4,
 "nbformat_minor": 2
}
