{
 "cells": [
  {
   "cell_type": "markdown",
   "metadata": {},
   "source": [
    "### Counting letters"
   ]
  },
  {
   "cell_type": "code",
   "execution_count": 162,
   "metadata": {},
   "outputs": [
    {
     "name": "stdout",
     "output_type": "stream",
     "text": [
      "type(word)=<class 'str'>\n",
      "type(i)=<class 'list'> \n",
      "\n",
      "The word at list index 5610 is even\n",
      "Word letter length: 4\n",
      "Uppercase letters: 0\n",
      "Lowercasse letter: 4\n",
      "Vowels: 2\n",
      "palindrome(word)=False\n",
      "\n",
      "tacocat = palindrome(pal)=True\n"
     ]
    }
   ],
   "source": [
    "import csv\n",
    "import random\n",
    "import re\n",
    "# reads csv and stores it in a list\n",
    "li = []\n",
    "with open('example-words.csv', 'r') as file:\n",
    "    reader = csv.reader(file)\n",
    "    for n in reader:\n",
    "        li.append(n)\n",
    "    random_selection = random.randint(0,(len(li)))\n",
    "    i = li[random_selection]\n",
    "\n",
    "# using .join to type convert list into string, and .replace to remove whitespace\n",
    "word = \"\"\n",
    "word = word.join(i) \n",
    "word = word.replace(\" \", \"\")\n",
    "\n",
    "# finding different casing using regex\n",
    "def uppercase_sum(i):\n",
    "    ucase = len(re.findall(r\"[A-Z]\", word))\n",
    "    return ucase\n",
    "def lowercase_sum(i):\n",
    "    lcase = len(re.findall(r\"[a-z]\", word))\n",
    "    return lcase\n",
    "def vowels_sum(i):\n",
    "     vowels = len(re.findall(r\"[aeiouy]\", i))\n",
    "     return vowels\n",
    "\n",
    "#function for palindrome\n",
    "def palindrome(str):\n",
    "    # reverses string\n",
    "    if str[::-1] == str:\n",
    "        return True\n",
    "    else:\n",
    "        return False\n",
    "\n",
    "print (f\"{type(word)=}\\n\"\n",
    "    f\"{type(i)=} \\n\\n\"\n",
    "    f\"The word at list index {random_selection} is {word}\\n\"\n",
    "    f\"Word letter length: {len(word)}\\n\"\n",
    "    f\"Uppercase letters: {uppercase_sum(word)}\\n\"\n",
    "    f\"Lowercasse letter: {lowercase_sum(word)}\\n\"\n",
    "    f\"Vowels: {vowels_sum(word)}\\n\"\n",
    "    f\"{palindrome(word)=}\\n\")\n",
    "\n",
    "pal = \"tacocat\"\n",
    "print(f\"{pal} = {palindrome(pal)=}\")"
   ]
  },
  {
   "cell_type": "markdown",
   "metadata": {},
   "source": []
  },
  {
   "cell_type": "code",
   "execution_count": null,
   "metadata": {},
   "outputs": [],
   "source": []
  },
  {
   "cell_type": "markdown",
   "metadata": {},
   "source": [
    "### Simple encryption\n",
    "Let the user input a word and:\n",
    "\n",
    "  a)   encrypt the message by replacing each letter with the next letter. If the letter is in the end of the alphabet, use the first letter instead.\n",
    "\n",
    "e.g. in Swedish: \"höst\" \n",
    "→\n",
    " \"iatu\"\n",
    "\n",
    "  b)   decrypt the message\n",
    "\n",
    "  c)   let the user choose either encryption or decryption."
   ]
  },
  {
   "cell_type": "code",
   "execution_count": 22,
   "metadata": {},
   "outputs": [
    {
     "name": "stdout",
     "output_type": "stream",
     "text": [
      "['a', 'b', 'c', 'd', 'e', 'f', 'g', 'h', 'i', 'j', 'k', 'l', 'm', 'n', 'o', 'p', 'q', 'r', 's', 't', 'u', 'v', 'w', 'x', 'y', 'z', 'å', 'ä', 'ö']\n",
      "f\n",
      "t\n",
      "['t']\n",
      "{'o', 'y', 'å', 'c', 'f', 'g', 'ä', 'n', 'j', 'a', 'ö', 'p', 'h', 'q', 'm', 'b', 'r', 'k', 'l', 'z', 'v', 'e', 'u', 't', 'w', 'i', 's', 'd', 'x'}\n"
     ]
    }
   ],
   "source": [
    " # Creates list of legal characters (a-z + å, ä, ö)\n",
    "l_list = []\n",
    "letters = ''\n",
    "for idx in range(97, 97 + 26): # loop to generate a-z from idx\n",
    "        letters = letters + chr(idx)\n",
    "l_list.extend(letters)\n",
    "l_list.extend([\"å\",\"ä\",\"ö\"]) # Swedish letters\n",
    "print(l_list)\n",
    "\n",
    "# creates a set of legal words for easier comparison with user input characters\n",
    "l_set = set()\n",
    "for i in l_list:\n",
    "    l_set.add(i)\n",
    "\n",
    "print(l_list[5])\n",
    "\n",
    "for i in range(3):\n",
    "    input_str = input(\"Input word to encrypt:\")\n",
    "    check_input = list(input_str)   # Creates list of input to compare with legal characters\n",
    "\n",
    "    if check_input in l_set:\n",
    "        print(\"Error!\")\n",
    "\n",
    "    elif input_str.strip().isdigit():\n",
    "        print(\"Invalid input. Please input a string, not an int.\")\n",
    "    else:\n",
    "        break\n",
    "\n",
    "print(input_str)\n",
    "print(check_input)\n",
    "print(l_set)"
   ]
  },
  {
   "cell_type": "code",
   "execution_count": null,
   "metadata": {},
   "outputs": [],
   "source": []
  }
 ],
 "metadata": {
  "kernelspec": {
   "display_name": "Python 3.9.13 64-bit",
   "language": "python",
   "name": "python3"
  },
  "language_info": {
   "codemirror_mode": {
    "name": "ipython",
    "version": 3
   },
   "file_extension": ".py",
   "mimetype": "text/x-python",
   "name": "python",
   "nbconvert_exporter": "python",
   "pygments_lexer": "ipython3",
   "version": "3.9.13"
  },
  "orig_nbformat": 4,
  "vscode": {
   "interpreter": {
    "hash": "aee8b7b246df8f9039afb4144a1f6fd8d2ca17a180786b69acc140d282b71a49"
   }
  }
 },
 "nbformat": 4,
 "nbformat_minor": 2
}
