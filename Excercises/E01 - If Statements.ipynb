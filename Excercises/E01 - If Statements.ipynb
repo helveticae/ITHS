{
 "cells": [
  {
   "cell_type": "markdown",
   "metadata": {},
   "source": [
    "## 1. Check sign "
   ]
  },
  {
   "cell_type": "code",
   "execution_count": 3,
   "metadata": {},
   "outputs": [
    {
     "name": "stdout",
     "output_type": "stream",
     "text": [
      "23 is positive\n"
     ]
    }
   ],
   "source": [
    "n = int(input(\"Input number:\"))\n",
    "\n",
    "if n < 0:\n",
    "    print(f\"{n} is negative\")\n",
    "elif n == 0:\n",
    "    print(f\"{n} is 0\")\n",
    "else: \n",
    "    print(f\"{n} is positive\")"
   ]
  },
  {
   "cell_type": "markdown",
   "metadata": {},
   "source": [
    "## 2. Smallest"
   ]
  },
  {
   "cell_type": "code",
   "execution_count": 20,
   "metadata": {},
   "outputs": [
    {
     "name": "stdout",
     "output_type": "stream",
     "text": [
      "45 is same as 45\n"
     ]
    }
   ],
   "source": [
    "num1 = int(input(\"Enter first integer: \"))\n",
    "num2 = int(input(\"Enter second integer:\"))\n",
    "\n",
    "if num1 < num2:\n",
    "    print (f\"{num1} is less than {num2}\")\n",
    "elif num1 > num2:\n",
    "    print (f\"{num2} is less than {num1}\")\n",
    "elif num1 == num2:\n",
    "    print (f\"{num2} is same as {num1}\")\n",
    "else:\n",
    "    print (\"Error\")"
   ]
  },
  {
   "cell_type": "markdown",
   "metadata": {},
   "source": [
    "## 3. Right angle"
   ]
  },
  {
   "cell_type": "code",
   "execution_count": 36,
   "metadata": {},
   "outputs": [
    {
     "name": "stdout",
     "output_type": "stream",
     "text": [
      "Angle sum is 180°. Triangle is not right angled. One angle needs to be 90°.\n"
     ]
    }
   ],
   "source": [
    "# Checks if an angle is 90\n",
    "a1 = int(input(\"Enter first angle:\"))\n",
    "a2 = int(input(\"Enter second angle:\"))\n",
    "a3 = int(input(\"Enter third angle:\"))\n",
    "var1 = a1+a2+a3\n",
    "print(f\"Angle sum is {var1}°. \", end='')\n",
    "\n",
    "if var1 != 180:\n",
    "    print(\"Sum is not equal to 180°. Try again.\")\n",
    "else:\n",
    "    print(\"Triangle \", end='') \n",
    "    if a1 == 90 or a2 == 90 or a3 == 90:\n",
    "        print(\"is right angled. \", end='')\n",
    "    else:\n",
    "        print(\"is not right angled. One angle needs to be 90°.\")"
   ]
  },
  {
   "cell_type": "markdown",
   "metadata": {},
   "source": [
    "## 4. Medicine"
   ]
  },
  {
   "cell_type": "code",
   "execution_count": 80,
   "metadata": {},
   "outputs": [
    {
     "name": "stdout",
     "output_type": "stream",
     "text": [
      "Take 1-2 pill(s).\n"
     ]
    }
   ],
   "source": [
    "age = int(input(\"Enter age:\"))\n",
    "weight = int(input(\"Enter weight (kg):\"))\n",
    "\n",
    "if weight in range(15,25) and age in range(3,7):\n",
    "    m = \"1/2\"\n",
    "elif weight in range(26,40) and age in range (7,12):\n",
    "    m = \"1/2 to 1\"\n",
    "elif weight > 40 and age >12:\n",
    "    m = \"1-2\"\n",
    "elif weight < 15 or age < 3:\n",
    "    m = 0\n",
    "    print(\"Weight or age too low. Not recommended to take any pills.\")\n",
    "else:\n",
    "    print(\"Error.\")\n",
    "\n",
    "print(f\"Take {m} pill(s).\")"
   ]
  },
  {
   "cell_type": "markdown",
   "metadata": {},
   "source": [
    "## 5. Divisible"
   ]
  },
  {
   "cell_type": "code",
   "execution_count": 89,
   "metadata": {},
   "outputs": [
    {
     "name": "stdout",
     "output_type": "stream",
     "text": [
      "25 is an odd number. Number is both odd and dividible by 5. 25 divided by 5 is 5.0\n"
     ]
    }
   ],
   "source": [
    "number = int(input(\"Input number:\"))\n",
    "if number %2 == 0:\n",
    "    print(f\"{number} is an even number.\", end='')\n",
    "    odd = False\n",
    "else:\n",
    "    print(f\"{number} is an odd number.\", end='')\n",
    "    odd = True\n",
    "\n",
    "answer = number / 5\n",
    "\n",
    "if odd == True and number %5 == 0:\n",
    "    print(f\" Number is both odd and dividible by 5. {number} divided by 5 is {answer}\")"
   ]
  },
  {
   "cell_type": "markdown",
   "metadata": {},
   "source": [
    "## 6. Luggage size"
   ]
  },
  {
   "cell_type": "code",
   "execution_count": 4,
   "metadata": {},
   "outputs": [
    {
     "name": "stdout",
     "output_type": "stream",
     "text": [
      "I'm sorry sir, your dog is too big. Consider walking to your destination.\n"
     ]
    }
   ],
   "source": [
    "luggage = input(str(\"Welcome to Dirty Airlines, what are you bringing with you today?\"))\n",
    "\n",
    "box_height = int(input(f\"Please measure the height of your {luggage} in cm: \"))\n",
    "box_width = int(input(f\"And what is the width of your {luggage} in cm? \"))\n",
    "box_length = int(input(f\"And the length in cm? \"))\n",
    "box_weight = float(input(f\"Finally what is the weight of your {luggage} in kg?\"))\n",
    "\n",
    "if box_weight < 8 and box_length < 55 and box_width < 40 and box_height < 23:\n",
    "    print(f\"Great, bring your {luggage}, welcome aboard!\")\n",
    "else:\n",
    "    print(f\"I'm sorry sir, your {luggage} is too big. Consider walking to your destination.\")"
   ]
  }
 ],
 "metadata": {
  "kernelspec": {
   "display_name": "Python 3.9.13 ('helvetica-vDNe7t5J')",
   "language": "python",
   "name": "python3"
  },
  "language_info": {
   "codemirror_mode": {
    "name": "ipython",
    "version": 3
   },
   "file_extension": ".py",
   "mimetype": "text/x-python",
   "name": "python",
   "nbconvert_exporter": "python",
   "pygments_lexer": "ipython3",
   "version": "3.9.13"
  },
  "orig_nbformat": 4,
  "vscode": {
   "interpreter": {
    "hash": "87963c44df63088d167d5530105c3e3af538607c5bfb8dea2d5d486a9477964e"
   }
  }
 },
 "nbformat": 4,
 "nbformat_minor": 2
}
