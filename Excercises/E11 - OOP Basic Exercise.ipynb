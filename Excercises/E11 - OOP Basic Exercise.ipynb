{
 "cells": [
  {
   "cell_type": "markdown",
   "metadata": {},
   "source": [
    "# OOP introductory exercises\n",
    "\n",
    "---\n",
    "\n",
    "## 1. Unit conversion\n",
    "\n",
    "Create a class for converting US units to the metric system. It should have the following **bound methods**: \n",
    "\n",
    "```python\n",
    "__init__ (self, value)\n",
    "\n",
    "inch_to_cm(self)\n",
    "\n",
    "foot_to_meters(self)\n",
    "\n",
    "pound_to_kg(self)\n",
    "\n",
    "__repr__(self)\n",
    "\n",
    "```\n",
    "\n",
    "Make sure that value is the correct type and format, raise suitable exceptions in case it isn't. Make value into **property** with getter and setter. Test your class manually by instantiating an object from it and test different methods."
   ]
  },
  {
   "cell_type": "code",
   "execution_count": 17,
   "metadata": {},
   "outputs": [
    {
     "name": "stdout",
     "output_type": "stream",
     "text": [
      "metric.foot_2_meter(5)=1.6404199475065617\n",
      "metric.inch_2_cm(5)=12.7\n",
      "<class '__main__.metric'>\n"
     ]
    }
   ],
   "source": [
    "# converting input number to corresponding output for inch, foot and pound.\n",
    "# TODO: raise exceptions, getter + setter (property)\n",
    "\n",
    "class metric:\n",
    "    def __init__(self, value = float):\n",
    "        self.value = value\n",
    "\n",
    "    def inch_2_cm(value):\n",
    "        return value * 2.54\n",
    "\n",
    "    def foot_2_meter(value):\n",
    "        return value / 3.048 \n",
    "\n",
    "    def pound_2_kilogram(value):\n",
    "        return value / 2.205 \n",
    "\n",
    "    def __repr__(self):\n",
    "        return f\"{repr(self.value)=}\"\n",
    "\n",
    "\n",
    "# ---- Testing below ---- #\n",
    "\n",
    "print(f\"{metric.foot_2_meter(5)=}\")\n",
    "print(f\"{metric.inch_2_cm(5)=}\")\n",
    "\n",
    "print(repr(metric))\n"
   ]
  },
  {
   "cell_type": "markdown",
   "metadata": {},
   "source": [
    "## 2. Person\n",
    "---\n",
    "Create a class named Person, with parameterized constructor with the following parameters:\n",
    "\n",
    "- name\n",
    "- age\n",
    "- email\n",
    "\n",
    "Turn name, age, email into properties with following validations in their setters:\n",
    "- name - must be string\n",
    "- age - must be number between 0 and 125\n",
    "- email - must include an @ sign\n",
    "\n",
    "It should also have __repr__ method to represent the Person class in a neat way.\n",
    "Also create a method say_hello() that prints \"Hi, my name is ..., I am ... years old, my email address is ... \"."
   ]
  },
  {
   "cell_type": "code",
   "execution_count": 47,
   "metadata": {},
   "outputs": [
    {
     "name": "stdout",
     "output_type": "stream",
     "text": [
      "Aqua\n",
      "Hi, my name is Göran Greider, I am 25, my email address is aqua22@h20.com\n"
     ]
    }
   ],
   "source": [
    "# TODO: properties, validation\n",
    "\n",
    "class Person:\n",
    "    def __init__(self, name = str, age = int, email = str):\n",
    "        self.name = name\n",
    "        self.age = age\n",
    "        self.email = email\n",
    "\n",
    "    def new_name(self, name = str):           \n",
    "        self.name = name\n",
    "\n",
    "    def new_age(self, age):\n",
    "        self.age = age\n",
    "\n",
    "    def new_mail(self, email = str):\n",
    "        if \"@\" not in email:\n",
    "            raise ValueError(\"Email must contain '@'\")\n",
    "        self.email = email\n",
    "\n",
    "    def __repr__(self):\n",
    "        return f\"('{self.name}', '{self.age}', '{self.email}')\"\n",
    "\n",
    "# Say hello function outside class. Good or bad? /shrug\n",
    "def say_hello(Person):\n",
    "    print(f\"Hi, my name is {Person.name}, I am {Person.age}, my email address is {Person.email}\")\n",
    "\n",
    "\n",
    "\n",
    "# ---- Testing below ---- #\n",
    "\n",
    "person1 = Person(\"Aqua\", 22, \"aqua22@h20.com\")\n",
    "\n",
    "print(f\"{person1.name}\")\n",
    "\n",
    "person1.new_age(25)\n",
    "person1.new_name(\"Göran Greider\")\n",
    "#person1.new_mail(\"asdf@\")\n",
    "\n",
    "say_hello(person1)"
   ]
  },
  {
   "cell_type": "markdown",
   "metadata": {},
   "source": [
    "---\n",
    "## 3. Student and Teacher\n",
    "\n",
    "Create two classes named Student and Teacher that inherits from Person. \n",
    "\n",
    "The Student class shall have: \n",
    "- study() method that prints out \n",
    "```\n",
    "study...study...study...more study\n",
    "```\n",
    "\n",
    "- override say_hello() with the following message:\n",
    "\n",
    "```\n",
    "Yo, I am a student, my name is ..., I am ... years old, my email address is ...  \n",
    "```\n",
    "\n",
    "The Teacher class shall have: \n",
    "- teach() method that prints out \n",
    "```\n",
    "teach...teach...teach...more teaching\n",
    "```\n",
    "\n",
    "Instantiate a Teacher object and a Student object. Call  \n",
    "- teach() and say_hello() methods from your Teacher object. \n",
    "- study() and say_hello() methods from your Student object. "
   ]
  }
 ],
 "metadata": {
  "kernelspec": {
   "display_name": "Python 3.9.13 ('helvetica-vDNe7t5J')",
   "language": "python",
   "name": "python3"
  },
  "language_info": {
   "codemirror_mode": {
    "name": "ipython",
    "version": 3
   },
   "file_extension": ".py",
   "mimetype": "text/x-python",
   "name": "python",
   "nbconvert_exporter": "python",
   "pygments_lexer": "ipython3",
   "version": "3.9.13"
  },
  "orig_nbformat": 4,
  "vscode": {
   "interpreter": {
    "hash": "87963c44df63088d167d5530105c3e3af538607c5bfb8dea2d5d486a9477964e"
   }
  }
 },
 "nbformat": 4,
 "nbformat_minor": 2
}
