{
 "cells": [
  {
   "cell_type": "markdown",
   "metadata": {},
   "source": [
    "## 1. Pythagorean theorem"
   ]
  },
  {
   "cell_type": "code",
   "execution_count": 1,
   "metadata": {},
   "outputs": [
    {
     "name": "stdout",
     "output_type": "stream",
     "text": [
      "answer_a=5.0 \n",
      "answer_b=4.9\n"
     ]
    }
   ],
   "source": [
    "import math\n",
    "import matplotlib as matpl\n",
    "answer_a = math.sqrt(3 ** 2 + 4 ** 2)      # Hypothenuse where a = 3 & b = 4\n",
    "answer_b = math.sqrt(7 ** 2 - 5 ** 2)      # Lenth of c where c = 7  & b = 5\n",
    "print(f\"{answer_a=:} \\n{answer_b=:.1f}\")"
   ]
  },
  {
   "cell_type": "markdown",
   "metadata": {},
   "source": [
    "## 2. Classification accuracy"
   ]
  },
  {
   "cell_type": "code",
   "execution_count": 2,
   "metadata": {},
   "outputs": [
    {
     "name": "stdout",
     "output_type": "stream",
     "text": [
      "accuracy=82.19%\n"
     ]
    }
   ],
   "source": [
    "accuracy = 300/365 * 100     # Calculates accuracy of fraction 300/365\n",
    "print (f\"{accuracy=:.2f}%\")  \n"
   ]
  },
  {
   "cell_type": "markdown",
   "metadata": {},
   "source": [
    "## 3. Classification accuracy"
   ]
  },
  {
   "cell_type": "code",
   "execution_count": 3,
   "metadata": {},
   "outputs": [
    {
     "name": "stdout",
     "output_type": "stream",
     "text": [
      "accuracy=98.7%\n"
     ]
    }
   ],
   "source": [
    "# Results\n",
    "TP = 2       # True Positive\n",
    "FP = 2       # False Positive \n",
    "FN = 11      # False Negative\n",
    "TN = 985     # True Negative\n",
    "\n",
    "# Computation of results\n",
    "accuracy = (TP + TN) / (TP+TN+FP+FN) * 100\n",
    "print(f\"{accuracy=:.1f}%\")"
   ]
  },
  {
   "cell_type": "markdown",
   "metadata": {},
   "source": [
    "## 4. Line"
   ]
  },
  {
   "cell_type": "code",
   "execution_count": 4,
   "metadata": {},
   "outputs": [
    {
     "name": "stdout",
     "output_type": "stream",
     "text": [
      "k=0.75, m=1.0\n"
     ]
    }
   ],
   "source": [
    "# Using four variables for two coordinates\n",
    "x1, y1, x2, y2 = 4, 4, 0, 1\n",
    "\n",
    "# Computes slope (k) and constant term m\n",
    "# 1 - 4 = -3 / 4-0 = 4 = 75 \n",
    "k = (y2 - y1) / (x2 - x1)\n",
    "m = y1 - k * x1\n",
    "print(f\"{k=:}, {m=:}\")"
   ]
  },
  {
   "cell_type": "markdown",
   "metadata": {},
   "source": [
    "## 5. Euclidean distance 2D"
   ]
  },
  {
   "cell_type": "code",
   "execution_count": 8,
   "metadata": {},
   "outputs": [
    {
     "name": "stdout",
     "output_type": "stream",
     "text": [
      "distance=5.1\n"
     ]
    }
   ],
   "source": [
    "# Using two lists for two coordinates\n",
    "P1 = [3,5] \n",
    "P2 = [-2,4]\n",
    "\n",
    "a = (P2[1]-P1[1])**2\n",
    "b = P1[0]-P2[0] \n",
    "distance = math.sqrt(a**2+b**2)\n",
    "print(f\"{distance=:.1f}\")"
   ]
  },
  {
   "cell_type": "markdown",
   "metadata": {},
   "source": [
    "## Euclidean distance in 3D"
   ]
  },
  {
   "cell_type": "code",
   "execution_count": 9,
   "metadata": {},
   "outputs": [
    {
     "name": "stdout",
     "output_type": "stream",
     "text": [
      "distance=4.1\n"
     ]
    }
   ],
   "source": [
    "# Using two list for three coordinates\n",
    "\n",
    "P1 = [2,1,4]\n",
    "P2 = [3,1,0]\n",
    "\n",
    "\n",
    "a = (P2[1]-P1[1])**2\n",
    "\n",
    "b = P1[0]-P2[0]\n",
    "e = P1[2]-P2[2]**2\n",
    "distance = math.sqrt(a**2+b**2+e**2)\n",
    "print(f\"{distance=:.1f}\")"
   ]
  }
 ],
 "metadata": {
  "kernelspec": {
   "display_name": "Python 3.9.13 ('helvetica-vDNe7t5J')",
   "language": "python",
   "name": "python3"
  },
  "language_info": {
   "codemirror_mode": {
    "name": "ipython",
    "version": 3
   },
   "file_extension": ".py",
   "mimetype": "text/x-python",
   "name": "python",
   "nbconvert_exporter": "python",
   "pygments_lexer": "ipython3",
   "version": "3.9.13"
  },
  "orig_nbformat": 4,
  "vscode": {
   "interpreter": {
    "hash": "87963c44df63088d167d5530105c3e3af538607c5bfb8dea2d5d486a9477964e"
   }
  }
 },
 "nbformat": 4,
 "nbformat_minor": 2
}
