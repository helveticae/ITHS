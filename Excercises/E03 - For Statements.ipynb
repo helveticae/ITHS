{
 "cells": [
  {
   "cell_type": "markdown",
   "metadata": {},
   "source": [
    "### 1. Count numbers\n",
    "Use a for statement to count from:\n",
    "\n",
    "  a)   -10 to 10 with one increment (*)\n",
    "  \n",
    "  b)   -10 to 10 with two increment (*)"
   ]
  },
  {
   "cell_type": "code",
   "execution_count": 15,
   "metadata": {},
   "outputs": [
    {
     "name": "stdout",
     "output_type": "stream",
     "text": [
      "-10 \t-9 \t-8 \t-7 \t-6 \t-5 \t-4 \t-3 \t-2 \t-1 \t0 \t1 \t2 \t3 \t4 \t5 \t6 \t7 \t8 \t9 \t10 \t"
     ]
    }
   ],
   "source": [
    "for i in range(-10,11): # start, stop, step\n",
    "    print(i, \"\\t\", end='') #  \\t = tab"
   ]
  },
  {
   "cell_type": "code",
   "execution_count": 17,
   "metadata": {},
   "outputs": [
    {
     "name": "stdout",
     "output_type": "stream",
     "text": [
      "-10 \t-8 \t-6 \t-4 \t-2 \t0 \t2 \t4 \t6 \t8 \t10 \t"
     ]
    }
   ],
   "source": [
    "for i in range(-10,11,2):   # start, stop, step\n",
    "    print(i, \"\\t\", end='') #  \\t = tab"
   ]
  },
  {
   "cell_type": "markdown",
   "metadata": {},
   "source": []
  },
  {
   "cell_type": "markdown",
   "metadata": {},
   "source": [
    "### 2. Arithmetic sum\n",
    "\n",
    "a) sum = 1 + 2 (...) + 99 + 100\n",
    "\n",
    "b) sum = 1 + 3 (...) +97 +  99"
   ]
  },
  {
   "cell_type": "code",
   "execution_count": 39,
   "metadata": {},
   "outputs": [
    {
     "name": "stdout",
     "output_type": "stream",
     "text": [
      "5050\n"
     ]
    }
   ],
   "source": [
    "b = 0\n",
    "for a in range(1,101):\n",
    "   b += a\n",
    "   \n",
    "print(b)"
   ]
  },
  {
   "cell_type": "code",
   "execution_count": 40,
   "metadata": {},
   "outputs": [
    {
     "name": "stdout",
     "output_type": "stream",
     "text": [
      "2500\n"
     ]
    }
   ],
   "source": [
    "b = 0\n",
    "for a in range(1,101,2):\n",
    "   b += a\n",
    "   \n",
    "print(b)"
   ]
  },
  {
   "cell_type": "markdown",
   "metadata": {},
   "source": [
    "### 3. Multiplication table \n",
    "Use for statement(s) to:\n",
    "\n",
    "  a)   print out the 6th multiplication table from 0 to 10 (*)\n",
    "\n",
    "  b)   let the user input the table, start and end of the table. (*)\n",
    "\n",
    "  c)   print out a full multiplication table from 0 to 10. (**)"
   ]
  },
  {
   "cell_type": "code",
   "execution_count": null,
   "metadata": {},
   "outputs": [],
   "source": [
    "#a) \n",
    "for i in range(9):\n",
    "    print(6 * 6)"
   ]
  }
 ],
 "metadata": {
  "kernelspec": {
   "display_name": "Python 3.9.13 64-bit",
   "language": "python",
   "name": "python3"
  },
  "language_info": {
   "codemirror_mode": {
    "name": "ipython",
    "version": 3
   },
   "file_extension": ".py",
   "mimetype": "text/x-python",
   "name": "python",
   "nbconvert_exporter": "python",
   "pygments_lexer": "ipython3",
   "version": "3.9.13"
  },
  "orig_nbformat": 4,
  "vscode": {
   "interpreter": {
    "hash": "aee8b7b246df8f9039afb4144a1f6fd8d2ca17a180786b69acc140d282b71a49"
   }
  }
 },
 "nbformat": 4,
 "nbformat_minor": 2
}
