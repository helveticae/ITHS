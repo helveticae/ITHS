{
 "cells": [
  {
   "cell_type": "markdown",
   "metadata": {},
   "source": [
    "### 1. Count numbers\n",
    "Use a for statement to count from:\n",
    "\n",
    "  a)   -10 to 10 with one increment (*)\n",
    "  \n",
    "  b)   -10 to 10 with two increment (*)"
   ]
  },
  {
   "cell_type": "code",
   "execution_count": 15,
   "metadata": {},
   "outputs": [
    {
     "name": "stdout",
     "output_type": "stream",
     "text": [
      "-10 \t-9 \t-8 \t-7 \t-6 \t-5 \t-4 \t-3 \t-2 \t-1 \t0 \t1 \t2 \t3 \t4 \t5 \t6 \t7 \t8 \t9 \t10 \t"
     ]
    }
   ],
   "source": [
    "for i in range(-10,11): # start, stop, step\n",
    "    print(i, \"\\t\", end='') #  \\t = tab"
   ]
  },
  {
   "cell_type": "code",
   "execution_count": 17,
   "metadata": {},
   "outputs": [
    {
     "name": "stdout",
     "output_type": "stream",
     "text": [
      "-10 \t-8 \t-6 \t-4 \t-2 \t0 \t2 \t4 \t6 \t8 \t10 \t"
     ]
    }
   ],
   "source": [
    "for i in range(-10,11,2):   # start, stop, step\n",
    "    print(i, \"\\t\", end='') #  \\t = tab"
   ]
  },
  {
   "cell_type": "markdown",
   "metadata": {},
   "source": [
    "### 2. Arithmetic sum\n",
    "\n",
    "a) sum = 1 + 2 (...) + 99 + 100\n",
    "\n",
    "b) sum = 1 + 3 (...) +97 +  99"
   ]
  },
  {
   "cell_type": "code",
   "execution_count": 39,
   "metadata": {},
   "outputs": [
    {
     "name": "stdout",
     "output_type": "stream",
     "text": [
      "5050\n"
     ]
    }
   ],
   "source": [
    "b = 0\n",
    "for a in range(1,101):\n",
    "   b += a\n",
    "   \n",
    "print(b)"
   ]
  },
  {
   "cell_type": "code",
   "execution_count": 40,
   "metadata": {},
   "outputs": [
    {
     "name": "stdout",
     "output_type": "stream",
     "text": [
      "2500\n"
     ]
    }
   ],
   "source": [
    "b = 0\n",
    "for a in range(1,101,2):\n",
    "   b += a\n",
    "   \n",
    "print(b)"
   ]
  },
  {
   "cell_type": "markdown",
   "metadata": {},
   "source": [
    "### 3. Multiplication table \n",
    "Use for statement(s) to:\n",
    "\n",
    "  a)   print out the 6th multiplication table from 0 to 10 (*)\n",
    "\n",
    "  b)   let the user input the table, start and end of the table. (*)\n",
    "\n",
    "  c)   print out a full multiplication table from 0 to 10. (**)"
   ]
  },
  {
   "cell_type": "code",
   "execution_count": 27,
   "metadata": {},
   "outputs": [
    {
     "name": "stdout",
     "output_type": "stream",
     "text": [
      "0  6  12  18  24  30  36  42  48  54  60  "
     ]
    },
    {
     "data": {
      "text/plain": [
       "''"
      ]
     },
     "execution_count": 27,
     "metadata": {},
     "output_type": "execute_result"
    }
   ],
   "source": [
    "#a) \n",
    "for i in range(11):\n",
    "    print(f\"{6 * i}\",\" \", end='')"
   ]
  },
  {
   "cell_type": "code",
   "execution_count": 53,
   "metadata": {},
   "outputs": [
    {
     "name": "stdout",
     "output_type": "stream",
     "text": [
      "8 16 24 32 40 48 56 64 72 80 88 96 104 112 120 128 \n",
      " Table start=1, User number=8, User stop=16\n"
     ]
    }
   ],
   "source": [
    "#b) Using functions. Probably very redundant but fun to make.\n",
    "\n",
    "def getinput(t) -> int:\n",
    "    val = input(int(input(f\"{t}\")))\n",
    "    a = int(val)\n",
    "    return a\n",
    "\n",
    "def func():\n",
    "    number = getinput(\"Select number:\")\n",
    "    start = getinput(\"Start:\")\n",
    "    stop = getinput(\"Stop:\")\n",
    "    for i in range(start , (1 + stop)):\n",
    "        print(f\"{number*i} \", end =\"\")\n",
    "    print(f\"\\n Table {start=}, User {number=}, User {stop=}\")\n",
    "\n",
    "func()"
   ]
  },
  {
   "cell_type": "code",
   "execution_count": 65,
   "metadata": {},
   "outputs": [
    {
     "name": "stdout",
     "output_type": "stream",
     "text": [
      "[0 0 0 0 0 0 0 0 0 0 0]\n",
      "[ 0  1  2  3  4  5  6  7  8  9 10]\n",
      "[ 0  2  4  6  8 10 12 14 16 18 20]\n",
      "[ 0  3  6  9 12 15 18 21 24 27 30]\n",
      "[ 0  4  8 12 16 20 24 28 32 36 40]\n",
      "[ 0  5 10 15 20 25 30 35 40 45 50]\n",
      "[ 0  6 12 18 24 30 36 42 48 54 60]\n",
      "[ 0  7 14 21 28 35 42 49 56 63 70]\n",
      "[ 0  8 16 24 32 40 48 56 64 72 80]\n",
      "[ 0  9 18 27 36 45 54 63 72 81 90]\n",
      "[  0  10  20  30  40  50  60  70  80  90 100]\n"
     ]
    }
   ],
   "source": [
    "#c) Using NumPy for fun.\n",
    "import numpy as np\n",
    "\n",
    "row = np.arange(11)\n",
    "for i in row:\n",
    "    print (i*row)\n"
   ]
  },
  {
   "cell_type": "markdown",
   "metadata": {},
   "source": [
    "numpy.arange creates arrays with regularly incrementing values, so it's very useful above. However the output could look neater. Maybe plot it with pyplot?"
   ]
  }
 ],
 "metadata": {
  "kernelspec": {
   "display_name": "Python 3.9.13 64-bit",
   "language": "python",
   "name": "python3"
  },
  "language_info": {
   "codemirror_mode": {
    "name": "ipython",
    "version": 3
   },
   "file_extension": ".py",
   "mimetype": "text/x-python",
   "name": "python",
   "nbconvert_exporter": "python",
   "pygments_lexer": "ipython3",
   "version": "3.9.13"
  },
  "orig_nbformat": 4,
  "vscode": {
   "interpreter": {
    "hash": "aee8b7b246df8f9039afb4144a1f6fd8d2ca17a180786b69acc140d282b71a49"
   }
  }
 },
 "nbformat": 4,
 "nbformat_minor": 2
}
