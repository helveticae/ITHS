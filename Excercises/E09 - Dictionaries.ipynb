{
 "cells": [
  {
   "cell_type": "markdown",
   "metadata": {},
   "source": [
    "## 1. Curriculum dictionary\n",
    "\n",
    "Create a dictionary containing **keys** and **value**. Then calculate the number of total points."
   ]
  },
  {
   "cell_type": "code",
   "execution_count": 181,
   "metadata": {},
   "outputs": [
    {
     "name": "stdout",
     "output_type": "stream",
     "text": [
      "50 HP: Social Impact of Programming Using Instant Dropshipping\n",
      "50 HP: Pseudo Cyber Security In Machine Learning Java\n",
      "50 HP: Writing better Success And Artificial Music Theory\n",
      "20 HP: Biology 101\n",
      "50 HP: Social Impact of Algebra In Machine Learning C#\n",
      "10 HP: Introduction to Philosophy With Roman Science\n",
      "30 HP: Algebra 101\n",
      "20 HP: Social Impact of Biology With The Future of Calculus\n",
      "10 HP: Pseudo Programming In 18th Century Calculus\n",
      "50 HP: Developing Programming Before Artificial Linguistics\n",
      "100 HP: Writing better Poetry In Artificial Music Theory\n",
      "90 HP: Object-oriented Programming Without Machine Learning Health Care\n",
      "30 HP: Theoretical Rhethorics Without The History of Linguistics\n",
      "70 HP: Theoretical Biology Before Enviromental Archery\n",
      "40 HP: Object-oriented Philosophy Using Instant UX-Design\n",
      "40 HP: Rhethorics 101\n",
      "\n",
      "Total HP:\n",
      "710\n"
     ]
    }
   ],
   "source": [
    "import numpy as np\n",
    "import random as rnd\n",
    "\n",
    "# Numpy array because why not\n",
    "number_of_courses = np.arange(16)\n",
    "\n",
    "# Lists to store randomised course names and points\n",
    "points_li=[]\n",
    "course_li=[]\n",
    "\n",
    "# Generates random int not lower than 1\n",
    "def get_rand(i):\n",
    "    return rnd.randint(1,i)\n",
    "\n",
    "# Generating random points\n",
    "for i in range(len(number_of_courses)):\n",
    "    q = round(get_rand(4*25), -1)\n",
    "    points_li.append(q)\n",
    "\n",
    "# Course randomiser constructor\n",
    "prefix = [\"Advanced\", \"Introduction to\", \"Object-oriented\", \"Theoretical\", \"Social Impact of\", \"Pseudo\", \"Swedish\", \"Writing better\", \"Developing\"]\n",
    "infix = [\"Algebra\", \"Biology\", \"Philosophy\", \"Programming\", \"Success\", \"Cyber Security\", \"Rhethorics\", \"Poetry\"]\n",
    "preposition = [\"101\", \"In\", \"With\", \"Before\", \"And\", \"Using\", \"Without\", \"Is NOT\"]\n",
    "adverb = [\"The History of\", \"Roman\", \"Instant\", \"Modern\", \"18th Century\", \"Artificial\", \"Machine Learning\", \"Enviromental\", \"The Future of\"]\n",
    "suffix = [\"Calculus\", \"Python\", \"Dropshipping\", \"C#\", \"Java\", \"Ray Tracing\", \"Psychology\", \"Music Theory\", \"Set Theory\", \"UX-Design\", \"Health Care\", \"Leadership\", \"Archery\", \"Methodology\", \"Linguistics\", \"Science\"]\n",
    "\n",
    "for i in range (len(number_of_courses)):\n",
    "\n",
    "    # Randomise two first words\n",
    "    pref = prefix[rnd.randint(0,len(prefix)-1)]\n",
    "    infx = infix[rnd.randint(0,len(infix)-1)]\n",
    "\n",
    "    # Randomise third word, if word is \"101\" stop, else, continue generation\n",
    "    rand_prep = rnd.randint(0,len(preposition)-1)\n",
    "    prep = preposition[rand_prep]\n",
    "\n",
    "    if rand_prep == 0:\n",
    "        name =f\"{infx} {prep}\"\n",
    "    else:\n",
    "        adv = adverb[rnd.randint(0,len(adverb)-1)]\n",
    "        suf = suffix[rnd.randint(0,len(suffix)-1)]\n",
    "        name = f\"{pref} {infx} {prep} {adv} {suf}\" \n",
    "\n",
    "    course_li.append(name)\n",
    "\n",
    "# Dictionary comprehension to convert lists to dictionary\n",
    "curriculum = {course_li[i]: points_li[i] for i in range(len(course_li))}\n",
    "  \n",
    "# Printing dictionary\n",
    "for key, value in curriculum.items():\n",
    "    print(f\"{value} HP: {key}\")\n",
    "\n",
    "values = curriculum.values()\n",
    "print(f\"\\nTotal HP:\\n{sum(values)}\")"
   ]
  },
  {
   "cell_type": "markdown",
   "metadata": {},
   "source": [
    "---\n",
    "## 3. Pokemon list (*)\n",
    "\n",
    "Read in the file pokemon_list.txt in Python. Create a variable with name pokedex with the key:value **\"pokemon\":\"type, index\"**. For example when searching for the keys \"Gengar\" and \"Pikachu\": (*)\n",
    "\n",
    "```python\n",
    "\n",
    "print(pokedex[\"Gengar\"])\n",
    "print(pokedex[\"Pikachu\"])\n",
    "\n",
    "Spöke/Gift, 94\n",
    "Elektrisk, 25\n",
    "```\n",
    "\n",
    "<details>\n",
    "\n",
    "<summary>Answer</summary>\n",
    "\n",
    "```\n",
    "{'Bulbasaur': 'Gräs/Gift, 1',\n",
    " 'Ivysaur': 'Gräs/Gift, 2',\n",
    " 'Venusaur': 'Gräs/Gift, 3',\n",
    " 'Charmander': 'Eld, 4',\n",
    " 'Charmeleon': 'Eld, 5',\n",
    " 'Charizard': 'Eld/Flygande, 6',\n",
    " 'Squirtle': 'Vatten, 7',\n",
    " 'Wartortle': 'Vatten, 8',\n",
    " 'Blastoise': 'Vatten, 9',\n",
    " ...\n",
    "}\n",
    "```\n",
    "\n",
    "</details>\n"
   ]
  },
  {
   "cell_type": "markdown",
   "metadata": {},
   "source": [
    "---\n",
    "## 2. Dice simulation (*)\n",
    "\n",
    "Simulate 1000000 dice rolls and save the number of ones, twos, ..., sixes in a dictionary. Then print them out in the terminal. (*)\n",
    "\n",
    "<details>\n",
    "\n",
    "<summary>Answer</summary>\n",
    "\n",
    "```\n",
    "1: 166481\n",
    "2: 166844\n",
    "3: 166154\n",
    "4: 167400\n",
    "5: 167260\n",
    "6: 165861\n",
    "```\n",
    "\n",
    "</details>\n"
   ]
  },
  {
   "cell_type": "markdown",
   "metadata": {},
   "source": [
    "---\n",
    "## 4. Morse code (**)\n",
    "\n",
    "Read in the file morse.txt, save it in a dictionary and create a function that lets the user input a message to get it translated to morse code. For example  (**)\n",
    "\n",
    "```python\n",
    "\n",
    "print(morse(\"SOS\"))\n",
    "print(morse(\"POKEMON\"))\n",
    "\n",
    "...---...\n",
    ".------.-.------.\n",
    "```"
   ]
  }
 ],
 "metadata": {
  "kernelspec": {
   "display_name": "Python 3.9.13 ('helvetica-vDNe7t5J')",
   "language": "python",
   "name": "python3"
  },
  "language_info": {
   "name": "python",
   "version": "3.9.13"
  },
  "orig_nbformat": 4,
  "vscode": {
   "interpreter": {
    "hash": "87963c44df63088d167d5530105c3e3af538607c5bfb8dea2d5d486a9477964e"
   }
  }
 },
 "nbformat": 4,
 "nbformat_minor": 2
}
