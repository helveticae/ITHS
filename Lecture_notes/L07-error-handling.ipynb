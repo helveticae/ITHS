{
 "cells": [
  {
   "cell_type": "markdown",
   "metadata": {},
   "source": [
    "# Lecture 7 - Error Handling\n",
    "ITHS/AI22 | 2022-09-12\n",
    "\n",
    "---"
   ]
  },
  {
   "cell_type": "markdown",
   "metadata": {},
   "source": [
    "## Traceback"
   ]
  },
  {
   "cell_type": "code",
   "execution_count": null,
   "metadata": {},
   "outputs": [],
   "source": [
    "def func1():\n",
    "    print(\"Start function 1\")\n",
    "    func2()\n",
    "\n",
    "def func2():\n",
    "    print(\"Start function 2\")\n",
    "    func3()\n",
    "\n",
    "def func3():\n",
    "    print(\"Start function 3\")\n",
    "    3/0 # exception error\n",
    "\n",
    "func1()"
   ]
  },
  {
   "cell_type": "markdown",
   "metadata": {},
   "source": [
    "### Logical errors"
   ]
  },
  {
   "cell_type": "code",
   "execution_count": null,
   "metadata": {},
   "outputs": [],
   "source": [
    "import math \n",
    "\n",
    "circumference = lambda radius: math.pi*radius**2\n",
    "\n",
    "print(circumference(2))\n",
    "\n",
    "# program does what it has been told\n",
    "# we compute the area instead of the circumference\n",
    "# logical error -> hard to find "
   ]
  },
  {
   "cell_type": "markdown",
   "metadata": {},
   "source": [
    "### Try-except\n",
    "\n",
    "- try block\n",
    "- except block\n",
    "- raise"
   ]
  },
  {
   "cell_type": "markdown",
   "metadata": {},
   "source": []
  },
  {
   "cell_type": "code",
   "execution_count": 1,
   "metadata": {},
   "outputs": [
    {
     "name": "stdout",
     "output_type": "stream",
     "text": [
      "Du är -2000.0 år gammal\n"
     ]
    }
   ],
   "source": [
    "age = input(\"Ange din ålder: \")\n",
    "\n",
    "age = float(age)\n",
    "\n",
    "# logical error with negative age\n",
    "print(f\"Du är {age} år gammal\")"
   ]
  },
  {
   "cell_type": "code",
   "execution_count": null,
   "metadata": {},
   "outputs": [],
   "source": [
    "age = input(\"Ange din ålder: \")\n",
    "\n",
    "age = float(age)\n",
    "\n",
    "print(f\"Du är {age} år gammal\")"
   ]
  },
  {
   "cell_type": "code",
   "execution_count": 2,
   "metadata": {},
   "outputs": [
    {
     "name": "stdout",
     "output_type": "stream",
     "text": [
      "could not convert string to float: 'trettio'\n",
      "Programmet fortsätter här \n"
     ]
    }
   ],
   "source": [
    "age = input(\"Ange din ålder: \")\n",
    "\n",
    "try:\n",
    "    age = float(age) # tried to convert \"fyrtiotvå\", program throws a ValueError\n",
    "    print(f\"Du är {age} år gammal\")\n",
    "except ValueError as err: # it get caught in the except block\n",
    "    print(err)\n",
    "\n",
    "print(\"Programmet fortsätter här \")"
   ]
  },
  {
   "cell_type": "code",
   "execution_count": 3,
   "metadata": {},
   "outputs": [
    {
     "name": "stdout",
     "output_type": "stream",
     "text": [
      "Åldern som du anger måste vara mellan 0 och 125, inte 3000.0\n",
      "could not convert string to float: ''\n",
      "could not convert string to float: ''\n",
      "could not convert string to float: ''\n",
      "could not convert string to float: ''\n",
      "could not convert string to float: ''\n",
      "could not convert string to float: ''\n",
      "could not convert string to float: ''\n",
      "could not convert string to float: ''\n",
      "Du är 12.0 år gammal\n"
     ]
    }
   ],
   "source": [
    "while True:\n",
    "    age = input(\"Ange din ålder: \")\n",
    "\n",
    "    try:\n",
    "        age = float(age)  \n",
    "        if not 0 <= age <= 125:\n",
    "            raise ValueError(f\"Åldern som du anger måste vara mellan 0 och 125, inte {age}\")\n",
    "        break\n",
    "    except ValueError as err: \n",
    "        print(err)\n",
    "\n",
    "print(f\"Du är {age} år gammal\") "
   ]
  },
  {
   "cell_type": "code",
   "execution_count": null,
   "metadata": {},
   "outputs": [],
   "source": []
  }
 ],
 "metadata": {
  "kernelspec": {
   "display_name": "Python 3.9.13 ('helvetica-vDNe7t5J')",
   "language": "python",
   "name": "python3"
  },
  "language_info": {
   "codemirror_mode": {
    "name": "ipython",
    "version": 3
   },
   "file_extension": ".py",
   "mimetype": "text/x-python",
   "name": "python",
   "nbconvert_exporter": "python",
   "pygments_lexer": "ipython3",
   "version": "3.9.13"
  },
  "orig_nbformat": 4,
  "vscode": {
   "interpreter": {
    "hash": "87963c44df63088d167d5530105c3e3af538607c5bfb8dea2d5d486a9477964e"
   }
  }
 },
 "nbformat": 4,
 "nbformat_minor": 2
}
