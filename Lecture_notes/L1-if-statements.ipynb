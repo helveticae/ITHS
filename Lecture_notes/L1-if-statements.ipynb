{
 "cells": [
  {
   "cell_type": "markdown",
   "metadata": {},
   "source": [
    "# Lecture 1 - If Statements\n",
    "ITHS/AI22 | 2022-08-30\n",
    "\n",
    "---"
   ]
  },
  {
   "cell_type": "markdown",
   "metadata": {},
   "source": [
    "## if-statements"
   ]
  },
  {
   "cell_type": "code",
   "execution_count": 2,
   "metadata": {},
   "outputs": [
    {
     "name": "stdout",
     "output_type": "stream",
     "text": [
      "Welcome to the pub.\n"
     ]
    }
   ],
   "source": [
    "# Get input, checks one value (float type)\n",
    "age = float(input(\"How old are ya?\"))\n",
    "\n",
    "if age < 18:\n",
    "    print(\"Not allowed in pub.\")\n",
    "else:\n",
    "    print(\"Welcome to the pub.\")"
   ]
  },
  {
   "cell_type": "code",
   "execution_count": 3,
   "metadata": {},
   "outputs": [
    {
     "name": "stdout",
     "output_type": "stream",
     "text": [
      "You can't. :(\n"
     ]
    }
   ],
   "source": [
    "# Checks two values\n",
    "age = 30\n",
    "height = 240\n",
    "if age > 10 and 130 < height <= 210:\n",
    "    print(\"You can ride the Rollecoaster\")\n",
    "else:\n",
    "    print(\"You can't. :(\")"
   ]
  },
  {
   "cell_type": "markdown",
   "metadata": {},
   "source": [
    "## Modulo operator"
   ]
  },
  {
   "cell_type": "code",
   "execution_count": 7,
   "metadata": {},
   "outputs": [
    {
     "name": "stdout",
     "output_type": "stream",
     "text": [
      "Uneven number\n"
     ]
    }
   ],
   "source": [
    "# One equal signs => simply  assignes value to variable\n",
    "n = 42\n",
    "\n",
    "# Two equal signs => checks if left is equal to right\n",
    "if n % 2 == 0:\n",
    "    print(\"Even n\")\n",
    "else:\n",
    "    print(\"Uneven n\")"
   ]
  },
  {
   "cell_type": "markdown",
   "metadata": {},
   "source": [
    "## More operators"
   ]
  },
  {
   "cell_type": "code",
   "execution_count": 5,
   "metadata": {},
   "outputs": [
    {
     "name": "stdout",
     "output_type": "stream",
     "text": [
      "3==4: False\n",
      "3==3: True\n",
      "3>=3: True\n",
      "3!=3: False\n"
     ]
    }
   ],
   "source": [
    "# boolean\n",
    "\n",
    "print(f\"3==4: {3 == 4}\") \n",
    "print(f\"3==3: {3 == 3}\") # Equal operator\n",
    "print(f\"3>=3: {3 >= 3}\") # Larger than or equal operator\n",
    "print(f\"3!=3: {3 != 3}\") # Not equal operator"
   ]
  },
  {
   "cell_type": "markdown",
   "metadata": {},
   "source": [
    "## Type conversion"
   ]
  },
  {
   "cell_type": "code",
   "execution_count": 7,
   "metadata": {},
   "outputs": [
    {
     "name": "stdout",
     "output_type": "stream",
     "text": [
      "weight='3333'\n",
      "weight=3333.0\n",
      "Give patient 1000mg\n"
     ]
    }
   ],
   "source": [
    "# Input is tring\n",
    "weight = input(\"Enter patients weight (kg): \")\n",
    "print(f\"{weight=}\") # print string\n",
    "\n",
    "# Convert string to float\n",
    "weight = float(weight)\n",
    "print(f\"{weight=}\") # print float (same variable now float)\n",
    "\n",
    "if weight < 20: \n",
    "    print(\"Give patient 500mg\")\n",
    "elif weight < 40:\n",
    "    print(\"Give patient 750mg\")\n",
    "else:\n",
    "    print(\"Give patient 1000mg\")"
   ]
  },
  {
   "cell_type": "markdown",
   "metadata": {},
   "source": [
    "## Nested if-statements"
   ]
  },
  {
   "cell_type": "code",
   "execution_count": 10,
   "metadata": {},
   "outputs": [
    {
     "name": "stdout",
     "output_type": "stream",
     "text": [
      "Not divisible by 5\n"
     ]
    }
   ],
   "source": [
    "n = 11\n",
    "if n % 5 == 0: \n",
    "    print(f\"{n} divisible by 5\")\n",
    "    if n % 2 == 0:\n",
    "        print(\"Even number\")\n",
    "    else:\n",
    "        print(\"Odd number\")\n",
    "else:\n",
    "    print(\"Not divisible by 5\")"
   ]
  }
 ],
 "metadata": {
  "kernelspec": {
   "display_name": "Python 3.9.13 ('helvetica-vDNe7t5J')",
   "language": "python",
   "name": "python3"
  },
  "language_info": {
   "codemirror_mode": {
    "name": "ipython",
    "version": 3
   },
   "file_extension": ".py",
   "mimetype": "text/x-python",
   "name": "python",
   "nbconvert_exporter": "python",
   "pygments_lexer": "ipython3",
   "version": "3.9.13"
  },
  "orig_nbformat": 4,
  "vscode": {
   "interpreter": {
    "hash": "87963c44df63088d167d5530105c3e3af538607c5bfb8dea2d5d486a9477964e"
   }
  }
 },
 "nbformat": 4,
 "nbformat_minor": 2
}
