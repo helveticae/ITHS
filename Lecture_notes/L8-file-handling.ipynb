{
 "cells": [
  {
   "cell_type": "markdown",
   "metadata": {},
   "source": [
    "# Lecture 8: File Handling\n",
    "ITHS/AI22 | 2022-09-13\n",
    "\n",
    "---\n",
    "\n",
    "```py\n",
    "with open(path,option) as name:\n",
    "    statements ...\n",
    "```\n",
    "\n",
    "Options\n",
    "- \"r\" - read\n",
    "- \"a\" - append (will also create file)\n",
    "- \"w\" - write (will also create file)\n",
    "- \"x\" - create a file (error if file already exist)\n",
    "\n",
    "Path navigate:<br>\n",
    "Example path: (/root/etc/data/file.txt)<br>\n",
    "- . in same dir\n",
    "- .. move up in dir\n",
    "\n",
    "TextIOWrapper = Var type"
   ]
  },
  {
   "cell_type": "code",
   "execution_count": 1,
   "metadata": {},
   "outputs": [
    {
     "data": {
      "text/plain": [
       "'  If     we     knew what it was      we were doing, it would not be called research,          would it?     - Albert Einstein\\n\\nTime is a drug. Too       much of it kills you.  -  Terry Pratchett\\n\\n\\n An expert is a person who       has made all the mistakes that           can be made in a          very narrow field - Niels Bohr\\n\\n   Everything must be made as simple as possible. But not simpler. - Albert Einstein     \\n\\n\\n  Nothing in life                is to be feared, it is only to be understood. Now is the time to understand more, so that we may fear less. - Marie  Curie  \\n\\nIf I have seen further     it is by standing on the shoulders of Giants. - Isaac Newton'"
      ]
     },
     "execution_count": 1,
     "metadata": {},
     "output_type": "execute_result"
    }
   ],
   "source": [
    "# path can be a variable\n",
    "path = \"../Data/quotes.txt\"\n",
    "\n",
    "# ...or it can be opened directly:\n",
    "with open (\"../Data/quotes.txt\", \"r\") as file:\n",
    "    text = file.read()\n",
    "\n",
    "text"
   ]
  },
  {
   "cell_type": "markdown",
   "metadata": {},
   "source": [
    "## Cleaning up quotes.txt\n",
    "- inspect txt-file manually (whitespace & newlines)\n",
    "- remove leading and trailing whitespaces\n",
    "- remove excessive white spaces in between words\n",
    "- add quote numbers"
   ]
  },
  {
   "cell_type": "code",
   "execution_count": 22,
   "metadata": {},
   "outputs": [
    {
     "name": "stdout",
     "output_type": "stream",
     "text": [
      "'If we knew what it was we were doing, it would not be called research, would it? - Albert Einstein'\n",
      "''\n",
      "'Time is a drug. Too much of it kills you. - Terry Pratchett'\n",
      "''\n",
      "''\n",
      "'An expert is a person who has made all the mistakes that can be made in a very narrow field - Niels Bohr'\n",
      "''\n",
      "'Everything must be made as simple as possible. But not simpler. - Albert Einstein'\n",
      "''\n",
      "''\n",
      "'Nothing in life is to be feared, it is only to be understood. Now is the time to understand more, so that we may fear less. - Marie Curie'\n",
      "''\n",
      "'If I have seen further it is by standing on the shoulders of Giants. - Isaac Newton'\n"
     ]
    }
   ],
   "source": [
    "import re\n",
    "\n",
    "path = \"../Data/quotes.txt\"\n",
    "\n",
    "with open (path, \"r\") as f_read, open (\"../Data/quootes_clean.txt\", \"w\") as f_write:\n",
    "    quote_number = 1\n",
    "    for quote in f_read:\n",
    "        quote = quote.strip(\" \\n\") #removes leading & trailing spaces and newlines\n",
    "        quote = re.sub(\" +\", \" \", quote) #regex sub = substitute, >=1 whitespaces sub 1 whitespace\n",
    "\n",
    "        # write to new file if the line is not \"\"\n",
    "        if quote != \"\":\n",
    "            f_write.write(f\"{quote_number}. {quote}\\n\")\n",
    "            quote_number += 1\n",
    "\n",
    "        print(repr(quote)) # print != write"
   ]
  },
  {
   "cell_type": "markdown",
   "metadata": {},
   "source": [
    "## Picking out the authors\n",
    "\n",
    "- find digit to find quote\n",
    "- extract first name and last names\n",
    "- join into full name\n",
    "- get unique values"
   ]
  },
  {
   "cell_type": "code",
   "execution_count": 23,
   "metadata": {},
   "outputs": [
    {
     "name": "stdout",
     "output_type": "stream",
     "text": [
      "[['Albert', 'Einstein'], ['Terry', 'Pratchett'], ['Niels', 'Bohr'], ['Albert', 'Einstein'], ['Marie', 'Curie'], ['Isaac', 'Newton']]\n",
      "{'Albert Einstein', 'Terry Pratchett', 'Marie Curie', 'Niels Bohr', 'Isaac Newton'}\n"
     ]
    }
   ],
   "source": [
    "with open(\"../Data/quootes_clean.txt\", \"r\") as f_quotes, open(\"../Data/quootes_clean.txt\", \"a\") as f_append:\n",
    "    # reads in each line as list\n",
    "    # strips \"\\n\"\n",
    "    quotes = [quote.strip(\"\\n\") for quote in f_quotes.readlines()]\n",
    "    authors = [quote.split()[-2:] for quote in quotes]\n",
    "    print(authors)\n",
    "    \n",
    "    # set - allows no duplicate elements\n",
    "    authors = set([\" \".join(author) for author in authors])\n",
    "    print(authors)\n",
    "\n",
    "    f_append.write(\"\\nAuthors: \")\n",
    "    for author in authors:\n",
    "        f_append.write(f\"{author}, \")"
   ]
  },
  {
   "cell_type": "code",
   "execution_count": 15,
   "metadata": {},
   "outputs": [
    {
     "data": {
      "text/plain": [
       "'Nam Name'"
      ]
     },
     "execution_count": 15,
     "metadata": {},
     "output_type": "execute_result"
    }
   ],
   "source": [
    "name = [[\"Nam\", \"Name\"]]\n",
    "\" \".join(name[0])"
   ]
  },
  {
   "cell_type": "code",
   "execution_count": null,
   "metadata": {},
   "outputs": [],
   "source": []
  }
 ],
 "metadata": {
  "kernelspec": {
   "display_name": "Python 3.9.13 ('helvetica-vDNe7t5J')",
   "language": "python",
   "name": "python3"
  },
  "language_info": {
   "codemirror_mode": {
    "name": "ipython",
    "version": 3
   },
   "file_extension": ".py",
   "mimetype": "text/x-python",
   "name": "python",
   "nbconvert_exporter": "python",
   "pygments_lexer": "ipython3",
   "version": "3.9.13"
  },
  "orig_nbformat": 4,
  "vscode": {
   "interpreter": {
    "hash": "87963c44df63088d167d5530105c3e3af538607c5bfb8dea2d5d486a9477964e"
   }
  }
 },
 "nbformat": 4,
 "nbformat_minor": 2
}
