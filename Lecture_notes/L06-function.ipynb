{
 "cells": [
  {
   "cell_type": "markdown",
   "metadata": {},
   "source": [
    "# Lecture 6 - Functions\n",
    "ITHS/AI22 | 2022-09-07\n",
    "\n",
    "---"
   ]
  },
  {
   "cell_type": "code",
   "execution_count": null,
   "metadata": {},
   "outputs": [],
   "source": [
    "def f(a,x,y):\n",
    "    return(a+x+y)/3"
   ]
  },
  {
   "cell_type": "code",
   "execution_count": 6,
   "metadata": {},
   "outputs": [
    {
     "name": "stdout",
     "output_type": "stream",
     "text": [
      "Hej pal, du är 0\n",
      "Hej pal, du är 0\n",
      "Hej Chales, du är 20\n",
      "Hej pal, du är 0\n",
      "Hej pal, du är 200\n"
     ]
    }
   ],
   "source": [
    "#Default value \n",
    "\n",
    "def hello(number, name = \"pal\", age =0):\n",
    "    for i in range(number):\n",
    "        print(f\"Hej {name}, du är {age}\")\n",
    "    # no return -> void function\n",
    "    # return -> tillskriver variabelvärde\n",
    "\n",
    "hello(2)\n",
    "hello(1, \"Chales\", 20)\n",
    "\n",
    "hello(1)\n",
    "\n",
    "#Keyword arguments => age and nam, number => positional argument\n",
    "hello(1, age = 200) # använder default value\n",
    "\n",
    "#positional måste gå först, keyword arguments follow"
   ]
  },
  {
   "cell_type": "code",
   "execution_count": null,
   "metadata": {},
   "outputs": [],
   "source": []
  },
  {
   "cell_type": "code",
   "execution_count": 7,
   "metadata": {},
   "outputs": [
    {
     "data": {
      "text/plain": [
       "2"
      ]
     },
     "execution_count": 7,
     "metadata": {},
     "output_type": "execute_result"
    }
   ],
   "source": [
    "def word_counter(text =\"\"):\n",
    "    word_list = text.split()\n",
    "    return len(word_list)"
   ]
  },
  {
   "cell_type": "code",
   "execution_count": 8,
   "metadata": {},
   "outputs": [
    {
     "data": {
      "text/plain": [
       "3.0"
      ]
     },
     "execution_count": 8,
     "metadata": {},
     "output_type": "execute_result"
    }
   ],
   "source": [
    "# *args => arbitrary arguments\n",
    "\n",
    "def my_mean2(*numbers): #*number = går att lägga in hur många positional arguments som helst\n",
    "    sum_ = 0\n",
    "    for number in numbers:\n",
    "        sum_ += number\n",
    "    return sum_/len(numbers)\n",
    "\n",
    "my_mean2(1,2,3,4,5) # 5 argument går in\n",
    "\n",
    "# **kwargs => arbitrary keyword arguments"
   ]
  },
  {
   "cell_type": "code",
   "execution_count": 9,
   "metadata": {},
   "outputs": [
    {
     "data": {
      "text/plain": [
       "27"
      ]
     },
     "execution_count": 9,
     "metadata": {},
     "output_type": "execute_result"
    }
   ],
   "source": [
    "\"\"\" Lambda = anonymous functions\n",
    "bra att använda som argument för andra funktioner\n",
    "\"\"\"\n",
    "cuber = lambda x: x**3\n",
    "cuber(3)\n"
   ]
  },
  {
   "cell_type": "code",
   "execution_count": 25,
   "metadata": {},
   "outputs": [
    {
     "data": {
      "image/png": "[encoded data removed]",
      "text/plain": [
       "<Figure size 640x480 with 1 Axes>"
      ]
     },
     "metadata": {},
     "output_type": "display_data"
    }
   ],
   "source": [
    "# draw lines\n",
    "\n",
    "import matplotlib.pyplot as plt\n",
    "def draw_lines(x_list, k=1, m=1, title = \"\"):\n",
    "    y_list = [k*x+m for x in x_list]\n",
    "\n",
    "    plt.plot(x_list, y_list)\n",
    "    plt.xlabel(\"x\")\n",
    "    plt.ylabel(\"y\")\n",
    "\n",
    "# TODO find intersection point and plot it\n",
    "\n",
    "x = list(range(-10,10))\n",
    "draw_lines(x, title = \"Lines\")\n",
    "draw_lines(x, k=-2, m=-1, title = \"Lines\")"
   ]
  },
  {
   "cell_type": "code",
   "execution_count": 24,
   "metadata": {},
   "outputs": [
    {
     "name": "stdout",
     "output_type": "stream",
     "text": [
      "Det var en gång en katt som tog sig på en hatt och spelade schack fick shackmatt med hjälp av skolmatt\n",
      "katt\n",
      "hatt\n",
      "shackmatt\n",
      "skolmatt\n"
     ]
    }
   ],
   "source": [
    "import re\n",
    "\n",
    "text = \"Det var en gång en katt, som tog sig på en hatt, och spelade schack, fick shackmatt med hjälp av skolmatt\"\n",
    "text = text.replace(',', '')\n",
    "\n",
    "print(text)\n",
    "\n",
    "textsplit = re.split(\" \", text)\n",
    "for i in range(len((textsplit))):\n",
    "    if re.search(\"att\", textsplit[i]) != None:\n",
    "        print(textsplit[i])"
   ]
  },
  {
   "cell_type": "code",
   "execution_count": null,
   "metadata": {},
   "outputs": [],
   "source": []
  }
 ],
 "metadata": {
  "kernelspec": {
   "display_name": "Python 3.9.13 ('helvetica-vDNe7t5J')",
   "language": "python",
   "name": "python3"
  },
  "language_info": {
   "codemirror_mode": {
    "name": "ipython",
    "version": 3
   },
   "file_extension": ".py",
   "mimetype": "text/x-python",
   "name": "python",
   "nbconvert_exporter": "python",
   "pygments_lexer": "ipython3",
   "version": "3.9.13"
  },
  "orig_nbformat": 4,
  "vscode": {
   "interpreter": {
    "hash": "87963c44df63088d167d5530105c3e3af538607c5bfb8dea2d5d486a9477964e"
   }
  }
 },
 "nbformat": 4,
 "nbformat_minor": 2
}
