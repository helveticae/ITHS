{
 "cells": [
  {
   "cell_type": "markdown",
   "metadata": {},
   "source": [
    "# Lecture 17 Object Oriented Programming Theory\n",
    "ITHS/AI22 | 2022-10-05\n",
    "\n",
    "---\n",
    "\n",
    "\n"
   ]
  },
  {
   "cell_type": "code",
   "execution_count": null,
   "metadata": {},
   "outputs": [],
   "source": [
    "# Method on the fly\n",
    "def say_hi(self):\n",
    "    print(f\"{self} says hi\")"
   ]
  },
  {
   "cell_type": "markdown",
   "metadata": {},
   "source": [
    "## Namespace\n",
    "\n",
    "- Class attributes live in the class namespace\n",
    "- Namespace - Disctionary of symbols (keys): reference to objects (values)\n",
    "\n",
    "Python will look at local scope -> enclosing scope -> global scope -> built-in scope"
   ]
  },
  {
   "cell_type": "code",
   "execution_count": 2,
   "metadata": {},
   "outputs": [],
   "source": [
    "# global scope\n",
    "class Functions:\n",
    "    def f(x):\n",
    "        #local scope\n",
    "        return x\n"
   ]
  },
  {
   "cell_type": "code",
   "execution_count": 5,
   "metadata": {},
   "outputs": [
    {
     "name": "stdout",
     "output_type": "stream",
     "text": [
      "{'name': 'Bella'}\n",
      "{'__module__': '__main__', 'eyes': 2, 'nose': 1, 'has_tail': True, '__init__': <function Rabbit.__init__ at 0x10d4b0790>, '__dict__': <attribute '__dict__' of 'Rabbit' objects>, '__weakref__': <attribute '__weakref__' of 'Rabbit' objects>, '__doc__': None}\n"
     ]
    }
   ],
   "source": [
    "class Rabbit:\n",
    "    # class attributes - class namespace, not in instance namespace\n",
    "    eyes = 2\n",
    "    nose = 1\n",
    "    has_tail = True\n",
    "\n",
    "    def __init__(self,name) -> None:\n",
    "        # name existst in instance namespace, not the class namespace\n",
    "        self.name = name\n",
    "\n",
    "rabbit1 = Rabbit(\"Bella\")\n",
    "print(rabbit1.__dict__)\n",
    "\n",
    "\n",
    "rabbit1.name\n",
    "print(Rabbit.__dict__)"
   ]
  },
  {
   "cell_type": "code",
   "execution_count": 6,
   "metadata": {},
   "outputs": [
    {
     "data": {
      "text/plain": [
       "('Bella', 1)"
      ]
     },
     "execution_count": 6,
     "metadata": {},
     "output_type": "execute_result"
    }
   ],
   "source": [
    "rabbit1.name, rabbit1.nose"
   ]
  },
  {
   "cell_type": "code",
   "execution_count": 8,
   "metadata": {},
   "outputs": [
    {
     "data": {
      "text/plain": [
       "False"
      ]
     },
     "execution_count": 8,
     "metadata": {},
     "output_type": "execute_result"
    }
   ],
   "source": [
    "class Rabbit:\n",
    "    # class attributes - class namespace, not in instance namespace\n",
    "    eyes = 2\n",
    "    nose = 1\n",
    "    has_tail = True\n",
    "\n",
    "    def __init__(self,name) -> None:\n",
    "        # name existst in instance namespace, not the class namespace\n",
    "        self.name = name\n",
    "        self.has_tail = False\n",
    "\n",
    "rabbit1 = Rabbit(\"Skutt\")\n",
    "rabbit1.has_tail"
   ]
  },
  {
   "cell_type": "code",
   "execution_count": 9,
   "metadata": {},
   "outputs": [
    {
     "data": {
      "text/plain": [
       "4"
      ]
     },
     "execution_count": 9,
     "metadata": {},
     "output_type": "execute_result"
    }
   ],
   "source": [
    "import numpy as np\n",
    "\n",
    "# x is in global scope\n",
    "x = np.linspace(-5,5)\n",
    "\n",
    "# x is in local scope\n",
    "# f = lambda x: x**2\n",
    "def f(x):\n",
    "    # local x = 2\n",
    "    y = x + 2\n",
    "    return y\n",
    "\n",
    "f(2)"
   ]
  },
  {
   "cell_type": "markdown",
   "metadata": {},
   "source": [
    "## Property"
   ]
  },
  {
   "cell_type": "code",
   "execution_count": 14,
   "metadata": {},
   "outputs": [
    {
     "name": "stdout",
     "output_type": "stream",
     "text": [
      "globaletter run\n"
     ]
    },
    {
     "ename": "TypeError",
     "evalue": "get_side() takes 1 positional argument but 2 were given",
     "output_type": "error",
     "traceback": [
      "\u001b[0;31m---------------------------------------------------------------------------\u001b[0m",
      "\u001b[0;31mTypeError\u001b[0m                                 Traceback (most recent call last)",
      "Cell \u001b[0;32mIn [14], line 19\u001b[0m\n\u001b[1;32m     16\u001b[0m         \u001b[38;5;28mself\u001b[39m\u001b[38;5;241m.\u001b[39m_side \u001b[38;5;241m=\u001b[39m value\n\u001b[1;32m     18\u001b[0m unit_square\u001b[38;5;241m.\u001b[39mget_side() \u001b[38;5;66;03m# this returns _side\u001b[39;00m\n\u001b[0;32m---> 19\u001b[0m \u001b[43munit_square\u001b[49m\u001b[38;5;241;43m.\u001b[39;49m\u001b[43mget_side\u001b[49m\u001b[43m(\u001b[49m\u001b[38;5;241;43m2\u001b[39;49m\u001b[43m)\u001b[49m \u001b[38;5;66;03m# this sets _side to 2\u001b[39;00m\n\u001b[1;32m     20\u001b[0m unit_square\u001b[38;5;241m.\u001b[39mget_side() \u001b[38;5;66;03m# this returns _side\u001b[39;00m\n\u001b[1;32m     22\u001b[0m unit_square\u001b[38;5;241m.\u001b[39m\u001b[38;5;18m__dict__\u001b[39m\n",
      "\u001b[0;31mTypeError\u001b[0m: get_side() takes 1 positional argument but 2 were given"
     ]
    }
   ],
   "source": [
    "# without property function\n",
    "class Square:\n",
    "    def __init__(self, side) -> None:\n",
    "        self._side = side\n",
    "\n",
    "    # method\n",
    "    def get_side(self):\n",
    "        print(\"globaletter run\")\n",
    "        return self._side\n",
    "\n",
    "    # method\n",
    "    def set_side(self, value):\n",
    "        # validation code\n",
    "        print(\"setter run\")\n",
    "\n",
    "        self._side = value\n",
    "\n",
    "unit_square.get_side() # this returns _side\n",
    "unit_square.get_side(2) # this sets _side to 2\n",
    "unit_square.get_side() # this returns _side\n",
    "\n",
    "unit_square.__dict__\n",
    "    "
   ]
  },
  {
   "cell_type": "code",
   "execution_count": 13,
   "metadata": {},
   "outputs": [
    {
     "name": "stdout",
     "output_type": "stream",
     "text": [
      "setter run\n",
      "setter run\n",
      "getter run\n"
     ]
    },
    {
     "data": {
      "text/plain": [
       "4"
      ]
     },
     "execution_count": 13,
     "metadata": {},
     "output_type": "execute_result"
    }
   ],
   "source": [
    "#property function\n",
    "class Square:\n",
    "    def __init__(self, side) -> None:\n",
    "        self.side = side\n",
    "\n",
    "    def get_side(self):\n",
    "        print(\"getter run\")\n",
    "        return self._side\n",
    "\n",
    "    def set_side(self, value):\n",
    "        # validation code\n",
    "        print(\"setter run\")\n",
    "\n",
    "        self._side = value\n",
    "\n",
    "    side = property(fget= get_side, fset = set_side)\n",
    "\n",
    "square2 = Square(2)\n",
    "square2.side = 4\n",
    "square2.side"
   ]
  }
 ],
 "metadata": {
  "kernelspec": {
   "display_name": "Python 3.9.13 ('helvetica-vDNe7t5J')",
   "language": "python",
   "name": "python3"
  },
  "language_info": {
   "codemirror_mode": {
    "name": "ipython",
    "version": 3
   },
   "file_extension": ".py",
   "mimetype": "text/x-python",
   "name": "python",
   "nbconvert_exporter": "python",
   "pygments_lexer": "ipython3",
   "version": "3.9.13"
  },
  "orig_nbformat": 4,
  "vscode": {
   "interpreter": {
    "hash": "87963c44df63088d167d5530105c3e3af538607c5bfb8dea2d5d486a9477964e"
   }
  }
 },
 "nbformat": 4,
 "nbformat_minor": 2
}
