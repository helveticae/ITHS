{
 "cells": [
  {
   "cell_type": "markdown",
   "metadata": {},
   "source": [
    "# Lecture 15 Module handling\n",
    "ITHS/AI22 | 2022-10-04\n",
    "\n",
    "---\n",
    "![](../../Images/L15_namespace_sysmodule.png)"
   ]
  },
  {
   "cell_type": "markdown",
   "metadata": {},
   "source": [
    "### This lecture we use .py instead of .ipynb\n",
    "\n",
    "| Directories                    |\n",
    "| ------------------------------ |\n",
    "| [Namespace][ex1]\n",
    "| [if __ name __ = \"__ main __\"][ex2]\n",
    "| [Paths][ex3] \n",
    "\n",
    "[ex1]: https://github.com/helveticae/Python-William-Lindstedt/tree/main/Lecture_notes/Lec15-modules/example1_namespace\n",
    "[ex2]: https://github.com/helveticae/Python-William-Lindstedt/tree/main/Lecture_notes/Lec15-modules/example2__name__\n",
    "[ex3]: https://github.com/helveticae/Python-William-Lindstedt/tree/main/Lecture_notes/Lec15-modules/example3_paths"
   ]
  }
 ],
 "metadata": {
  "kernelspec": {
   "display_name": "Python 3.9.13 ('helvetica-vDNe7t5J')",
   "language": "python",
   "name": "python3"
  },
  "language_info": {
   "name": "python",
   "version": "3.9.13"
  },
  "orig_nbformat": 4,
  "vscode": {
   "interpreter": {
    "hash": "87963c44df63088d167d5530105c3e3af538607c5bfb8dea2d5d486a9477964e"
   }
  }
 },
 "nbformat": 4,
 "nbformat_minor": 2
}
