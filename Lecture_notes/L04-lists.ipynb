{
 "cells": [
  {
   "cell_type": "markdown",
   "metadata": {},
   "source": [
    "# Lecture 4 - Lists\n",
    "ITHS/AI22 | 2022-09-06\n",
    "\n",
    "---"
   ]
  },
  {
   "cell_type": "markdown",
   "metadata": {},
   "source": [
    "### Acess elements"
   ]
  },
  {
   "cell_type": "code",
   "execution_count": 8,
   "metadata": {},
   "outputs": [
    {
     "name": "stdout",
     "output_type": "stream",
     "text": [
      "li[0]='e'\n",
      "li[-1]='d'\n"
     ]
    }
   ],
   "source": [
    "li = [\"e\", \"a\", \"b\", \"c\", \"d\"]\n",
    "print (f\"{li[0]=}\")\n",
    "print (f\"{li[-1]=}\")"
   ]
  },
  {
   "cell_type": "markdown",
   "metadata": {},
   "source": [
    "### Slicing"
   ]
  },
  {
   "cell_type": "code",
   "execution_count": 4,
   "metadata": {},
   "outputs": [
    {
     "name": "stdout",
     "output_type": "stream",
     "text": [
      "['a', 'b', 'c', 'd', 'e']\n",
      "li[::-1]=['e', 'd', 'c', 'b', 'a']\n"
     ]
    }
   ],
   "source": [
    "# Slicing finns i Python, Matlab och vissa andra spårk\n",
    "# Komma åt vissa element genom att slica\n",
    "\n",
    "print(li)\n",
    "li[1:4]\n",
    "\n",
    "print(f\"{li[::-1]=}\") # reverses the list"
   ]
  },
  {
   "cell_type": "code",
   "execution_count": 9,
   "metadata": {},
   "outputs": [
    {
     "name": "stdout",
     "output_type": "stream",
     "text": [
      "['a', 'b', 'c', 'd', 'e']\n",
      "[-5, 1, 2, 5]\n"
     ]
    }
   ],
   "source": [
    "# sotring by first letter\n",
    "li.sort()\n",
    "print(li)\n",
    "\n",
    "\n",
    "numbers = [2,1,5,-5]\n",
    "# sorting ascending\n",
    "numbers.sort()\n",
    "print(numbers)"
   ]
  },
  {
   "cell_type": "markdown",
   "metadata": {},
   "source": [
    "## for-loop with enumerate"
   ]
  },
  {
   "cell_type": "code",
   "execution_count": 16,
   "metadata": {},
   "outputs": [
    {
     "name": "stdout",
     "output_type": "stream",
     "text": [
      "1. a\n",
      "2. b\n",
      "3. c\n",
      "4. d\n",
      "5. e\n"
     ]
    }
   ],
   "source": [
    "# enumerate -> tuple: (index, element) in list\n",
    "for i, element in enumerate(li,1): #<- (li,1) <- 1 är nummer att börja på\n",
    "    print(f\"{i}. {element}\")\n",
    "\n",
    "\"\"\" samma sak som:\n",
    "\n",
    "for i in range(len(li)):\n",
    "    print(f\"{i}.{li[i]}\")\n",
    "\n",
    "\"\"\"; #; för att inte printa sista\n",
    "\n"
   ]
  },
  {
   "cell_type": "markdown",
   "metadata": {},
   "source": [
    "### List comprehension"
   ]
  },
  {
   "cell_type": "code",
   "execution_count": 1,
   "metadata": {},
   "outputs": [
    {
     "data": {
      "text/plain": [
       "[0, 1]"
      ]
     },
     "execution_count": 1,
     "metadata": {},
     "output_type": "execute_result"
    }
   ],
   "source": [
    "# normal way, using append\n",
    "cubes = []\n",
    "\n",
    "for i in range(10):\n",
    "    cubes.append(i**3)\n",
    "\n",
    "cubes"
   ]
  },
  {
   "cell_type": "code",
   "execution_count": 5,
   "metadata": {},
   "outputs": [
    {
     "data": {
      "text/plain": [
       "[0, 1, 8, 27, 64, 125, 216, 343, 512, 729]"
      ]
     },
     "execution_count": 5,
     "metadata": {},
     "output_type": "execute_result"
    }
   ],
   "source": [
    "# list comprehension\n",
    "cubes = [i**3 for i in range(10)]\n",
    "cubes"
   ]
  },
  {
   "cell_type": "code",
   "execution_count": 4,
   "metadata": {},
   "outputs": [
    {
     "data": {
      "text/plain": [
       "[1, 27, 125, 343, 729, 1331, 2197, 3375, 4913, 6859]"
      ]
     },
     "execution_count": 4,
     "metadata": {},
     "output_type": "execute_result"
    }
   ],
   "source": [
    "# cubes every odd number\n",
    "cubes_odd = [i**3 for i in range(20) if i%2!=0]\n",
    "cubes_odd"
   ]
  },
  {
   "cell_type": "code",
   "execution_count": 3,
   "metadata": {},
   "outputs": [
    {
     "data": {
      "text/plain": [
       "[6, 3, 4, 4, 3, 2, 4, 5, 3, 4]"
      ]
     },
     "execution_count": 3,
     "metadata": {},
     "output_type": "execute_result"
    }
   ],
   "source": [
    "# dice list\n",
    "import random\n",
    "\n",
    "dices = [random.randint(1,6) for _ in range (10)] # understreck _ skrivs när loop-variabel ej används \n",
    "dices"
   ]
  },
  {
   "cell_type": "markdown",
   "metadata": {},
   "source": [
    "### lists in list in list"
   ]
  },
  {
   "cell_type": "code",
   "execution_count": 28,
   "metadata": {},
   "outputs": [
    {
     "data": {
      "text/plain": [
       "19"
      ]
     },
     "execution_count": 28,
     "metadata": {},
     "output_type": "execute_result"
    }
   ],
   "source": [
    "grades = [[\"A\", 25], [\"B\", [20,19]], [\"F\", 5]]\n",
    "\n",
    "grades[1][1][1]\n"
   ]
  },
  {
   "cell_type": "markdown",
   "metadata": {},
   "source": []
  }
 ],
 "metadata": {
  "kernelspec": {
   "display_name": "Python 3.9.13 64-bit",
   "language": "python",
   "name": "python3"
  },
  "language_info": {
   "codemirror_mode": {
    "name": "ipython",
    "version": 3
   },
   "file_extension": ".py",
   "mimetype": "text/x-python",
   "name": "python",
   "nbconvert_exporter": "python",
   "pygments_lexer": "ipython3",
   "version": "3.9.13"
  },
  "orig_nbformat": 4,
  "vscode": {
   "interpreter": {
    "hash": "aee8b7b246df8f9039afb4144a1f6fd8d2ca17a180786b69acc140d282b71a49"
   }
  }
 },
 "nbformat": 4,
 "nbformat_minor": 2
}
