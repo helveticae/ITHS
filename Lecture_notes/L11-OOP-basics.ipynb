{
 "cells": [
  {
   "cell_type": "markdown",
   "metadata": {},
   "source": [
    "# Lecture 11 - OOP\n",
    "ITHS/AI22 | 2022-09-26\n",
    "\n",
    "---"
   ]
  },
  {
   "cell_type": "markdown",
   "metadata": {},
   "source": [
    "![](../Images/L11_OOP_rabbits.png)"
   ]
  },
  {
   "cell_type": "code",
   "execution_count": 4,
   "metadata": {},
   "outputs": [
    {
     "data": {
      "text/plain": [
       "<__main__.Rabbit at 0x10c4ec970>"
      ]
     },
     "execution_count": 4,
     "metadata": {},
     "output_type": "execute_result"
    }
   ],
   "source": [
    "# created class called Rabbit\n",
    "class Rabbit:\n",
    "    pass\n",
    "\n",
    "# instanciates an instance from class person using callable syntax\n",
    "rabbit1 = Rabbit()\n",
    "rabbit1\n"
   ]
  },
  {
   "cell_type": "code",
   "execution_count": 5,
   "metadata": {},
   "outputs": [
    {
     "data": {
      "text/plain": [
       "'Ada'"
      ]
     },
     "execution_count": 5,
     "metadata": {},
     "output_type": "execute_result"
    }
   ],
   "source": [
    "# creates an instance attribute during runtime\n",
    "rabbit1.name = \"Ada\"\n",
    "rabbit1.name"
   ]
  },
  {
   "cell_type": "code",
   "execution_count": null,
   "metadata": {},
   "outputs": [],
   "source": [
    "rabbit2 = Rabbit()\n",
    "rabbit2"
   ]
  },
  {
   "cell_type": "markdown",
   "metadata": {},
   "source": [
    "## __ init __()\n",
    "\n",
    "- Dunder init method (special method)\n",
    "- Initializer method that runs after the object has been cretated\n",
    "- Used for setting initial values of attributes to an instance object\n",
    "\n",
    "Dunder - två understreck före och efter. Dundermetod eller special method."
   ]
  },
  {
   "cell_type": "markdown",
   "metadata": {},
   "source": []
  },
  {
   "cell_type": "code",
   "execution_count": 18,
   "metadata": {},
   "outputs": [
    {
     "name": "stdout",
     "output_type": "stream",
     "text": [
      "rabbit1.name='Akilles'\n",
      "rabbit2.name='Shuno'\n"
     ]
    },
    {
     "data": {
      "text/plain": [
       "Antagning('Bogwarts', 'Data Science', 'Shuno, 'False')"
      ]
     },
     "execution_count": 18,
     "metadata": {},
     "output_type": "execute_result"
    }
   ],
   "source": [
    "class Antagning:\n",
    "    # initializer \n",
    "    # for methods its convention to have first argument as self - use self, nothing else for methods\n",
    "    def __init__(self, school, program, name, accept):\n",
    "        # assign argument to instance attributes\n",
    "        self.school = school\n",
    "        self.name = name\n",
    "        self.program = program\n",
    "        self.accept = accept\n",
    "\n",
    "    #dunder repr, representator for the instance object -> used for other developers\n",
    "    def __repr__(self):\n",
    "        return f\"Antagning('{self.school}', '{self.program}', '{self.name}, '{self.accept}')\"\n",
    "\n",
    "\n",
    "\n",
    "\n",
    "# when a method is called -> the instance itself is injected to the method as the first argument\n",
    "\n",
    "# here we instantiate from the class Antagning\n",
    "rabbit1 = Antagning(\"Hogwarts\", \"Dark Magic\", \"Akilles\", accept = True)\n",
    "rabbit2 = Antagning(\"Carrot School\", \"Agricultural Program\", \"Rabby Rabi\", accept=False)\n",
    "\n",
    "\n",
    "# access instance attributes using dot notation\n",
    "print(f\"{rabbit1.name=}\")\n",
    "print(f\"{rabbit2.name=}\")\n",
    "\n",
    "# using dot notation to change attributes\n",
    "rabbit2.program =\"Data Science\"\n",
    "\n",
    "rabbit2.program\n",
    "\n",
    "rabbit1\n",
    "rabbit2"
   ]
  },
  {
   "cell_type": "code",
   "execution_count": 20,
   "metadata": {},
   "outputs": [
    {
     "data": {
      "text/plain": [
       "[1, 2, 3]"
      ]
     },
     "execution_count": 20,
     "metadata": {},
     "output_type": "execute_result"
    }
   ],
   "source": [
    "# example of built in  __repr__ of list\n",
    "example_list = [1,2,3]\n",
    "example_list"
   ]
  },
  {
   "cell_type": "markdown",
   "metadata": {},
   "source": [
    "## Encapsulation\n",
    "\n",
    "- hide information that is used within the class but shouldn't be accessed from outside the class\n",
    "- we want to create some kind of interface between attributes within the class and outside to prevent misuse\n",
    "- in many OOP languages we can make attributes privare, this is not possible in Python \n",
    "- all attributes in Python are public\n",
    "- in Python: private by convention, use underscore before the attribute, e.g. **_name**\n",
    "- also possible to use double underscore __name (symbol mangling)\n",
    "\n",
    "Inuti klassen ok att använda privat."
   ]
  },
  {
   "cell_type": "code",
   "execution_count": 24,
   "metadata": {},
   "outputs": [
    {
     "name": "stdout",
     "output_type": "stream",
     "text": [
      "Patient(name='Delta', diagnosis='Covid-19')\n",
      "Patient(name='Lambda', diagnosis='Covid-91')\n",
      "Patient(name='Omega', diagnosis='Covid-19')\n",
      "Patient(name='Omega', diagnosis='Covid-19')\n",
      "{'_name': 'Omega', '_Patient__diagnosis': 'Covid-19', '__diagnosis': 'Being thicc af'}\n"
     ]
    }
   ],
   "source": [
    "class Patient:\n",
    "    def __init__(self,name,diagnosis):\n",
    "        self._name = name\n",
    "        self.__diagnosis = diagnosis\n",
    "\n",
    "    def __repr__(self):\n",
    "        return f\"Patient(name='{self._name}', diagnosis='{self.__diagnosis}')\"\n",
    "\n",
    "patient1 = Patient(\"Delta\", \"Covid-19\")\n",
    "patient2 = Patient(\"Lambda\", \"Covid-91\")\n",
    "\n",
    "print(patient1)\n",
    "print(patient2)\n",
    "\n",
    "# can access private atributes but reall shouldn't\n",
    "patient1._name = \"Omega\"\n",
    "print(patient1)\n",
    "\n",
    "patient1.__diagnosis = \"Being thicc af\"\n",
    "\n",
    "print(patient1) # appears to not have changed because of name mangling \n",
    "\n",
    "print(patient1.__dict__) # shows that diagnois has been changed, original shows as _Patient_diagnosis."
   ]
  },
  {
   "cell_type": "markdown",
   "metadata": {},
   "source": [
    "Creating a stash of old gold and silver coins."
   ]
  },
  {
   "cell_type": "code",
   "execution_count": 34,
   "metadata": {},
   "outputs": [
    {
     "name": "stdout",
     "output_type": "stream",
     "text": [
      "OldCoinsStash(owner='Gallywix')\n",
      "In stash: Gold: 0, Silver: 0.\n",
      "In stash: Gold: 200, Silver: 90.\n",
      "Cannot withdraw more than in stash.\n"
     ]
    }
   ],
   "source": [
    "# another class\n",
    "class OldCoinsStash:\n",
    "    def __init__(self,owner):\n",
    "        self.owner = owner\n",
    "\n",
    "        # (pseduo)private attributes\n",
    "        self._gold = 0\n",
    "        self._silver = 0\n",
    "\n",
    "    def deposit(self, gold, silver):\n",
    "        #simpel validering\n",
    "        if gold < 0 or silver < 0:\n",
    "            raise ValueError(\"Cannot deposit negative value.\")\n",
    "\n",
    "        self._gold += gold\n",
    "        self._silver += silver\n",
    "\n",
    "    def withdraw(self, gold, silver):\n",
    "        if gold > self._gold or silver > self._silver:\n",
    "            raise ValueError(\"Cannot withdraw more than in stash.\")\n",
    "\n",
    "    # check for negative values\n",
    "\n",
    "        self._gold -= gold\n",
    "        self._silver -= silver\n",
    "\n",
    "    def balance(self):\n",
    "        return f\"In stash: Gold: {self._gold}, Silver: {self._silver}.\"\n",
    "\n",
    "    def __repr__(self):\n",
    "        return f\"OldCoinsStash(owner='{self.owner}')\"\n",
    "\n",
    "stash = OldCoinsStash(\"Gallywix\")\n",
    "print(stash)\n",
    "print(stash.balance())\n",
    "\n",
    "stash.deposit(200, 90)\n",
    "\n",
    "print(stash.balance())\n",
    "\n",
    "try:\n",
    "    #can't deposit negative value\n",
    "    stash.withdraw(2000,100)\n",
    "\n",
    "except ValueError as err:\n",
    "    print(err)\n"
   ]
  },
  {
   "cell_type": "markdown",
   "metadata": {},
   "source": [
    "## Property\n",
    "\n",
    "- want to expose few to none bare attributes\n",
    "- when we want to change attributes, we can use **getter** and **setter**\n",
    "\n",
    "In Python, getter and setters are property. With property we can include error handling\n",
    "\n",
    "With property:\n",
    "- Can include error handling.\n",
    "- Computed properties\n",
    "- Can make read only and write only properties\n",
    "\n",
    "Kommer inte åt attributen direkt, ska man ändra på attributen behöver vi köra kod."
   ]
  },
  {
   "cell_type": "code",
   "execution_count": null,
   "metadata": {},
   "outputs": [],
   "source": [
    "class Student:\n",
    "    \"\"\"Student class for representing students with name, age, activity.\"\"\"  # <- Docstring\n",
    "\n",
    "    def __init__(self, name = str, age = int, active=bool) -> None: # NOT hard typed since language is dynamic. \n",
    "        self.name = name\n",
    "        self.age = age\n",
    "        self._active = active\n",
    "\n",
    "    # read only property @-symbol makes it into decorator\n",
    "    @property\n",
    "    def name(self) -> str:\n",
    "        \"\"\"Read-only property, we can't write to name.\"\"\"\n",
    "        return self._name\n",
    "\n",
    "    # getter\n",
    "    @property\n",
    "    def age(self) -> int:\n",
    "        return self._age\n",
    "\n",
    "    # setter\n",
    "    @age.setter\n",
    "    def age(self, value: int):\n",
    "        \"\"\"Setter for age with error handling\"\"\"\n",
    "\n",
    "        if not isinstance(value, int):\n",
    "            raise TypeError(f\"Age must be int, not {type(value)}\")\n",
    "\n",
    "        if not (0 <= value <= 125):\n",
    "            raise ValueError(\"Age must be between 0 and 125.\")\n",
    "\n",
    "        self._age = value\n",
    "\n",
    "\n",
    "student1 = Student(\"Frida\", 30, True)"
   ]
  },
  {
   "cell_type": "code",
   "execution_count": 50,
   "metadata": {},
   "outputs": [
    {
     "ename": "AttributeError",
     "evalue": "can't set attribute",
     "output_type": "error",
     "traceback": [
      "\u001b[0;31m---------------------------------------------------------------------------\u001b[0m",
      "\u001b[0;31mAttributeError\u001b[0m                            Traceback (most recent call last)",
      "Cell \u001b[0;32mIn [50], line 1\u001b[0m\n\u001b[0;32m----> 1\u001b[0m \u001b[43mStudent\u001b[49m\u001b[43m(\u001b[49m\u001b[38;5;124;43m\"\u001b[39;49m\u001b[38;5;124;43mMeda\u001b[39;49m\u001b[38;5;124;43m\"\u001b[39;49m\u001b[43m,\u001b[49m\u001b[43m \u001b[49m\u001b[38;5;241;43m-\u001b[39;49m\u001b[38;5;241;43m5\u001b[39;49m\u001b[43m,\u001b[49m\u001b[43m \u001b[49m\u001b[38;5;28;43;01mFalse\u001b[39;49;00m\u001b[43m)\u001b[49m\n",
      "Cell \u001b[0;32mIn [47], line 5\u001b[0m, in \u001b[0;36mStudent.__init__\u001b[0;34m(self, name, age, active)\u001b[0m\n\u001b[1;32m      4\u001b[0m \u001b[38;5;28;01mdef\u001b[39;00m \u001b[38;5;21m__init__\u001b[39m(\u001b[38;5;28mself\u001b[39m, name \u001b[38;5;241m=\u001b[39m \u001b[38;5;28mstr\u001b[39m, age \u001b[38;5;241m=\u001b[39m \u001b[38;5;28mint\u001b[39m, active\u001b[38;5;241m=\u001b[39m\u001b[38;5;28mbool\u001b[39m) \u001b[38;5;241m-\u001b[39m\u001b[38;5;241m>\u001b[39m \u001b[38;5;28;01mNone\u001b[39;00m: \u001b[38;5;66;03m# NOT hard typed since language is dynamic. \u001b[39;00m\n\u001b[0;32m----> 5\u001b[0m     \u001b[38;5;28;43mself\u001b[39;49m\u001b[38;5;241;43m.\u001b[39;49m\u001b[43mname\u001b[49m \u001b[38;5;241m=\u001b[39m name\n\u001b[1;32m      6\u001b[0m     \u001b[38;5;28mself\u001b[39m\u001b[38;5;241m.\u001b[39mage \u001b[38;5;241m=\u001b[39m age\n\u001b[1;32m      7\u001b[0m     \u001b[38;5;28mself\u001b[39m\u001b[38;5;241m.\u001b[39m_active \u001b[38;5;241m=\u001b[39m active\n",
      "\u001b[0;31mAttributeError\u001b[0m: can't set attribute"
     ]
    }
   ],
   "source": [
    "Student(\"Meda\", -5, False)"
   ]
  },
  {
   "cell_type": "code",
   "execution_count": 49,
   "metadata": {},
   "outputs": [
    {
     "ename": "AttributeError",
     "evalue": "can't set attribute",
     "output_type": "error",
     "traceback": [
      "\u001b[0;31m---------------------------------------------------------------------------\u001b[0m",
      "\u001b[0;31mAttributeError\u001b[0m                            Traceback (most recent call last)",
      "Cell \u001b[0;32mIn [49], line 1\u001b[0m\n\u001b[0;32m----> 1\u001b[0m student2 \u001b[38;5;241m=\u001b[39m \u001b[43mStudent\u001b[49m\u001b[43m(\u001b[49m\u001b[38;5;124;43m\"\u001b[39;49m\u001b[38;5;124;43mHedda\u001b[39;49m\u001b[38;5;124;43m\"\u001b[39;49m\u001b[43m,\u001b[49m\u001b[43m \u001b[49m\u001b[38;5;241;43m5\u001b[39;49m\u001b[43m,\u001b[49m\u001b[43m \u001b[49m\u001b[38;5;28;43;01mTrue\u001b[39;49;00m\u001b[43m)\u001b[49m\n\u001b[1;32m      2\u001b[0m student2\u001b[38;5;241m.\u001b[39mage \u001b[38;5;241m=\u001b[39m \u001b[38;5;241m50\u001b[39m\n\u001b[1;32m      4\u001b[0m \u001b[38;5;28mprint\u001b[39m(student2\u001b[38;5;241m.\u001b[39mage)\n",
      "Cell \u001b[0;32mIn [47], line 5\u001b[0m, in \u001b[0;36mStudent.__init__\u001b[0;34m(self, name, age, active)\u001b[0m\n\u001b[1;32m      4\u001b[0m \u001b[38;5;28;01mdef\u001b[39;00m \u001b[38;5;21m__init__\u001b[39m(\u001b[38;5;28mself\u001b[39m, name \u001b[38;5;241m=\u001b[39m \u001b[38;5;28mstr\u001b[39m, age \u001b[38;5;241m=\u001b[39m \u001b[38;5;28mint\u001b[39m, active\u001b[38;5;241m=\u001b[39m\u001b[38;5;28mbool\u001b[39m) \u001b[38;5;241m-\u001b[39m\u001b[38;5;241m>\u001b[39m \u001b[38;5;28;01mNone\u001b[39;00m: \u001b[38;5;66;03m# NOT hard typed since language is dynamic. \u001b[39;00m\n\u001b[0;32m----> 5\u001b[0m     \u001b[38;5;28;43mself\u001b[39;49m\u001b[38;5;241;43m.\u001b[39;49m\u001b[43mname\u001b[49m \u001b[38;5;241m=\u001b[39m name\n\u001b[1;32m      6\u001b[0m     \u001b[38;5;28mself\u001b[39m\u001b[38;5;241m.\u001b[39mage \u001b[38;5;241m=\u001b[39m age\n\u001b[1;32m      7\u001b[0m     \u001b[38;5;28mself\u001b[39m\u001b[38;5;241m.\u001b[39m_active \u001b[38;5;241m=\u001b[39m active\n",
      "\u001b[0;31mAttributeError\u001b[0m: can't set attribute"
     ]
    }
   ],
   "source": [
    "student2 = Student(\"Hedda\", 5, True)\n",
    "student2.age = 50\n",
    "\n",
    "print(student2.age)\n",
    "\n",
    "student2.age = -50\n",
    "\n",
    "print(student2.age)"
   ]
  },
  {
   "cell_type": "code",
   "execution_count": 51,
   "metadata": {},
   "outputs": [
    {
     "name": "stdout",
     "output_type": "stream",
     "text": [
      "Help on class Student in module __main__:\n",
      "\n",
      "class Student(builtins.object)\n",
      " |  Student(name=<class 'str'>, age=<class 'int'>, active=<class 'bool'>) -> None\n",
      " |  \n",
      " |  Student class for representing students with name, age, activity.\n",
      " |  \n",
      " |  Methods defined here:\n",
      " |  \n",
      " |  __init__(self, name=<class 'str'>, age=<class 'int'>, active=<class 'bool'>) -> None\n",
      " |      Initialize self.  See help(type(self)) for accurate signature.\n",
      " |  \n",
      " |  ----------------------------------------------------------------------\n",
      " |  Readonly properties defined here:\n",
      " |  \n",
      " |  name\n",
      " |      Read-only property, we can't write to name.\n",
      " |  \n",
      " |  ----------------------------------------------------------------------\n",
      " |  Data descriptors defined here:\n",
      " |  \n",
      " |  __dict__\n",
      " |      dictionary for instance variables (if defined)\n",
      " |  \n",
      " |  __weakref__\n",
      " |      list of weak references to the object (if defined)\n",
      " |  \n",
      " |  age\n",
      "\n"
     ]
    }
   ],
   "source": [
    "help(Student)"
   ]
  }
 ],
 "metadata": {
  "kernelspec": {
   "display_name": "Python 3.9.13 ('helvetica-vDNe7t5J')",
   "language": "python",
   "name": "python3"
  },
  "language_info": {
   "codemirror_mode": {
    "name": "ipython",
    "version": 3
   },
   "file_extension": ".py",
   "mimetype": "text/x-python",
   "name": "python",
   "nbconvert_exporter": "python",
   "pygments_lexer": "ipython3",
   "version": "3.9.13"
  },
  "orig_nbformat": 4,
  "vscode": {
   "interpreter": {
    "hash": "87963c44df63088d167d5530105c3e3af538607c5bfb8dea2d5d486a9477964e"
   }
  }
 },
 "nbformat": 4,
 "nbformat_minor": 2
}
