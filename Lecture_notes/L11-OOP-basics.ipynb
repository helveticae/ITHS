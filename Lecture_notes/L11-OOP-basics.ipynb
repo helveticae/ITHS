{
 "cells": [
  {
   "cell_type": "markdown",
   "metadata": {},
   "source": [
    "# Lecture 11 - OOP\n",
    "ITHS/AI22 | 2022-09-26\n",
    "\n",
    "---"
   ]
  },
  {
   "cell_type": "markdown",
   "metadata": {},
   "source": [
    "![](../Images/L11_OOP_rabbits2.png)"
   ]
  },
  {
   "cell_type": "code",
   "execution_count": 4,
   "metadata": {},
   "outputs": [
    {
     "data": {
      "text/plain": [
       "<__main__.Rabbit at 0x10c4ec970>"
      ]
     },
     "execution_count": 4,
     "metadata": {},
     "output_type": "execute_result"
    }
   ],
   "source": [
    "# created class called Rabbit\n",
    "class Rabbit:\n",
    "    pass\n",
    "\n",
    "# instanciates an instance from class person using callable syntax\n",
    "rabbit1 = Rabbit()\n",
    "rabbit1\n"
   ]
  },
  {
   "cell_type": "code",
   "execution_count": 5,
   "metadata": {},
   "outputs": [
    {
     "data": {
      "text/plain": [
       "'Ada'"
      ]
     },
     "execution_count": 5,
     "metadata": {},
     "output_type": "execute_result"
    }
   ],
   "source": [
    "# creates an instance attribute during runtime\n",
    "rabbit1.name = \"Ada\"\n",
    "rabbit1.name"
   ]
  },
  {
   "cell_type": "code",
   "execution_count": null,
   "metadata": {},
   "outputs": [],
   "source": [
    "rabbit2 = Rabbit()\n",
    "rabbit2"
   ]
  },
  {
   "cell_type": "markdown",
   "metadata": {},
   "source": [
    "## __ init __()\n",
    "\n",
    "- Dunder init method (special method)\n",
    "- Initializer method that runs after the object has been cretated\n",
    "- Used for setting initial values of attributes to an instance object\n",
    "\n",
    "Dunder - två understreck före och efter. Dundermetod eller special method."
   ]
  },
  {
   "cell_type": "markdown",
   "metadata": {},
   "source": []
  },
  {
   "cell_type": "code",
   "execution_count": 18,
   "metadata": {},
   "outputs": [
    {
     "name": "stdout",
     "output_type": "stream",
     "text": [
      "rabbit1.name='Akilles'\n",
      "rabbit2.name='Shuno'\n"
     ]
    },
    {
     "data": {
      "text/plain": [
       "Antagning('Bogwarts', 'Data Science', 'Shuno, 'False')"
      ]
     },
     "execution_count": 18,
     "metadata": {},
     "output_type": "execute_result"
    }
   ],
   "source": [
    "class Antagning:\n",
    "    # initializer \n",
    "    # for methods its convention to have first argument as self - use self, nothing else for methods\n",
    "    def __init__(self, school, program, name, accept):\n",
    "        # assign argument to instance attributes\n",
    "        self.school = school\n",
    "        self.name = name\n",
    "        self.program = program\n",
    "        self.accept = accept\n",
    "\n",
    "    #dunder repr, representator for the instance object -> used for other developers\n",
    "    def __repr__(self):\n",
    "        return f\"Antagning('{self.school}', '{self.program}', '{self.name}, '{self.accept}')\"\n",
    "\n",
    "\n",
    "\n",
    "\n",
    "# when a method is called -> the instance itself is injected to the method as the first argument\n",
    "\n",
    "# here we instantiate from the class Antagning\n",
    "rabbit1 = Antagning(\"Hogwarts\", \"Dark Magic\", \"Akilles\", accept = True)\n",
    "rabbit2 = Antagning(\"Carrot School\", \"Agricultural Program\", \"Rabby Rabi\", accept=False)\n",
    "\n",
    "\n",
    "# access instance attributes using dot notation\n",
    "print(f\"{rabbit1.name=}\")\n",
    "print(f\"{rabbit2.name=}\")\n",
    "\n",
    "# using dot notation to change attributes\n",
    "rabbit2.program =\"Data Science\"\n",
    "\n",
    "rabbit2.program\n",
    "\n",
    "rabbit1\n",
    "rabbit2"
   ]
  },
  {
   "cell_type": "code",
   "execution_count": 20,
   "metadata": {},
   "outputs": [
    {
     "data": {
      "text/plain": [
       "[1, 2, 3]"
      ]
     },
     "execution_count": 20,
     "metadata": {},
     "output_type": "execute_result"
    }
   ],
   "source": [
    "# example of built in  __repr__ of list\n",
    "example_list = [1,2,3]\n",
    "example_list"
   ]
  },
  {
   "cell_type": "markdown",
   "metadata": {},
   "source": [
    "## Encapsulation\n",
    "\n",
    "- hide information that is used within the class but shouldn't be accessed from outside the class\n",
    "- we want to create some kind of interface between attributes within the class and outside to prevent misuse\n",
    "- in many OOP languages we can make attributes privare, this is not possible in Python \n",
    "- all attributes in Python are public\n",
    "- in Python: private by convention, use underscore before the attribute, e.g. **_name**\n",
    "- also possible to use double underscore __name (symbol mangling)\n",
    "\n",
    "Inuti klassen ok att använda privat."
   ]
  },
  {
   "cell_type": "code",
   "execution_count": 24,
   "metadata": {},
   "outputs": [
    {
     "name": "stdout",
     "output_type": "stream",
     "text": [
      "Patient(name='Delta', diagnosis='Covid-19')\n",
      "Patient(name='Lambda', diagnosis='Covid-91')\n",
      "Patient(name='Omega', diagnosis='Covid-19')\n",
      "Patient(name='Omega', diagnosis='Covid-19')\n",
      "{'_name': 'Omega', '_Patient__diagnosis': 'Covid-19', '__diagnosis': 'Being thicc af'}\n"
     ]
    }
   ],
   "source": [
    "class Patient:\n",
    "    def __init__(self,name,diagnosis):\n",
    "        self._name = name\n",
    "        self.__diagnosis = diagnosis\n",
    "\n",
    "    def __repr__(self):\n",
    "        return f\"Patient(name='{self._name}', diagnosis='{self.__diagnosis}')\"\n",
    "\n",
    "patient1 = Patient(\"Delta\", \"Covid-19\")\n",
    "patient2 = Patient(\"Lambda\", \"Covid-91\")\n",
    "\n",
    "print(patient1)\n",
    "print(patient2)\n",
    "\n",
    "# can access private atributes but reall shouldn't\n",
    "patient1._name = \"Omega\"\n",
    "print(patient1)\n",
    "\n",
    "patient1.__diagnosis = \"Being thicc af\"\n",
    "\n",
    "print(patient1) # appears to not have changed because of name mangling \n",
    "\n",
    "print(patient1.__dict__) # shows that diagnois has been changed, original shows as _Patient_diagnosis."
   ]
  },
  {
   "cell_type": "code",
   "execution_count": 29,
   "metadata": {},
   "outputs": [
    {
     "name": "stdout",
     "output_type": "stream",
     "text": [
      "OldCoinsStash(owner='Gallywix')\n",
      "In stash: self._gold=0, self._silver=0.\n",
      "In stash: self._gold=200, self._silver=90.\n"
     ]
    }
   ],
   "source": [
    "# another class\n",
    "class OldCoinsStash:\n",
    "    def __init__(self,owner):\n",
    "        self.owner = owner\n",
    "\n",
    "        # (pseduo)private attributes\n",
    "        self._gold = 0\n",
    "        self._silver = 0\n",
    "\n",
    "    def deposit(self, gold, silver):\n",
    "        #simpel validering\n",
    "        if gold < 0 or silver < 0:\n",
    "            raise ValueError(\"Cannot deposit negative value.\")\n",
    "\n",
    "        self._gold += gold\n",
    "        self._silver += silver\n",
    "\n",
    "    def balance(self):\n",
    "        return f\"In stash: {self._gold=}, {self._silver=}.\"\n",
    "\n",
    "    def __repr__(self):\n",
    "        return f\"OldCoinsStash(owner='{self.owner}')\"\n",
    "\n",
    "stash = OldCoinsStash(\"Gallywix\")\n",
    "print(stash)\n",
    "print(stash.balance())\n",
    "\n",
    "stash.deposit(-200, 90)\n",
    "\n",
    "print(stash.balance())"
   ]
  }
 ],
 "metadata": {
  "kernelspec": {
   "display_name": "Python 3.9.13 ('helvetica-vDNe7t5J')",
   "language": "python",
   "name": "python3"
  },
  "language_info": {
   "codemirror_mode": {
    "name": "ipython",
    "version": 3
   },
   "file_extension": ".py",
   "mimetype": "text/x-python",
   "name": "python",
   "nbconvert_exporter": "python",
   "pygments_lexer": "ipython3",
   "version": "3.9.13"
  },
  "orig_nbformat": 4,
  "vscode": {
   "interpreter": {
    "hash": "87963c44df63088d167d5530105c3e3af538607c5bfb8dea2d5d486a9477964e"
   }
  }
 },
 "nbformat": 4,
 "nbformat_minor": 2
}
