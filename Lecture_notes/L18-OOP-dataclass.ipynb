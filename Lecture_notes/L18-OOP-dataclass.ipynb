{
 "cells": [
  {
   "cell_type": "markdown",
   "metadata": {},
   "source": [
    "# Lecture 18 @dataclass\n",
    "ITHS/AI22 | 2022-10-05\n",
    "\n",
    "---\n",
    "\n",
    "- Gives us boilerplate code for free\n",
    "- Usually used for classes that stores a lot of data\n",
    "- In method heavy classes, dataclass might not help much\n",
    "\n",
    "gives *free*:\n",
    "- `__init__()`\n",
    "- `__repr__()`\n",
    "- `__eq__()`\n",
    "- and more"
   ]
  },
  {
   "cell_type": "code",
   "execution_count": 4,
   "metadata": {},
   "outputs": [
    {
     "name": "stdout",
     "output_type": "stream",
     "text": [
      "value setter\n",
      "value must be int or float not property\n",
      "value setter\n",
      "value getter\n",
      "Prefix(value=42, unit='unit', prefix_symbol='None')\n"
     ]
    }
   ],
   "source": [
    "from __future__ import annotations\n",
    "from dataclasses import dataclass\n",
    "from sys import prefix\n",
    "\n",
    "@dataclass\n",
    "class Prefix:\n",
    "    # fields will go into the automatically generated __init__(), __repr__()\n",
    "    # fields - variable: type annotation\n",
    "    value: int | float # positional argument\n",
    "    unit: str = \"unit\" # keyword argument\n",
    "    prefix_symbol: str = \"None\"\n",
    "\n",
    "    symbols = \"T G M k h d c m µ n p\".split()\n",
    "    names = \"tera giga mega kilo hekto deci centi milli mikro nano piko\".split()\n",
    "    \n",
    "    # generator expression\n",
    "    values = (10**i for i in (12,9,6,3,2,-1,-2,-3,-6,-9,-12))\n",
    "\n",
    "    @property\n",
    "    def value(self):\n",
    "        print(\"value getter\")\n",
    "        return self._value\n",
    "\n",
    "    @value.setter\n",
    "    def value(self, value):\n",
    "        print(\"value setter\")\n",
    "        if not isinstance(value, (float, int)):\n",
    "            raise TypeError(f\"value must be int or float not {type(value).__name__}\")\n",
    "        self._value = value\n",
    "\n",
    "\n",
    "# in the def __init__(self,value,unit, ...)\n",
    "#           self.value = value\n",
    "#           self.unit = unit\n",
    "\n",
    "try:\n",
    "    p1 = Prefix()\n",
    "except TypeError as err:\n",
    "    print(err)\n",
    "\n",
    "p1 = Prefix(42)\n",
    "print(p1) # the __repr__ picks the value which will run the getter\n",
    "\n",
    "\n",
    "\n"
   ]
  },
  {
   "cell_type": "code",
   "execution_count": 5,
   "metadata": {},
   "outputs": [
    {
     "name": "stdout",
     "output_type": "stream",
     "text": [
      "value setter\n"
     ]
    }
   ],
   "source": [
    "p2 = Prefix(42, \"G\")"
   ]
  },
  {
   "cell_type": "code",
   "execution_count": 6,
   "metadata": {},
   "outputs": [
    {
     "name": "stdout",
     "output_type": "stream",
     "text": [
      "value setter\n",
      "value must be int or float not property\n",
      "value setter\n",
      "value getter\n",
      "42 unit\n"
     ]
    }
   ],
   "source": [
    "from __future__ import annotations\n",
    "from dataclasses import dataclass\n",
    "\n",
    "@dataclass\n",
    "class Prefix:\n",
    "    # fields will go into the automatically generated __init__(), __repr__()\n",
    "    # fields - variable: type annotation\n",
    "    value: int|float # positional argument\n",
    "    unit: str = \"unit\" # keyword argument\n",
    "    prefix_symbol: str = None\n",
    "\n",
    "    # from dataclass we get:\n",
    "    # def __init__(self, value, unit = \"unit\", prefix_symbol = None):\n",
    "    #     self.value = value\n",
    "    #     self.unit = unit\n",
    "    #     self.prefix_symbol = prefix_symbol\n",
    "\n",
    "    # we get this __repr__ from dataclass\n",
    "    # def __repr__(self): \n",
    "    #      return f\"Prefix(value={self.value},unit='{self.unit}',prefix_symbol={self.prefix_symbol})\"\n",
    "\n",
    "    # we also get a __eq__ from dataclass \n",
    "\n",
    "    # bare class attributes, they are not in __init__ or __repr__\n",
    "    # note they don't have type annotation so they are not fields\n",
    "    symbols = \"T G M k h d c m µ n p\".split()\n",
    "    names = \"tera giga mega kilo hekto deci centi milli mikro nano piko\".split()\n",
    "    values = (10**i for i in (12,9,6,3,2,-1,-2,-3,-6,-9,-12))\n",
    "\n",
    "    # dictionary comprehension\n",
    "    # {\"T\": [10**12, \"tera\"], \"G\": [10**9, \"giga\"], ...}\n",
    "    prefix_dict = {\n",
    "        symbol: [value, name] \n",
    "        for name, symbol, value in zip(names, symbols, values)\n",
    "    }\n",
    "\n",
    "    def convert(self, symbol: str) -> float|int:\n",
    "        self.prefix_symbol = symbol\n",
    "        return self.value/self.prefix_dict[symbol][0] # dictionary lookup\n",
    "\n",
    "    # some bugs here - can't fix right now\n",
    "    def __str__(self) -> str:\n",
    "        if self.prefix_symbol:\n",
    "            return f\"{self.convert(self.prefix_symbol)}{self.prefix_symbol}{self.unit}\"\n",
    "        return f\"{self.value} {self.unit}\"\n",
    "\n",
    "    @property\n",
    "    def value(self):\n",
    "        print(\"value getter\")\n",
    "        return self._value\n",
    "\n",
    "    @value.setter\n",
    "    def value(self, value):\n",
    "        print(\"value setter\")\n",
    "        if not isinstance(value, (float, int)):\n",
    "            raise TypeError(f\"value must be int or float not {type(value).__name__}\")\n",
    "        self._value = value\n",
    "\n",
    "    \n",
    "    #def __repr__(self):\n",
    "    #    return \"Custom __repr__()\"\n",
    "\n",
    "try:\n",
    "    p1 = Prefix()\n",
    "except TypeError as err:\n",
    "    print(err)\n",
    "\n",
    "\n",
    "p1 = Prefix(42)\n",
    "print(p1) # the __repr__ picks the value which will run the getter\n",
    "# __repr__() uses the fields and not the class attributes"
   ]
  }
 ],
 "metadata": {
  "kernelspec": {
   "display_name": "Python 3.9.13 ('helvetica-vDNe7t5J')",
   "language": "python",
   "name": "python3"
  },
  "language_info": {
   "codemirror_mode": {
    "name": "ipython",
    "version": 3
   },
   "file_extension": ".py",
   "mimetype": "text/x-python",
   "name": "python",
   "nbconvert_exporter": "python",
   "pygments_lexer": "ipython3",
   "version": "3.9.13"
  },
  "orig_nbformat": 4,
  "vscode": {
   "interpreter": {
    "hash": "87963c44df63088d167d5530105c3e3af538607c5bfb8dea2d5d486a9477964e"
   }
  }
 },
 "nbformat": 4,
 "nbformat_minor": 2
}
