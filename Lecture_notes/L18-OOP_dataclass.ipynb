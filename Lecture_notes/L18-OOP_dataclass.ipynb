{
 "cells": [
  {
   "cell_type": "markdown",
   "metadata": {},
   "source": [
    "# Lecture 18 Dataclass\n",
    "ITHS/AI22 | 2022-10-05\n",
    "\n",
    "---\n",
    "\n",
    "- Gives us boilderplate code for free\n",
    "- Usually used for classes that stores a lot of data\n",
    "- In method heavy classes, dataclass might not help much\n",
    "\n",
    "gives *free*:\n",
    "- `__init__()`\n",
    "- `__repr__()`\n",
    "- `__eq__()`\n",
    "- and more"
   ]
  },
  {
   "cell_type": "code",
   "execution_count": 7,
   "metadata": {},
   "outputs": [
    {
     "name": "stdout",
     "output_type": "stream",
     "text": [
      "__init__() missing 1 required positional argument: 'value'\n"
     ]
    },
    {
     "data": {
      "text/plain": [
       "Prefix(value=42, unit='unit', prefix_symbol='None')"
      ]
     },
     "execution_count": 7,
     "metadata": {},
     "output_type": "execute_result"
    }
   ],
   "source": [
    "from __future__ import annotations\n",
    "from dataclasses import dataclass\n",
    "from sys import prefix\n",
    "\n",
    "@dataclass\n",
    "class Prefix:\n",
    "    # fields will go into the automatically generated __init__(), __repr__()\n",
    "    # fields - variable: type annotation\n",
    "    value: int | float # positional argument\n",
    "    unit: str = \"unit\" # keyword argument\n",
    "    prefix_symbol: str = \"None\"\n",
    "\n",
    "    symbols = \"T G M k h d c m µ n p\".split()\n",
    "    names = \"tera giga mega kilo hekto deci centi milli mikro nano piko\".split()\n",
    "    \n",
    "    # generator expression\n",
    "    values = (10**i for i in (12,9,6,3,2,-1,-2,-3,-6,-9,-12))\n",
    "\n",
    "    @property\n",
    "    def value(self):\n",
    "        print(\"value getter\")\n",
    "        return self._value\n",
    "\n",
    "    @value.setter\n",
    "    def value(self, value):\n",
    "        print(\"value setter\")\n",
    "        if not isinstance(value, (float, int)):\n",
    "            raise TypeError(f\"value must be int or float not {type(value).__name__}\")\n",
    "        self._value = value\n",
    "\n",
    "\n",
    "# in the def __init__(self,value,unit, ...)\n",
    "#           self.value = value\n",
    "#           self.unit = unit\n",
    "\n",
    "try:\n",
    "    p1 = Prefix()\n",
    "except TypeError as err:\n",
    "    print(err)\n",
    "\n",
    "p1 = Prefix(42)\n",
    "print(p1) # the __repr__ picks the value which will run the getter\n",
    "\n",
    "\n",
    "\n"
   ]
  },
  {
   "cell_type": "code",
   "execution_count": null,
   "metadata": {},
   "outputs": [],
   "source": []
  }
 ],
 "metadata": {
  "kernelspec": {
   "display_name": "Python 3.9.13 ('helvetica-vDNe7t5J')",
   "language": "python",
   "name": "python3"
  },
  "language_info": {
   "codemirror_mode": {
    "name": "ipython",
    "version": 3
   },
   "file_extension": ".py",
   "mimetype": "text/x-python",
   "name": "python",
   "nbconvert_exporter": "python",
   "pygments_lexer": "ipython3",
   "version": "3.9.13"
  },
  "orig_nbformat": 4,
  "vscode": {
   "interpreter": {
    "hash": "87963c44df63088d167d5530105c3e3af538607c5bfb8dea2d5d486a9477964e"
   }
  }
 },
 "nbformat": 4,
 "nbformat_minor": 2
}
