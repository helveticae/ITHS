{
 "cells": [
  {
   "cell_type": "markdown",
   "metadata": {},
   "source": [
    "# Lecture 12 - Polymorphism\n",
    "ITHS/AI22 | 2022-09-27\n",
    "\n",
    "---\n",
    "\n",
    "![](../Images/L12_OOP_vectors_poly.png)"
   ]
  },
  {
   "cell_type": "code",
   "execution_count": 1,
   "metadata": {},
   "outputs": [
    {
     "name": "stdout",
     "output_type": "stream",
     "text": [
      "len([1,23,4])=3\n",
      "len('1234')=4\n"
     ]
    }
   ],
   "source": [
    "# example with Python built-in\n",
    "print(f\"{len([1,23,4])=}\")\n",
    "print(f\"{len('1234')=}\")"
   ]
  },
  {
   "cell_type": "markdown",
   "metadata": {},
   "source": [
    "## Polymorphism in class method"
   ]
  },
  {
   "cell_type": "code",
   "execution_count": 15,
   "metadata": {},
   "outputs": [],
   "source": [
    "class Fish:\n",
    "    def __init__(self, name) -> None:\n",
    "        self.name = name\n",
    "\n",
    "    # dunder string operator overloads, (overrided) \n",
    "    def __str__(self):\n",
    "        return f\"I am a fish with name {self.name}.\"\n",
    "\n",
    "    # overrided dunder reppr\n",
    "    def __repr__(self) -> str:\n",
    "        return f\"Fish(name = '{self.name}')\"\n",
    "\n",
    "    def speak(self):\n",
    "        print(\"Blubb blubb\")\n",
    "\n",
    "\n",
    "class Fox:\n",
    "    def __init__(self,name) -> None:\n",
    "        self.name = name\n",
    "\n",
    "    def __str__(self) -> str:\n",
    "        return f\"I am a fox with name {self.name}, my sound is undefinied.\"\n",
    "\n",
    "    def speak(self):\n",
    "        return NotImplemented\n"
   ]
  },
  {
   "cell_type": "code",
   "execution_count": 10,
   "metadata": {},
   "outputs": [
    {
     "name": "stdout",
     "output_type": "stream",
     "text": [
      "I am a fish with name Guppie.\n"
     ]
    },
    {
     "data": {
      "text/plain": [
       "\"Fish(name = 'Guppie')\""
      ]
     },
     "execution_count": 10,
     "metadata": {},
     "output_type": "execute_result"
    }
   ],
   "source": [
    "fish1 = Fish(\"Guppie\")\n",
    "str(fish1)\n",
    "\n",
    "print(fish1) # looks for dunder string, message to user\n",
    "\n",
    "repr(fish1) # looks for repr, message to other developers"
   ]
  },
  {
   "cell_type": "code",
   "execution_count": 16,
   "metadata": {},
   "outputs": [
    {
     "name": "stdout",
     "output_type": "stream",
     "text": [
      "I am a fish with name Guppie.\n",
      "Blubb blubb\n",
      "I am a fox with name McCloud, my sound is undefinied.\n"
     ]
    }
   ],
   "source": [
    "fox1 = Fox(\"McCloud\")\n",
    "animals = (fish1, fox1)\n",
    "\n",
    "for animal in animals:\n",
    "    print(animal)\n",
    "    animal.speak()\n"
   ]
  },
  {
   "cell_type": "code",
   "execution_count": 26,
   "metadata": {},
   "outputs": [
    {
     "name": "stdout",
     "output_type": "stream",
     "text": [
      "Default reppr:\n"
     ]
    },
    {
     "data": {
      "text/plain": [
       "<__main__.Rabbit at 0x10b9a7af0>"
      ]
     },
     "execution_count": 26,
     "metadata": {},
     "output_type": "execute_result"
    }
   ],
   "source": [
    "class Rabbit:\n",
    "    pass\n",
    "print(\"Default reppr:\")\n",
    "Rabbit()"
   ]
  },
  {
   "cell_type": "markdown",
   "metadata": {},
   "source": [
    "## Operator overloading\n",
    "\n",
    "Creates vector instances."
   ]
  },
  {
   "cell_type": "code",
   "execution_count": 47,
   "metadata": {},
   "outputs": [
    {
     "name": "stdout",
     "output_type": "stream",
     "text": [
      "Vector(2.0, 3.0, 4.0)\n",
      "Vector cannot be empty\n",
      "(-1.0, -2.0)\n",
      "len(v3)=2\n"
     ]
    },
    {
     "data": {
      "text/plain": [
       "2.23606797749979"
      ]
     },
     "execution_count": 47,
     "metadata": {},
     "output_type": "execute_result"
    }
   ],
   "source": [
    "from __future__ import annotations # better type hinting\n",
    "import matplotlib.pyplot as plt\n",
    "\n",
    "class Vector:\n",
    "    \"\"\"A class to represent Euclidean vector with magnitude and direction\"\"\"\n",
    "\n",
    "                       #arbitrary numbers of positional arguments\n",
    "    def __init__(self, *numbers: float | int) -> None:\n",
    "\n",
    "        # validation\n",
    "        for number in numbers:\n",
    "            if not isinstance(number,(float,int)):\n",
    "                raise TypeError(f\"{number} is not a valid number. nan\")\n",
    "\n",
    "        if len(numbers) == 0:\n",
    "            raise ValueError(\"Vector cannot be empty\")\n",
    "\n",
    "                        # Generator expression\n",
    "        self._numbers = tuple(float(number) for number in numbers)\n",
    "\n",
    "    # getter\n",
    "    @property\n",
    "    def numbers(self) -> tuple:\n",
    "        \"\"\"Returns numbers\"\"\"\n",
    "        return self._numbers # -> tuple\n",
    "\n",
    "    # för att tex. addition ska funka med två vektorer:\n",
    "    # operator overload + (styr om add-operatorn)\n",
    "    def __add__(self, other: Vector) -> Vector:\n",
    "        if self.validate_vectors(other):\n",
    "            numbers = (a+b for a,b in zip(self.numbers, other.numbers))\n",
    "            return Vector(*numbers)\n",
    "\n",
    "    # operator overload - (styr om sub-operatorn)\n",
    "    def __sub__(self, other: Vector) -> Vector:\n",
    "        if self.validate_vectors(other):\n",
    "            numbers = (a-b for a,b in zip(self.numbers, other.numbers))\n",
    "            return Vector(*numbers) #*numbers => unpack elements from list or tuple\n",
    "\n",
    "    def validate_vectors(self, other: Vector) -> bool:\n",
    "        \"\"\"Validates if two vectors have same len\"\"\"\n",
    "        if not isinstance(other, Vector) or len(other) != len(self):\n",
    "            raise TypeError(\"Vectors must have same len.\")\n",
    "        return len(self) == len(other) # Return true if not TypeError\n",
    "\n",
    "    # to use len() on Vector we have overload it\n",
    "    def __len__(self) -> int:\n",
    "        \"\"\"Returns numer of elements in a Vector, not the length of the Vector\"\"\"\n",
    "        return len(self.numbers)\n",
    "\n",
    "    # [] operator overload bracket operator\n",
    "    def __getitem__(self, item: int) -> float:\n",
    "        return self.numbers[item]\n",
    "\n",
    "    # overload abs() function (abs, absolut) (norm)\n",
    "    def __abs__(self) -> float:\n",
    "        \"\"\"Returns euclidian 2nd norm\"\"\"\n",
    "        return sum(a**2 for a in self.numbers)**.5 #summera alla element i kvadrat **.5 (sqrt)\n",
    "\n",
    "    # overload * operator\n",
    "    def __mul__(self, value: float) -> Vector:\n",
    "        print(\"__mul__ called\")\n",
    "        if not isinstance(value, (int, float)):\n",
    "            raise TypeError(f\"The value must be a scalar that is int or float, not {type(value)}\")\n",
    "        numbers = (value*a for a in self.numbers)\n",
    "        return Vector(*numbers)\n",
    "\n",
    "    # overload ** pow operator\n",
    "    def __pow__(self, value: float) -> Vector:\n",
    "        print(\"__pow__ called\")\n",
    "        if not isinstance(value, (int,float)):\n",
    "            raise TypeError(f\"The value must be a scalar that is int or float, not {type(value)}\")\n",
    "        numbers = (value**a for a in self.numbers)\n",
    "        return Vector(*numbers)\n",
    "\n",
    "\n",
    "    # reflekterar multiplikationen\n",
    "    def __rmul__(self, value: float) -> Vector:\n",
    "        print(\"__rmul__ called\")\n",
    "        return self*value\n",
    "\n",
    "    def plot(self, *others: \"Vector\") -> None:\n",
    "        \"\"\"Visualize 2D vectors\"\"\"\n",
    "        X, Y = [], []\n",
    "        for vector in tuple(others):\n",
    "            if Vector.is2D(vector) and Vector.is2D(self):\n",
    "                X.append(vector[0])\n",
    "                Y.append(vector[1])\n",
    "        \n",
    "        X.append(self[0])\n",
    "        Y.append(self[1])\n",
    "        originX = originY = tuple(0 for _ in range(len(X)))\n",
    "        plt.quiver(originX, originY, X, Y, scale=1,\n",
    "                   scale_units=\"xy\", angles=\"xy\")\n",
    "        plt.xlim(-2, 10)\n",
    "        plt.ylim(-2, 10)\n",
    "        plt.xlabel(\"x\")\n",
    "        plt.ylabel(\"y\")\n",
    "        plt.title(f\"{self}, {others}\")\n",
    "        plt.grid()\n",
    "        plt.show()\n",
    "\n",
    "    # static method \n",
    "    @staticmethod\n",
    "    def is2D(vector: Vector) -> bool:\n",
    "        return len(vector) == 2 # Returns true if len = 2, else return false\n",
    "\n",
    "    def __repr__(self) -> str:\n",
    "        return f\"Vector{self._numbers}\"        \n",
    "    \n",
    "v1 = Vector(2,3,4)\n",
    "print(v1)\n",
    "\n",
    "try:\n",
    "    v2 = Vector()\n",
    "except ValueError as err:\n",
    "    print(err)\n",
    "\n",
    "v2 = Vector(-1,-2)\n",
    "print(v2.numbers)\n",
    "\n",
    "v3 = Vector(2,3)\n",
    "\n",
    "print(f\"{len(v3)=}\")\n",
    "\n",
    "\n",
    "abs(v2)\n"
   ]
  },
  {
   "cell_type": "code",
   "execution_count": 49,
   "metadata": {},
   "outputs": [
    {
     "name": "stdout",
     "output_type": "stream",
     "text": [
      "__pow__ called\n"
     ]
    },
    {
     "data": {
      "text/plain": [
       "Vector(125.0, 3125.0)"
      ]
     },
     "execution_count": 49,
     "metadata": {},
     "output_type": "execute_result"
    }
   ],
   "source": [
    "Vector(3,5)**5"
   ]
  },
  {
   "cell_type": "code",
   "execution_count": 45,
   "metadata": {},
   "outputs": [
    {
     "data": {
      "image/png": "[encoded data removed]",
      "text/plain": [
       "<Figure size 640x480 with 1 Axes>"
      ]
     },
     "metadata": {},
     "output_type": "display_data"
    }
   ],
   "source": [
    "v1 = Vector(1,2)\n",
    "v2 = Vector(3,1)\n",
    "v3 = Vector(1,2)\n",
    "\n",
    "v3.plot(v1,v2)"
   ]
  },
  {
   "cell_type": "code",
   "execution_count": 52,
   "metadata": {},
   "outputs": [
    {
     "name": "stdout",
     "output_type": "stream",
     "text": [
      "v2=Vector(-1.0, -2.0),v3=Vector(2.0, 3.0)\n",
      "Vector(1.0, 1.0)\n"
     ]
    },
    {
     "data": {
      "text/plain": [
       "Vector(1.0, 1.0)"
      ]
     },
     "execution_count": 52,
     "metadata": {},
     "output_type": "execute_result"
    }
   ],
   "source": [
    "print(f\"{v2=},{v3=}\")\n",
    "print(v2.__add__(v3))\n",
    "\n",
    "v3 + v2\n",
    "\n",
    "# addera ints, floats, strings, lists, \n",
    "\n",
    "# varje klass har definierad dunder add, olika klasser overridar på olika sätt,\n",
    "# därför funkar plusoperatorn på olika sätt (polymorphism)"
   ]
  },
  {
   "cell_type": "code",
   "execution_count": 56,
   "metadata": {},
   "outputs": [
    {
     "name": "stdout",
     "output_type": "stream",
     "text": [
      "Vector(-3.0, -5.0)\n",
      "Ayyyyy\n"
     ]
    }
   ],
   "source": [
    "print(v2-v3)\n",
    "print(\"Ayyyyy\")"
   ]
  },
  {
   "cell_type": "code",
   "execution_count": 4,
   "metadata": {},
   "outputs": [
    {
     "name": "stdout",
     "output_type": "stream",
     "text": [
      "<generator object <genexpr> at 0x10ff43b30>\n"
     ]
    },
    {
     "data": {
      "text/plain": [
       "Vector(0.0, 1.0, 2.0, 3.0, 4.0, 5.0, 6.0, 7.0, 8.0, 9.0)"
      ]
     },
     "execution_count": 4,
     "metadata": {},
     "output_type": "execute_result"
    }
   ],
   "source": [
    "# generator object\n",
    "\n",
    "gen = (i for i in range(10))\n",
    "print(gen)\n",
    "Vector(*gen)"
   ]
  },
  {
   "cell_type": "code",
   "execution_count": 15,
   "metadata": {},
   "outputs": [
    {
     "name": "stdout",
     "output_type": "stream",
     "text": [
      "1 2 3\n",
      "1 2 3\n",
      "Bulbasaur Ivysaur Venusaur Charmander Charmeleon Charizard Squirtle Wartortle Blastoise\n"
     ]
    }
   ],
   "source": [
    "def f(x1,x2,x3):\n",
    "    print(x1,x2,x3)\n",
    "\n",
    "f(1,2,3)\n",
    "\n",
    "# f([1,2,3]) => doesn't work\n",
    "\n",
    "# * framför list eller tuple = unpacking argument \n",
    "f(*[1,2,3]) # => works!\n",
    "\n",
    "# Also works with dictionary\n",
    "\n",
    "my_dict = {'Bulbasaur': 'Gräs/Gift, 1',\n",
    " 'Ivysaur': 'Gräs/Gift, 2',\n",
    " 'Venusaur': 'Gräs/Gift, 3',\n",
    " 'Charmander': 'Eld, 4',\n",
    " 'Charmeleon': 'Eld, 5',\n",
    " 'Charizard': 'Eld/Flygande, 6',\n",
    " 'Squirtle': 'Vatten, 7',\n",
    " 'Wartortle': 'Vatten, 8',\n",
    " 'Blastoise': 'Vatten, 9',\n",
    "}\n",
    "\n",
    "print(*my_dict)\n"
   ]
  },
  {
   "cell_type": "code",
   "execution_count": null,
   "metadata": {},
   "outputs": [],
   "source": [
    "isinstance(fish1)"
   ]
  },
  {
   "cell_type": "code",
   "execution_count": 61,
   "metadata": {},
   "outputs": [
    {
     "data": {
      "text/plain": [
       "(2, 3)"
      ]
     },
     "execution_count": 61,
     "metadata": {},
     "output_type": "execute_result"
    }
   ],
   "source": [
    "## cannot add 2D vector with 3D vector\n",
    "\n",
    "# works with 'def __len__'\n",
    "len(v2), len(v1)"
   ]
  },
  {
   "cell_type": "code",
   "execution_count": 6,
   "metadata": {},
   "outputs": [
    {
     "data": {
      "text/plain": [
       "Vector(2.0, 4.0)"
      ]
     },
     "execution_count": 6,
     "metadata": {},
     "output_type": "execute_result"
    }
   ],
   "source": [
    "Vector(1,2)+Vector(1,2)"
   ]
  },
  {
   "cell_type": "markdown",
   "metadata": {},
   "source": [
    "- Calling a function: arguments\n",
    "- Not calling a function: paremeters"
   ]
  },
  {
   "cell_type": "code",
   "execution_count": 7,
   "metadata": {},
   "outputs": [
    {
     "name": "stdout",
     "output_type": "stream",
     "text": [
      "Vector(4.0, 3.0)\n"
     ]
    }
   ],
   "source": [
    "v3 = Vector(1,2)\n",
    "v4 = Vector(3,1)\n",
    "\n",
    "print (v3+v4)"
   ]
  },
  {
   "cell_type": "code",
   "execution_count": 26,
   "metadata": {},
   "outputs": [],
   "source": [
    "import matplotlib.pyplot as plt\n",
    "\n",
    "def plot(self, *others: \"Vector\") -> None:\n",
    "    \"\"\" Visualize 2D vectors\"\"\"\n",
    "    X, Y = [], []\n",
    "    for vector in tuple(others):\n",
    "        if Vector.is2D(vector) and Vector.is2D(self):\n",
    "            X.append(vector[0])\n",
    "            Y.append(vector[1])\n",
    "    \n",
    "    X.append(self[0])\n",
    "    Y.append(self[1])\n",
    "    originX = originY = tuple(0 for _ in range(len(X)))\n",
    "    plt.quiver(originX, originY, X, Y, scale=1,\n",
    "               scale_units=\"xy\", angles=\"xy\")\n",
    "    plt.xlim(-2, 10)\n",
    "    plt.ylim(-2, 10)\n",
    "    plt.xlabel(\"x\")\n",
    "    plt.ylabel(\"y\")\n",
    "    plt.title(f\"{self}, {others}\")\n",
    "    plt.grid()\n",
    "    plt.show()"
   ]
  }
 ],
 "metadata": {
  "kernelspec": {
   "display_name": "Python 3.9.13 ('helvetica-vDNe7t5J')",
   "language": "python",
   "name": "python3"
  },
  "language_info": {
   "codemirror_mode": {
    "name": "ipython",
    "version": 3
   },
   "file_extension": ".py",
   "mimetype": "text/x-python",
   "name": "python",
   "nbconvert_exporter": "python",
   "pygments_lexer": "ipython3",
   "version": "3.9.13"
  },
  "orig_nbformat": 4,
  "vscode": {
   "interpreter": {
    "hash": "87963c44df63088d167d5530105c3e3af538607c5bfb8dea2d5d486a9477964e"
   }
  }
 },
 "nbformat": 4,
 "nbformat_minor": 2
}
