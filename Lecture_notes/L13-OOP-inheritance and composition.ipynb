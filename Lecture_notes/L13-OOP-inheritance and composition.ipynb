{
 "cells": [
  {
   "cell_type": "markdown",
   "metadata": {},
   "source": [
    "# Lecture 13 Inheritance & Composition\n",
    "ITHS/AI22 | 2022-09-28\n",
    "\n",
    "---"
   ]
  },
  {
   "cell_type": "code",
   "execution_count": 24,
   "metadata": {},
   "outputs": [
    {
     "name": "stdout",
     "output_type": "stream",
     "text": [
      "   233 is not a valid name.\n",
      "<oldcoins.OldCoinsStash object at 0x108aa6a00>\n"
     ]
    },
    {
     "ename": "AttributeError",
     "evalue": "'OldCoinsStash' object has no attribute 'check_balance'",
     "output_type": "error",
     "traceback": [
      "\u001b[0;31m---------------------------------------------------------------------------\u001b[0m",
      "\u001b[0;31mAttributeError\u001b[0m                            Traceback (most recent call last)",
      "Cell \u001b[0;32mIn [24], line 77\u001b[0m\n\u001b[1;32m     74\u001b[0m viking \u001b[38;5;241m=\u001b[39m Viking(\u001b[38;5;124m\"\u001b[39m\u001b[38;5;124mBlåtand\u001b[39m\u001b[38;5;124m\"\u001b[39m, \u001b[38;5;241m33\u001b[39m)\n\u001b[1;32m     76\u001b[0m \u001b[38;5;28mprint\u001b[39m(viking\u001b[38;5;241m.\u001b[39mstash)\n\u001b[0;32m---> 77\u001b[0m \u001b[38;5;28mprint\u001b[39m(\u001b[43mviking\u001b[49m\u001b[38;5;241;43m.\u001b[39;49m\u001b[43mstash\u001b[49m\u001b[38;5;241;43m.\u001b[39;49m\u001b[43mcheck_balance\u001b[49m())\n",
      "\u001b[0;31mAttributeError\u001b[0m: 'OldCoinsStash' object has no attribute 'check_balance'"
     ]
    }
   ],
   "source": [
    "import re\n",
    "from oldcoins import OldCoinsStash\n",
    "\n",
    "class Person:\n",
    "    def __init__(self, name: str, age: int) -> None:\n",
    "        self.age = age\n",
    "        self.name = name\n",
    "\n",
    "    @property\n",
    "    def age(self) -> int:\n",
    "        return self._age\n",
    "\n",
    "    @age.setter\n",
    "    def age(self,value: int) -> None:\n",
    "        if not isinstance(value, int):\n",
    "            raise TypeError(f\"Age must be int or float, not {type(value).__name__}\")\n",
    "        self._age = value\n",
    "\n",
    "    @property\n",
    "    def name(self) -> str:\n",
    "        return self._name\n",
    "\n",
    "    @name.setter\n",
    "    def name(self,value: str) -> None:\n",
    "        # searching in str with regex (bug in Regex)\n",
    "        if re.search(r\"^[A-ö]+(\\s[A-ö]+)?$\", value.strip()) is None:\n",
    "            raise ValueError(f\"{value} is not a valid name.\")\n",
    "\n",
    "        self._name = value\n",
    "\n",
    "    def say_hi(self) -> None:\n",
    "        print(f\"Person {self.name} says hi.\")\n",
    "\n",
    "\"\"\"\n",
    "    One could say...\n",
    "    Subclass inherits from Superclass\n",
    "    ChildClass inherits from ParentClass\n",
    "    DerivedClass inherits from BaseClass \"\"\"\n",
    "\n",
    "class Student(Person):\n",
    "    # override __init__()\n",
    "    def __init__(self, name: str, age: int, language: str) -> None:\n",
    "        # super() looks at parent class and uses its __init__(name, age)\n",
    "        # delegating to parent\n",
    "        super().__init__(name,age)\n",
    "        self.language = language\n",
    "\n",
    "    def say_hi(self) -> None:\n",
    "        print(f\"Student {self.name} speaks {self.language}\")\n",
    "\n",
    "class Viking(Person):\n",
    "    def __init__(self, name: str, age: int) -> None:\n",
    "        super().__init__(name, age)\n",
    "        self.stash = OldCoinsStash(self.name)\n",
    "\n",
    "\n",
    "\n",
    "\n",
    "# Student inherits from Person __init__ method\n",
    "student1 = Student(\"Berit\", 22, \"Rust\")\n",
    "\n",
    "\n",
    "try:\n",
    "    p = Person(\"   233\", 32)\n",
    "except ValueError as err:\n",
    "    print(err)\n",
    "\n",
    "# student1.language\n",
    "\n",
    "# student1 uses say_hi() overrides its parent class\n",
    "# student1.say_hi()\n",
    "\n",
    "person = Person(\"byte\", 8)\n",
    "viking = Viking(\"Blåtand\", 33)\n",
    "\n",
    "print(viking.stash)\n",
    "print(viking.stash.check_balance())"
   ]
  }
 ],
 "metadata": {
  "kernelspec": {
   "display_name": "Python 3.9.13 ('helvetica-vDNe7t5J')",
   "language": "python",
   "name": "python3"
  },
  "language_info": {
   "codemirror_mode": {
    "name": "ipython",
    "version": 3
   },
   "file_extension": ".py",
   "mimetype": "text/x-python",
   "name": "python",
   "nbconvert_exporter": "python",
   "pygments_lexer": "ipython3",
   "version": "3.9.13"
  },
  "orig_nbformat": 4,
  "vscode": {
   "interpreter": {
    "hash": "87963c44df63088d167d5530105c3e3af538607c5bfb8dea2d5d486a9477964e"
   }
  }
 },
 "nbformat": 4,
 "nbformat_minor": 2
}
